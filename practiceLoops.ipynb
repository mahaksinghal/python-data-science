{
 "cells": [
  {
   "cell_type": "markdown",
   "metadata": {},
   "source": [
    "### Write a program to print numbers from 1 to 10 using a for loop."
   ]
  },
  {
   "cell_type": "code",
   "execution_count": 1,
   "metadata": {},
   "outputs": [
    {
     "name": "stdout",
     "output_type": "stream",
     "text": [
      "1 2 3 4 5 6 7 8 9 10 "
     ]
    }
   ],
   "source": [
    "for i in range(1,11):\n",
    "    print(i, end = \" \")"
   ]
  },
  {
   "cell_type": "markdown",
   "metadata": {},
   "source": [
    "### Write a program to print the multiplication table of a given number using a while loop."
   ]
  },
  {
   "cell_type": "code",
   "execution_count": 43,
   "metadata": {},
   "outputs": [
    {
     "name": "stdout",
     "output_type": "stream",
     "text": [
      "2 * 1 = 2\n",
      "2 * 2 = 4\n",
      "2 * 3 = 6\n",
      "2 * 4 = 8\n",
      "2 * 5 = 10\n",
      "2 * 6 = 12\n",
      "2 * 7 = 14\n",
      "2 * 8 = 16\n",
      "2 * 9 = 18\n",
      "2 * 10 = 20\n"
     ]
    }
   ],
   "source": [
    "num = 2\n",
    "i = 1\n",
    "while i<=10:\n",
    "    print(f'{num} * {i} = {num*i}')\n",
    "    i += 1"
   ]
  },
  {
   "cell_type": "markdown",
   "metadata": {},
   "source": [
    "### Write a program to find the sum of all even numbers between 1 and 100 using a for loop."
   ]
  },
  {
   "cell_type": "code",
   "execution_count": 15,
   "metadata": {},
   "outputs": [
    {
     "name": "stdout",
     "output_type": "stream",
     "text": [
      "sum of even numbers from 1 to 100 is 2550\n"
     ]
    }
   ],
   "source": [
    "sum = 0\n",
    "for i in range(0, 101):\n",
    "    if (i%2 == 0):\n",
    "        sum = sum + i\n",
    "print(f'sum of even numbers from 1 to 100 is {sum}')"
   ]
  },
  {
   "cell_type": "code",
   "execution_count": 16,
   "metadata": {},
   "outputs": [
    {
     "name": "stdout",
     "output_type": "stream",
     "text": [
      "sum of even numbers from 1 to 100 is 2550\n"
     ]
    }
   ],
   "source": [
    "sum = 0\n",
    "for i in range(0, 101, 2):\n",
    "    sum = sum + i\n",
    "print(f'sum of even numbers from 1 to 100 is {sum}')"
   ]
  },
  {
   "cell_type": "markdown",
   "metadata": {},
   "source": [
    "### Write a program to check if a given number is prime or not using a while loop."
   ]
  },
  {
   "cell_type": "code",
   "execution_count": 18,
   "metadata": {},
   "outputs": [
    {
     "name": "stdout",
     "output_type": "stream",
     "text": [
      "Number is prime\n"
     ]
    }
   ],
   "source": [
    "i = 2\n",
    "flag = True\n",
    "num = int(input(\"Enter the number\"))\n",
    "while i<num:\n",
    "    if num % i == 0:\n",
    "        flag = False\n",
    "    i += 1\n",
    "if flag:\n",
    "    print(\"Number is prime\")\n",
    "else:\n",
    "    print(\"Number is not prime\")"
   ]
  },
  {
   "cell_type": "markdown",
   "metadata": {},
   "source": [
    "### Write a program to calculate the factorial of a number using a for loop."
   ]
  },
  {
   "cell_type": "code",
   "execution_count": 23,
   "metadata": {},
   "outputs": [
    {
     "name": "stdout",
     "output_type": "stream",
     "text": [
      "120\n"
     ]
    }
   ],
   "source": [
    "num = int(input(\"Enter the number\"))\n",
    "product = 1\n",
    "for i in range(1, num+1):\n",
    "    product *= i\n",
    "print(product)\n"
   ]
  },
  {
   "cell_type": "markdown",
   "metadata": {},
   "source": [
    "### Write a program to print the Fibonacci series up to a given limit using a while loop."
   ]
  },
  {
   "cell_type": "code",
   "execution_count": 30,
   "metadata": {},
   "outputs": [
    {
     "name": "stdout",
     "output_type": "stream",
     "text": [
      "0 "
     ]
    }
   ],
   "source": [
    "# limit = int(input(\"Enter the limit\"))\n",
    "i = 0\n",
    "# while i<=limit:\n",
    "print(i, end = \" \")\n",
    "    "
   ]
  },
  {
   "cell_type": "markdown",
   "metadata": {},
   "source": [
    "### Write a program to find the largest element in an array using a for loop."
   ]
  },
  {
   "cell_type": "code",
   "execution_count": 46,
   "metadata": {},
   "outputs": [
    {
     "name": "stdout",
     "output_type": "stream",
     "text": [
      "the largest number is 76\n"
     ]
    }
   ],
   "source": [
    "arr = [1,2,7,3,9,4,11,76,24,64]\n",
    "j = 0\n",
    "for i in arr:\n",
    "        if i>j:\n",
    "            j = i\n",
    "        # else:\n",
    "        #     continue\n",
    "print(f'the largest number is {j}')\n"
   ]
  },
  {
   "cell_type": "markdown",
   "metadata": {},
   "source": [
    "### Write a program to reverse a given string using a while loop."
   ]
  },
  {
   "cell_type": "code",
   "execution_count": null,
   "metadata": {},
   "outputs": [],
   "source": [
    "str = 'Mahak'\n",
    "while str:\n",
    "    "
   ]
  },
  {
   "cell_type": "markdown",
   "metadata": {},
   "source": [
    "### Write a program to print the ASCII values of all uppercase letters using a for loop."
   ]
  },
  {
   "cell_type": "code",
   "execution_count": 39,
   "metadata": {},
   "outputs": [
    {
     "name": "stdout",
     "output_type": "stream",
     "text": [
      "Character: A, ASCII Value: 65\n",
      "Character: B, ASCII Value: 66\n",
      "Character: C, ASCII Value: 67\n",
      "Character: D, ASCII Value: 68\n",
      "Character: E, ASCII Value: 69\n",
      "Character: F, ASCII Value: 70\n",
      "Character: G, ASCII Value: 71\n",
      "Character: H, ASCII Value: 72\n",
      "Character: I, ASCII Value: 73\n",
      "Character: J, ASCII Value: 74\n",
      "Character: K, ASCII Value: 75\n",
      "Character: L, ASCII Value: 76\n",
      "Character: M, ASCII Value: 77\n",
      "Character: N, ASCII Value: 78\n",
      "Character: O, ASCII Value: 79\n",
      "Character: P, ASCII Value: 80\n",
      "Character: Q, ASCII Value: 81\n",
      "Character: R, ASCII Value: 82\n",
      "Character: S, ASCII Value: 83\n",
      "Character: T, ASCII Value: 84\n",
      "Character: U, ASCII Value: 85\n",
      "Character: V, ASCII Value: 86\n",
      "Character: W, ASCII Value: 87\n",
      "Character: X, ASCII Value: 88\n",
      "Character: Y, ASCII Value: 89\n",
      "Character: Z, ASCII Value: 90\n"
     ]
    }
   ],
   "source": [
    "for i in range(65, 91):\n",
    "    print(f'Character: {chr(i)}, ASCII Value: {i}')"
   ]
  },
  {
   "cell_type": "markdown",
   "metadata": {},
   "source": [
    "### Write a program to check if a given string is a palindrome using a while loop. "
   ]
  },
  {
   "cell_type": "code",
   "execution_count": null,
   "metadata": {},
   "outputs": [],
   "source": []
  },
  {
   "cell_type": "markdown",
   "metadata": {},
   "source": [
    "### Write a program to calculate the average of a list of numbers using a for loop."
   ]
  },
  {
   "cell_type": "code",
   "execution_count": 42,
   "metadata": {},
   "outputs": [
    {
     "name": "stdout",
     "output_type": "stream",
     "text": [
      "10.0\n"
     ]
    }
   ],
   "source": [
    "l1 = [1,5,3,8,4,9]\n",
    "for i in l1:\n",
    "    sum += i\n",
    "    avg = sum/len(l1)\n",
    "print(avg)"
   ]
  },
  {
   "cell_type": "markdown",
   "metadata": {},
   "source": [
    "### Write a program to find the smallest element in an array using a while loop."
   ]
  },
  {
   "cell_type": "code",
   "execution_count": 53,
   "metadata": {},
   "outputs": [],
   "source": [
    "# arr = [1,2,7,3,9,4,11,76,24,64]\n",
    "# i, j = 0, 0\n",
    "# while i < len(arr):\n",
    "#     if arr[i]>arr[j]:\n",
    "#         j=i\n",
    "#         # print(f'The smallest element is {arr[i]}')\n",
    "#     i += 1\n",
    "# print(f'The smallest element is {arr[i]}')"
   ]
  },
  {
   "cell_type": "markdown",
   "metadata": {},
   "source": [
    "### Write a program to calculate the sum of digits of a number using a for loop."
   ]
  },
  {
   "cell_type": "code",
   "execution_count": null,
   "metadata": {},
   "outputs": [],
   "source": []
  }
 ],
 "metadata": {
  "kernelspec": {
   "display_name": "base",
   "language": "python",
   "name": "python3"
  },
  "language_info": {
   "codemirror_mode": {
    "name": "ipython",
    "version": 3
   },
   "file_extension": ".py",
   "mimetype": "text/x-python",
   "name": "python",
   "nbconvert_exporter": "python",
   "pygments_lexer": "ipython3",
   "version": "3.11.4"
  }
 },
 "nbformat": 4,
 "nbformat_minor": 2
}
