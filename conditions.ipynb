{
 "cells": [
  {
   "cell_type": "markdown",
   "metadata": {},
   "source": [
    "### Conditions\n",
    "- if\n",
    "- if else\n",
    "- if elif else ladder (conditional ladder)\n",
    "- `nested conditions`\n",
    "- match case"
   ]
  },
  {
   "cell_type": "code",
   "execution_count": 7,
   "metadata": {},
   "outputs": [
    {
     "name": "stdout",
     "output_type": "stream",
     "text": [
      "yes\n",
      "end\n"
     ]
    }
   ],
   "source": [
    "x = 10\n",
    "if x > 5:\n",
    "    print('yes')\n",
    "print('end')"
   ]
  },
  {
   "cell_type": "code",
   "execution_count": null,
   "metadata": {},
   "outputs": [],
   "source": [
    "p = int(input())\n",
    "r = int(input())\n",
    "t = int(input())\n",
    "si = (p*r*t)/100\n",
    "print(si)"
   ]
  },
  {
   "cell_type": "code",
   "execution_count": null,
   "metadata": {},
   "outputs": [],
   "source": [
    "p = int(input())\n",
    "t = int(input())\n",
    "if p>=15000:\n",
    "    r = 3\n",
    "else:\n",
    "    r = 4\n",
    "si = (p*r*t)/100\n",
    "print(si)"
   ]
  },
  {
   "cell_type": "code",
   "execution_count": 8,
   "metadata": {},
   "outputs": [
    {
     "name": "stdout",
     "output_type": "stream",
     "text": [
      "x is greater than 20\n"
     ]
    }
   ],
   "source": [
    "x = 100\n",
    "if x > 20:\n",
    "    print(\"x is greater than 20\")\n",
    "if x < -20:\n",
    "    print('x is greater than -20')"
   ]
  },
  {
   "cell_type": "code",
   "execution_count": 10,
   "metadata": {},
   "outputs": [
    {
     "name": "stdout",
     "output_type": "stream",
     "text": [
      "a+b is greater than 5\n"
     ]
    }
   ],
   "source": [
    "a, b = 2, 5\n",
    "if a+b > 10:\n",
    "    print('a+b is greater than 10')\n",
    "elif a+b > 5:\n",
    "    print(\"a+b is greater than 5\")\n",
    "elif a+b > 0:\n",
    "    print('a+b is greater than 0')\n",
    "elif a > 10:\n",
    "    print('a is greater than 10')"
   ]
  },
  {
   "cell_type": "code",
   "execution_count": 14,
   "metadata": {},
   "outputs": [
    {
     "name": "stdout",
     "output_type": "stream",
     "text": [
      "0\n"
     ]
    }
   ],
   "source": [
    "bs = int(input())\n",
    "if bs>25000:\n",
    "    hra = 0.3 * bs\n",
    "    da = .95 * bs\n",
    "    print(da+hra+bs)\n",
    "elif bs>20000:\n",
    "    hra = 0.25 * bs\n",
    "    da = .90 * bs\n",
    "    print(da+hra+bs)\n",
    "elif bs>15000:\n",
    "    hra = 0.2 * bs\n",
    "    da = .85 * bs\n",
    "    print(da+hra+bs)\n",
    "else:\n",
    "    hra = 0\n",
    "    da = 0\n",
    "    print(da+hra+bs)"
   ]
  },
  {
   "cell_type": "code",
   "execution_count": 16,
   "metadata": {},
   "outputs": [
    {
     "name": "stdout",
     "output_type": "stream",
     "text": [
      "i dont know you\n"
     ]
    }
   ],
   "source": [
    "name = input(\"Enter your name\")\n",
    "match(name):\n",
    "    case 'ajay':\n",
    "        print(\"Welcome\")\n",
    "    case 'vijay' | 'anuj':\n",
    "        print(\"you are caterer\")\n",
    "    case \"rahul\":\n",
    "        print(\"you are not allowed\")\n",
    "    case _:\n",
    "        print('i dont know you')"
   ]
  },
  {
   "cell_type": "code",
   "execution_count": 18,
   "metadata": {},
   "outputs": [
    {
     "name": "stdout",
     "output_type": "stream",
     "text": [
      "invalid password\n"
     ]
    }
   ],
   "source": [
    "username = input(\"enter your username\")\n",
    "password = input(\"enter your password\")\n",
    "if len(username) > 0:\n",
    "    if len(password) > 0:\n",
    "        if username == 'zaid':\n",
    "            if password == 'adim':  \n",
    "                print(\"Welcome zaid\")\n",
    "            else:\n",
    "                print('invalid password')\n",
    "        else:\n",
    "            print('invalid username')\n",
    "    else:\n",
    "        print('password required')\n",
    "else:\n",
    "    print('username required')\n",
    "    \n"
   ]
  },
  {
   "cell_type": "code",
   "execution_count": 20,
   "metadata": {},
   "outputs": [
    {
     "name": "stdout",
     "output_type": "stream",
     "text": [
      "name too big\n"
     ]
    }
   ],
   "source": [
    "name = input(\"Enter your name\")\n",
    "# ternary conditional operator\n",
    "# <exp1> if <condition> else <exp2>\n",
    "print('name too big' if len(name)>10 else \"name ok\")"
   ]
  },
  {
   "cell_type": "code",
   "execution_count": 22,
   "metadata": {},
   "outputs": [
    {
     "name": "stdout",
     "output_type": "stream",
     "text": [
      "even\n"
     ]
    }
   ],
   "source": [
    "x = 100\n",
    "print(\"even\" if x%2==0 else \"odd\")"
   ]
  }
 ],
 "metadata": {
  "kernelspec": {
   "display_name": "base",
   "language": "python",
   "name": "python3"
  },
  "language_info": {
   "codemirror_mode": {
    "name": "ipython",
    "version": 3
   },
   "file_extension": ".py",
   "mimetype": "text/x-python",
   "name": "python",
   "nbconvert_exporter": "python",
   "pygments_lexer": "ipython3",
   "version": "3.11.4"
  },
  "orig_nbformat": 4
 },
 "nbformat": 4,
 "nbformat_minor": 2
}
