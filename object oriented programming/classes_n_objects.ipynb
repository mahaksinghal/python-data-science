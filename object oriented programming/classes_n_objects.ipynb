{
 "cells": [
  {
   "cell_type": "code",
   "execution_count": 7,
   "metadata": {},
   "outputs": [],
   "source": [
    "# class is a blueprint\n",
    "class Person:\n",
    "    # attributes\n",
    "    name: str\n",
    "    age: int\n",
    "    # method  --> instance method with self keyword\n",
    "    def info(self):\n",
    "        print(f'Name: {self.name}\\nAge: {self.age}')"
   ]
  },
  {
   "cell_type": "code",
   "execution_count": 8,
   "metadata": {},
   "outputs": [
    {
     "name": "stdout",
     "output_type": "stream",
     "text": [
      "Name: John\n",
      "Age: 36\n",
      "Name: Merry\n",
      "Age: 30\n"
     ]
    }
   ],
   "source": [
    "# object is the instance of the class\n",
    "p1 = Person()       # object instantiation or object creation\n",
    "p1.name = \"John\"\n",
    "p1.age = 36\n",
    "# print(p1.name, p1.age)\n",
    "p1.info()\n",
    "p2 = Person()\n",
    "p2.name = \"Merry\"\n",
    "p2.age = 30\n",
    "# print(p2.age, p2.name)\n",
    "p2.info()"
   ]
  },
  {
   "cell_type": "code",
   "execution_count": 9,
   "metadata": {},
   "outputs": [
    {
     "name": "stdout",
     "output_type": "stream",
     "text": [
      "Constructor\n"
     ]
    }
   ],
   "source": [
    "class Mobile:\n",
    "    def __init__(self):\n",
    "        print(\"Constructor\")\n",
    "\n",
    "m = Mobile()"
   ]
  },
  {
   "cell_type": "code",
   "execution_count": 18,
   "metadata": {},
   "outputs": [
    {
     "name": "stdout",
     "output_type": "stream",
     "text": [
      "Iphone 15, Apple, 100000, 128, 6, Black\n",
      "Galaxy s23, Samsung, 80000, 256, 8, White\n",
      "OnePlus 9, OnePlus, 60000, 128, 8, Blue\n",
      "Mi 11, Xiaomi, 50000, 128, 8, Blue\n"
     ]
    }
   ],
   "source": [
    "class Mobile:\n",
    "    def __init__(self, m, b, p, storage, ram, color):\n",
    "        # print(\"Constructor\")\n",
    "        self.model = m\n",
    "        self.brand = b\n",
    "        self.price = p\n",
    "        self.storage = storage\n",
    "        self.ram = ram\n",
    "        self.color = color\n",
    "    # def output(self):\n",
    "    #     print(f'Model: {self.model}')\n",
    "        \n",
    "    def __str__(self) -> str:\n",
    "        return f\"{self.model}, {self.brand}, {self.price}, {self.storage}, {self.ram}, {self.color}\"\n",
    "\n",
    "m1 = Mobile('Iphone 15', 'Apple', 100000, 128, 6, 'Black')\n",
    "m2 = Mobile('Galaxy s23', 'Samsung', 80000, 256, 8, 'White')\n",
    "m3 = Mobile('OnePlus 9', 'OnePlus', 60000, 128, 8, 'Blue')\n",
    "m4 = Mobile('Mi 11', 'Xiaomi', 50000, 128, 8, \"Blue\")\n",
    "# print(m.model)\n",
    "# m1.output()\n",
    "print(m1)\n",
    "print(m2)\n",
    "print(m3)\n",
    "print(m4)"
   ]
  },
  {
   "cell_type": "code",
   "execution_count": 19,
   "metadata": {},
   "outputs": [],
   "source": [
    "# data class -> special class in python\n",
    "from dataclasses  import dataclass\n",
    "\n",
    "@dataclass\n",
    "class Employee:\n",
    "    fname: str\n",
    "    lname: str\n",
    "    designation: str"
   ]
  },
  {
   "cell_type": "code",
   "execution_count": 21,
   "metadata": {},
   "outputs": [
    {
     "name": "stdout",
     "output_type": "stream",
     "text": [
      "Employee(fname='John', lname='Smith', designation='Manager')\n",
      "Employee(fname='Mary', lname='Jane', designation='Developer')\n",
      "Employee(fname='Bob', lname='Marley', designation='Tester')\n"
     ]
    }
   ],
   "source": [
    "e1 = Employee(\"John\", \"Smith\", \"Manager\")\n",
    "e2 = Employee(\"Mary\", \"Jane\", \"Developer\")\n",
    "e3 = Employee(\"Bob\", \"Marley\", \"Tester\")\n",
    "print(e1)\n",
    "print(e2)\n",
    "print(e3)"
   ]
  },
  {
   "cell_type": "code",
   "execution_count": 25,
   "metadata": {},
   "outputs": [],
   "source": [
    "# parent class\n",
    "class Person:\n",
    "    def __init__(self, name, age):\n",
    "        self.name = name\n",
    "        self.age = age\n",
    "    def __str__(self) -> str:\n",
    "        return f\"Name: {self.name}, Age: {self.age}\"\n",
    "\n",
    "# child class -> inherits from parent class\n",
    "class Student(Person):\n",
    "    def __init__(self, name, age, klass, college):\n",
    "        super().__init__(name, age)\n",
    "        self.klass = klass\n",
    "        self.college = college\n",
    "\n",
    "class Scholar(Student):\n",
    "    def __init__(self, name, age, klass, college, research, guide):\n",
    "        super().__init__(name, age, klass, college)\n",
    "        self.research = research\n",
    "        self.guide = guide\n"
   ]
  },
  {
   "cell_type": "code",
   "execution_count": 26,
   "metadata": {},
   "outputs": [
    {
     "name": "stdout",
     "output_type": "stream",
     "text": [
      "Name: John, Age: 36\n"
     ]
    }
   ],
   "source": [
    "p = Person('John', 36)\n",
    "# s = Student('Mary', 30, 12, \"ABC College\")\n",
    "# sch = Scholar('Bob', 25, 10, 'XYZ College', 'AI', \"Dr. X\")\n",
    "print(p)\n",
    "# print(s)\n",
    "# print(sch)\n"
   ]
  }
 ],
 "metadata": {
  "kernelspec": {
   "display_name": "base",
   "language": "python",
   "name": "python3"
  },
  "language_info": {
   "codemirror_mode": {
    "name": "ipython",
    "version": 3
   },
   "file_extension": ".py",
   "mimetype": "text/x-python",
   "name": "python",
   "nbconvert_exporter": "python",
   "pygments_lexer": "ipython3",
   "version": "3.11.4"
  }
 },
 "nbformat": 4,
 "nbformat_minor": 2
}
