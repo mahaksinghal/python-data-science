{
 "cells": [
  {
   "cell_type": "markdown",
   "metadata": {},
   "source": [
    "### user defined functions\n",
    "--> on the basics of signature functions can be divided into \n",
    "1. No argument no return type (game programming mostly)\n",
    "2. No argument with return type \n",
    "3. With argument no return type\n",
    "4. With argument with return type\n",
    "5. Lambda functions (anonymous function)"
   ]
  },
  {
   "cell_type": "markdown",
   "metadata": {},
   "source": [
    "*conventions for making a function*\n",
    "- func name should be in lower case\n",
    "- func should never take input from user\n",
    "- dont use print function to display result from func, prefer returning value\n",
    "- functions must be defined before calling\n",
    "- func should be called after they have been defined to actually execute them"
   ]
  },
  {
   "cell_type": "code",
   "execution_count": 1,
   "metadata": {},
   "outputs": [
    {
     "name": "stdout",
     "output_type": "stream",
     "text": [
      "Welcome to python functions\n"
     ]
    }
   ],
   "source": [
    "def welcome():\n",
    "    '''a function that welcomes users'''           # docstring\n",
    "    print(\"Welcome to python functions\")\n",
    "\n",
    "welcome()"
   ]
  },
  {
   "cell_type": "code",
   "execution_count": 2,
   "metadata": {},
   "outputs": [
    {
     "name": "stdout",
     "output_type": "stream",
     "text": [
      "Welcome to python functions\n",
      "Welcome to python functions\n",
      "Welcome to python functions\n"
     ]
    }
   ],
   "source": [
    "for i in range(3):\n",
    "    welcome()"
   ]
  },
  {
   "cell_type": "code",
   "execution_count": 25,
   "metadata": {},
   "outputs": [
    {
     "name": "stdout",
     "output_type": "stream",
     "text": [
      "詬 苖 矦 赑 琇 辭 豟 獓 繴 儙 "
     ]
    }
   ],
   "source": [
    "def get_random_letter():\n",
    "    import random \n",
    "    # code = random.randint(0,256)\n",
    "    # code = random.randint(2304,2432)\n",
    "    code = random.randint(0x4e00, 0x9fff)       # hexadecimal numbers\n",
    "    return chr(code)\n",
    "\n",
    "for i in range(10):\n",
    "    print(get_random_letter(), end = \" \")"
   ]
  },
  {
   "cell_type": "code",
   "execution_count": 26,
   "metadata": {},
   "outputs": [
    {
     "data": {
      "text/plain": [
       "'廢 ye chinese language hai'"
      ]
     },
     "execution_count": 26,
     "metadata": {},
     "output_type": "execute_result"
    }
   ],
   "source": [
    "get_random_letter() + ' ye chinese language hai'"
   ]
  },
  {
   "cell_type": "code",
   "execution_count": 27,
   "metadata": {},
   "outputs": [
    {
     "data": {
      "text/plain": [
       "'傥傥傥傥傥'"
      ]
     },
     "execution_count": 27,
     "metadata": {},
     "output_type": "execute_result"
    }
   ],
   "source": [
    "get_random_letter() * 5"
   ]
  },
  {
   "cell_type": "code",
   "execution_count": 29,
   "metadata": {},
   "outputs": [
    {
     "name": "stdout",
     "output_type": "stream",
     "text": [
      "1000.0\n"
     ]
    }
   ],
   "source": [
    "def simple_interest(p, r, t):\n",
    "    return p*r*t/100\n",
    "\n",
    "ans = simple_interest(10000, 5, 2)\n",
    "print(ans)"
   ]
  },
  {
   "cell_type": "code",
   "execution_count": 30,
   "metadata": {},
   "outputs": [
    {
     "data": {
      "text/plain": [
       "2000.0"
      ]
     },
     "execution_count": 30,
     "metadata": {},
     "output_type": "execute_result"
    }
   ],
   "source": [
    "simple_interest(p=20000, r=2, t=5)"
   ]
  },
  {
   "cell_type": "code",
   "execution_count": 32,
   "metadata": {},
   "outputs": [
    {
     "data": {
      "text/plain": [
       "50000.0"
      ]
     },
     "execution_count": 32,
     "metadata": {},
     "output_type": "execute_result"
    }
   ],
   "source": [
    "a = 100000\n",
    "b = 5\n",
    "c = 10\n",
    "simple_interest(a, b, c)"
   ]
  },
  {
   "cell_type": "code",
   "execution_count": null,
   "metadata": {},
   "outputs": [],
   "source": []
  }
 ],
 "metadata": {
  "kernelspec": {
   "display_name": "base",
   "language": "python",
   "name": "python3"
  },
  "language_info": {
   "codemirror_mode": {
    "name": "ipython",
    "version": 3
   },
   "file_extension": ".py",
   "mimetype": "text/x-python",
   "name": "python",
   "nbconvert_exporter": "python",
   "pygments_lexer": "ipython3",
   "version": "3.11.4"
  }
 },
 "nbformat": 4,
 "nbformat_minor": 2
}
