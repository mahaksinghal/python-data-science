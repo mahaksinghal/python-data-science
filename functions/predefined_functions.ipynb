{
 "cells": [
  {
   "cell_type": "markdown",
   "metadata": {},
   "source": [
    "## predefined \n",
    "    - builtins func\n",
    "    - func from modules (libraries)\n",
    "    - func from 3rd party module(open source libraries)"
   ]
  },
  {
   "cell_type": "markdown",
   "metadata": {},
   "source": [
    "## python modules\n",
    "    - math\n",
    "    - random\n",
    "    - os\n",
    "    - datetime"
   ]
  },
  {
   "cell_type": "markdown",
   "metadata": {},
   "source": [
    "importing libraries\n",
    "- loading the module directly\n",
    "`import module_name`\n",
    "- loading all items from the module\n",
    "`from module import *`\n",
    "- loading specific func from module'\n",
    "`from module import func`\n",
    "- loading specific func from module with alias\n",
    "`from module import func as alias`\n",
    "- loading module as alias\n",
    "`import module as alias`"
   ]
  },
  {
   "cell_type": "code",
   "execution_count": 1,
   "metadata": {},
   "outputs": [
    {
     "name": "stdout",
     "output_type": "stream",
     "text": [
      "5.0\n",
      "3.1622776601683795\n"
     ]
    }
   ],
   "source": [
    "import math\n",
    "\n",
    "print(math.hypot(3,4))\n",
    "print(math.sqrt(10))"
   ]
  },
  {
   "cell_type": "code",
   "execution_count": 13,
   "metadata": {},
   "outputs": [
    {
     "name": "stdout",
     "output_type": "stream",
     "text": [
      "5.0\n",
      "10.5\n",
      "-0.5440211108893698\n"
     ]
    }
   ],
   "source": [
    "from math import *\n",
    "print(hypot(3,4))   # hypotenuse\n",
    "print(fabs(-10.5))\n",
    "print(sin(10))"
   ]
  },
  {
   "cell_type": "code",
   "execution_count": 7,
   "metadata": {},
   "outputs": [],
   "source": [
    "from requests import get"
   ]
  },
  {
   "cell_type": "code",
   "execution_count": null,
   "metadata": {},
   "outputs": [],
   "source": [
    "a = (get('https://www.google.com/search?q=python').text)\n",
    "print(a)\n",
    "# print(get('https://www.google.com/search?q=python').text)"
   ]
  },
  {
   "cell_type": "code",
   "execution_count": 16,
   "metadata": {},
   "outputs": [
    {
     "data": {
      "text/plain": [
       "53"
      ]
     },
     "execution_count": 16,
     "metadata": {},
     "output_type": "execute_result"
    }
   ],
   "source": [
    "from random import randint as ri\n",
    "\n",
    "ri(1,200)"
   ]
  },
  {
   "cell_type": "code",
   "execution_count": 17,
   "metadata": {},
   "outputs": [],
   "source": [
    "from os.path import getsize as size"
   ]
  },
  {
   "cell_type": "code",
   "execution_count": 19,
   "metadata": {},
   "outputs": [
    {
     "data": {
      "text/plain": [
       "8388"
      ]
     },
     "execution_count": 19,
     "metadata": {},
     "output_type": "execute_result"
    }
   ],
   "source": [
    "sizeinbytes = size('builtin.ipynb')   # answer will be in bytes"
   ]
  },
  {
   "cell_type": "code",
   "execution_count": 24,
   "metadata": {},
   "outputs": [
    {
     "name": "stdout",
     "output_type": "stream",
     "text": [
      "8.19140625\n",
      "0.007999420166015625\n"
     ]
    }
   ],
   "source": [
    "# sizeinbytes = size('builtin.ipynb')\n",
    "sizeinkb = sizeinbytes/1024\n",
    "sizeinmb = sizeinbytes/(1024*1024)\n",
    "print(sizeinkb)\n",
    "print(sizeinmb)"
   ]
  },
  {
   "cell_type": "code",
   "execution_count": 25,
   "metadata": {},
   "outputs": [],
   "source": [
    "import math\n",
    "import random\n",
    "import os\n",
    "import datetime as dt"
   ]
  },
  {
   "cell_type": "code",
   "execution_count": 38,
   "metadata": {},
   "outputs": [
    {
     "name": "stdout",
     "output_type": "stream",
     "text": [
      "7.38905609893065\n",
      "2.302585092994046\n",
      "1.0\n",
      "3628800\n",
      "1\n"
     ]
    }
   ],
   "source": [
    "print(math.exp(2))\n",
    "print(math.log(10))\n",
    "print(math.log(10,10))\n",
    "print(math.factorial(10))\n",
    "print(math.gcd(10,5,7))"
   ]
  },
  {
   "cell_type": "code",
   "execution_count": 50,
   "metadata": {},
   "outputs": [
    {
     "name": "stdout",
     "output_type": "stream",
     "text": [
      "0.6394267984578837\n",
      "1\n",
      "[8, 7, 3, 10, 1, 6, 2, 9, 4, 5]\n",
      "8\n",
      "[8, 3, 6]\n",
      "[8, 4, 10]\n"
     ]
    }
   ],
   "source": [
    "random.seed(42)\n",
    "print(random.random())      # gives the value between 0 and 1\n",
    "print(random.randint(1,10))      \n",
    "nums = [1,2,3,4,5,6,7,8,9,10]\n",
    "random.shuffle(nums)\n",
    "print(nums)\n",
    "print(random.choice(nums))\n",
    "print(random.choices(nums, k=3))\n",
    "print(random.sample(nums, k=3))\n",
    "# print(random.uniform(1,10))"
   ]
  },
  {
   "cell_type": "code",
   "execution_count": 53,
   "metadata": {},
   "outputs": [
    {
     "data": {
      "text/plain": [
       "datetime.datetime(2023, 10, 27, 19, 49, 16, 997669)"
      ]
     },
     "execution_count": 53,
     "metadata": {},
     "output_type": "execute_result"
    }
   ],
   "source": [
    "dt.datetime.now()"
   ]
  },
  {
   "cell_type": "code",
   "execution_count": 56,
   "metadata": {},
   "outputs": [
    {
     "data": {
      "text/plain": [
       "1698416453.47753"
      ]
     },
     "execution_count": 56,
     "metadata": {},
     "output_type": "execute_result"
    }
   ],
   "source": [
    "dt.datetime.timestamp(dt.datetime.now())      # seconds till now from 1970 "
   ]
  },
  {
   "cell_type": "code",
   "execution_count": 57,
   "metadata": {},
   "outputs": [
    {
     "data": {
      "text/plain": [
       "datetime.date(2023, 10, 27)"
      ]
     },
     "execution_count": 57,
     "metadata": {},
     "output_type": "execute_result"
    }
   ],
   "source": [
    "dt.datetime.now().date()"
   ]
  },
  {
   "cell_type": "code",
   "execution_count": 58,
   "metadata": {},
   "outputs": [
    {
     "data": {
      "text/plain": [
       "datetime.time(19, 51, 21, 357834)"
      ]
     },
     "execution_count": 58,
     "metadata": {},
     "output_type": "execute_result"
    }
   ],
   "source": [
    "dt.datetime.now().time()"
   ]
  },
  {
   "cell_type": "code",
   "execution_count": 64,
   "metadata": {},
   "outputs": [
    {
     "data": {
      "text/plain": [
       "'19 : 53'"
      ]
     },
     "execution_count": 64,
     "metadata": {},
     "output_type": "execute_result"
    }
   ],
   "source": [
    "cur = dt.datetime.now()\n",
    "cur.strftime(\"%H : %M\")"
   ]
  },
  {
   "cell_type": "code",
   "execution_count": 65,
   "metadata": {},
   "outputs": [
    {
     "data": {
      "text/plain": [
       "'Time 19 : 53'"
      ]
     },
     "execution_count": 65,
     "metadata": {},
     "output_type": "execute_result"
    }
   ],
   "source": [
    "\"Time \" + cur.strftime(\"%H : %M\")"
   ]
  },
  {
   "cell_type": "code",
   "execution_count": 68,
   "metadata": {},
   "outputs": [
    {
     "name": "stdout",
     "output_type": "stream",
     "text": [
      "Date 2023,Oct 27\n"
     ]
    }
   ],
   "source": [
    "print(\"Date \" + cur.strftime(\"%Y,%h %d\"))"
   ]
  },
  {
   "cell_type": "code",
   "execution_count": null,
   "metadata": {},
   "outputs": [],
   "source": []
  }
 ],
 "metadata": {
  "kernelspec": {
   "display_name": "base",
   "language": "python",
   "name": "python3"
  },
  "language_info": {
   "codemirror_mode": {
    "name": "ipython",
    "version": 3
   },
   "file_extension": ".py",
   "mimetype": "text/x-python",
   "name": "python",
   "nbconvert_exporter": "python",
   "pygments_lexer": "ipython3",
   "version": "3.11.4"
  }
 },
 "nbformat": 4,
 "nbformat_minor": 2
}
