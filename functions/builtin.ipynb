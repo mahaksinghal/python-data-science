{
 "cells": [
  {
   "cell_type": "markdown",
   "metadata": {},
   "source": [
    "- builtin functions\n",
    "    - input()\n",
    "    - print()\n",
    "    - type()\n",
    "    - isinstance()\n",
    "    - len()\n",
    "    - min()\n",
    "    - max()\n",
    "    - sum()\n",
    "    - abs()\n",
    "    - round()\n",
    "    - eval()\n",
    "    - all()\n",
    "    - any()\n",
    "    - open()"
   ]
  },
  {
   "cell_type": "code",
   "execution_count": 3,
   "metadata": {},
   "outputs": [
    {
     "data": {
      "text/plain": [
       "True"
      ]
     },
     "execution_count": 3,
     "metadata": {},
     "output_type": "execute_result"
    }
   ],
   "source": [
    "x = 129.05\n",
    "isinstance(x, (int, float))\n"
   ]
  },
  {
   "cell_type": "code",
   "execution_count": 4,
   "metadata": {},
   "outputs": [
    {
     "data": {
      "text/plain": [
       "True"
      ]
     },
     "execution_count": 4,
     "metadata": {},
     "output_type": "execute_result"
    }
   ],
   "source": [
    "data = [1,2,3]\n",
    "isinstance(data, (list, set))"
   ]
  },
  {
   "cell_type": "code",
   "execution_count": 5,
   "metadata": {},
   "outputs": [
    {
     "data": {
      "text/plain": [
       "10"
      ]
     },
     "execution_count": 5,
     "metadata": {},
     "output_type": "execute_result"
    }
   ],
   "source": [
    "abs(-10)"
   ]
  },
  {
   "cell_type": "code",
   "execution_count": 9,
   "metadata": {},
   "outputs": [
    {
     "name": "stdout",
     "output_type": "stream",
     "text": [
      "1\n",
      "1.23\n",
      "1.23456\n",
      "1.23456\n"
     ]
    }
   ],
   "source": [
    "a = 1.23456\n",
    "print(round(a))\n",
    "print(round(a,2))\n",
    "print(round(a,200))\n",
    "print(round(a,5))"
   ]
  },
  {
   "cell_type": "code",
   "execution_count": 15,
   "metadata": {},
   "outputs": [
    {
     "name": "stdout",
     "output_type": "stream",
     "text": [
      "x+y\n",
      "Your expression is x*y\n",
      "30\n"
     ]
    }
   ],
   "source": [
    "x = 10\n",
    "y = 3\n",
    "print(\"x+y\")\n",
    "expression = input(\"Enter your equation using x and y\")\n",
    "print(\"Your expression is\", expression)\n",
    "print(eval(expression))"
   ]
  },
  {
   "cell_type": "code",
   "execution_count": 18,
   "metadata": {},
   "outputs": [
    {
     "name": "stdout",
     "output_type": "stream",
     "text": [
      "True\n",
      "False\n",
      "False\n",
      "False\n",
      "False\n",
      "True\n",
      "True\n"
     ]
    }
   ],
   "source": [
    "x = [1,2,3,4,5,6]\n",
    "y = [1,2,3,4,5,0]\n",
    "z = [0,0,0,0,0,0]\n",
    "a = [0,0,0,0,0,1]\n",
    "print(all(x))\n",
    "print(all(y))\n",
    "print(all(z))\n",
    "print(all(a))\n",
    "print(any(z))\n",
    "print(any(a))\n",
    "print(any(x))"
   ]
  },
  {
   "cell_type": "markdown",
   "metadata": {},
   "source": [
    "file handling with open()\n",
    "- read\n",
    "- write\n",
    "- append"
   ]
  },
  {
   "cell_type": "code",
   "execution_count": 36,
   "metadata": {},
   "outputs": [],
   "source": [
    "file1 = open('dummy1.txt')"
   ]
  },
  {
   "cell_type": "code",
   "execution_count": 40,
   "metadata": {},
   "outputs": [
    {
     "name": "stdout",
     "output_type": "stream",
     "text": [
      "<_io.TextIOWrapper name='../dummy.txt' mode='r' encoding='utf-8'>\n"
     ]
    }
   ],
   "source": [
    "file = open('../dummy.txt')\n",
    "print(file)     # object return"
   ]
  },
  {
   "cell_type": "code",
   "execution_count": 41,
   "metadata": {},
   "outputs": [
    {
     "data": {
      "text/plain": [
       "'this is a dummy file.'"
      ]
     },
     "execution_count": 41,
     "metadata": {},
     "output_type": "execute_result"
    }
   ],
   "source": [
    "file.read()"
   ]
  },
  {
   "cell_type": "code",
   "execution_count": 42,
   "metadata": {},
   "outputs": [
    {
     "name": "stdout",
     "output_type": "stream",
     "text": [
      "this is a dummy file.\n"
     ]
    }
   ],
   "source": [
    "with open('../dummy.txt') as file:\n",
    "    print(file.read())"
   ]
  },
  {
   "cell_type": "code",
   "execution_count": null,
   "metadata": {},
   "outputs": [],
   "source": [
    "with open('builtin.ipynb') as file2:\n",
    "    print(file2.read())"
   ]
  },
  {
   "cell_type": "code",
   "execution_count": 2,
   "metadata": {},
   "outputs": [
    {
     "name": "stdout",
     "output_type": "stream",
     "text": [
      "['this', 'is', 'a', 'dummy', 'file.']\n"
     ]
    }
   ],
   "source": [
    "with open('../dummy.txt') as file:\n",
    "    content = file.read()\n",
    "print(content.split())"
   ]
  },
  {
   "cell_type": "markdown",
   "metadata": {},
   "source": [
    "C:\\Users\\HP\\OneDrive\\Desktop\\kuchbhi.txt"
   ]
  },
  {
   "cell_type": "code",
   "execution_count": 4,
   "metadata": {},
   "outputs": [
    {
     "name": "stdout",
     "output_type": "stream",
     "text": [
      "itjrfjiwrj\n"
     ]
    }
   ],
   "source": [
    "path = 'C:\\\\Users\\\\HP\\\\OneDrive\\\\Desktop\\\\kuchbhi.txt'\n",
    "with open(path) as f:\n",
    "    print(f.read())"
   ]
  },
  {
   "cell_type": "code",
   "execution_count": 6,
   "metadata": {},
   "outputs": [
    {
     "name": "stdout",
     "output_type": "stream",
     "text": [
      "itjrfjiwrj\n"
     ]
    }
   ],
   "source": [
    "path = 'C:/Users/HP/OneDrive/Desktop/kuchbhi.txt'\n",
    "with open(path) as f:\n",
    "    print(f.read())"
   ]
  },
  {
   "cell_type": "code",
   "execution_count": 7,
   "metadata": {},
   "outputs": [
    {
     "name": "stdout",
     "output_type": "stream",
     "text": [
      "itjrfjiwrj\n"
     ]
    }
   ],
   "source": [
    "path = r'C:\\Users\\HP\\OneDrive\\Desktop\\kuchbhi.txt'\n",
    "with open(path) as f:\n",
    "    print(f.read())"
   ]
  },
  {
   "cell_type": "code",
   "execution_count": 9,
   "metadata": {},
   "outputs": [],
   "source": [
    "meri_kahani = '''Once upon a time\n",
    "there was a person,\n",
    "to be continued...\n",
    "'''\n",
    "\n",
    "with open('kahani.txt', 'w') as f:\n",
    "    f.write(meri_kahani)"
   ]
  },
  {
   "cell_type": "code",
   "execution_count": 12,
   "metadata": {},
   "outputs": [
    {
     "name": "stdout",
     "output_type": "stream",
     "text": [
      "file saved\n"
     ]
    }
   ],
   "source": [
    "dusari_kahani = '''Ek samay ki baat hai,\n",
    "bahut durr desh mai, ek pahad tha,\n",
    "jaha per pathar the.\n",
    "the end.\n",
    "'''\n",
    "\n",
    "addr = 'C:/Users/HP/OneDrive/Desktop/dusari_kahani.txt'\n",
    "with open(addr,'w') as f:\n",
    "    f.write(dusari_kahani)\n",
    "    print(\"file saved\")\n"
   ]
  },
  {
   "cell_type": "code",
   "execution_count": 16,
   "metadata": {},
   "outputs": [
    {
     "name": "stdout",
     "output_type": "stream",
     "text": [
      "file updated\n"
     ]
    }
   ],
   "source": [
    "user_ka_data = input(\"Enter your story:\")\n",
    "\n",
    "addr = 'C:/Users/HP/OneDrive/Desktop/dusari_kahani.txt'\n",
    "with open(addr,'a') as f:\n",
    "    f.write(\"\\n\" + user_ka_data)\n",
    "    print(\"file updated\")"
   ]
  },
  {
   "cell_type": "code",
   "execution_count": 17,
   "metadata": {},
   "outputs": [
    {
     "name": "stdout",
     "output_type": "stream",
     "text": [
      "Ek samay ki baat hai,\n",
      "bahut durr desh mai, ek pahad tha,\n",
      "jaha per pathar the.\n",
      "the end.\n",
      "\n",
      "Ek samay ki baat hai,\n",
      "bahut durr desh mai, ek pahad tha,\n",
      "jaha per pathar the.\n",
      "the end.\n",
      "\n",
      "hiii!!!!!!!!!!!\n",
      "hello!!!!!!!!!!!!!\n"
     ]
    }
   ],
   "source": [
    "with open(addr) as f:\n",
    "    print(f.read())"
   ]
  },
  {
   "cell_type": "code",
   "execution_count": null,
   "metadata": {},
   "outputs": [],
   "source": []
  }
 ],
 "metadata": {
  "kernelspec": {
   "display_name": "base",
   "language": "python",
   "name": "python3"
  },
  "language_info": {
   "codemirror_mode": {
    "name": "ipython",
    "version": 3
   },
   "file_extension": ".py",
   "mimetype": "text/x-python",
   "name": "python",
   "nbconvert_exporter": "python",
   "pygments_lexer": "ipython3",
   "version": "3.11.4"
  }
 },
 "nbformat": 4,
 "nbformat_minor": 2
}
