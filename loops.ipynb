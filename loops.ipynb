{
 "cells": [
  {
   "cell_type": "markdown",
   "metadata": {},
   "source": [
    "### for loop\n",
    "- step based loop\n",
    "- repeating a step n no. of times\n",
    "- enumeration\n",
    "- traversing iterables\n",
    "\n",
    "### while loop\n",
    "- condition based loop\n"
   ]
  },
  {
   "cell_type": "code",
   "execution_count": null,
   "metadata": {},
   "outputs": [],
   "source": [
    "for item in range(10):\n",
    "    print(item, end = \" \")"
   ]
  },
  {
   "cell_type": "code",
   "execution_count": null,
   "metadata": {},
   "outputs": [],
   "source": [
    "for i in range(-10, 10):\n",
    "    print(i, end = ' ')"
   ]
  },
  {
   "cell_type": "code",
   "execution_count": null,
   "metadata": {},
   "outputs": [],
   "source": [
    "for i in range(-10, 11, 2):\n",
    "    print(i, end = '  ')"
   ]
  },
  {
   "cell_type": "code",
   "execution_count": null,
   "metadata": {},
   "outputs": [],
   "source": [
    "for i in range(15, 0, -1):\n",
    "    print(i, end = '  ')"
   ]
  },
  {
   "cell_type": "code",
   "execution_count": null,
   "metadata": {},
   "outputs": [],
   "source": [
    "for i in range(2, 101, 2):\n",
    "    print(i, end = '  ')"
   ]
  },
  {
   "cell_type": "code",
   "execution_count": 13,
   "metadata": {},
   "outputs": [
    {
     "name": "stdout",
     "output_type": "stream",
     "text": [
      "hello\n",
      "hello\n",
      "hello\n",
      "hello\n",
      "hello\n"
     ]
    }
   ],
   "source": [
    "for _ in range(5):\n",
    "    print('hello')"
   ]
  },
  {
   "cell_type": "code",
   "execution_count": 17,
   "metadata": {},
   "outputs": [],
   "source": [
    "name = \"Mahak Singhal\"\n",
    "words = [\"hi\", \"hello\", \"aloha\", \"hola\"]    #list\n",
    "colors = ('red', 'green', 'black')  #tuple\n",
    "numbers = {1,2,3,4,5,6,7,8,9}   #set"
   ]
  },
  {
   "cell_type": "code",
   "execution_count": 18,
   "metadata": {},
   "outputs": [
    {
     "name": "stdout",
     "output_type": "stream",
     "text": [
      "M a h a k   S i n g h a l \n",
      "hi hello aloha hola \n",
      "red green black \n",
      "1 2 3 4 5 6 7 8 9 "
     ]
    }
   ],
   "source": [
    "for char in name:\n",
    "    print(char, end = ' ')\n",
    "print()\n",
    "for w in words:\n",
    "    print(w, end = ' ')\n",
    "print()\n",
    "for c in colors:\n",
    "    print(c, end = ' ')\n",
    "print()\n",
    "for n in numbers:\n",
    "    print(n, end = ' ')\n"
   ]
  },
  {
   "cell_type": "code",
   "execution_count": 21,
   "metadata": {},
   "outputs": [
    {
     "name": "stdout",
     "output_type": "stream",
     "text": [
      "(0, 'Harsh')\n",
      "(1, 'Nishant')\n",
      "(2, 'Aman')\n",
      "(3, 'Kratagya')\n",
      "(4, 'Ayush')\n",
      "(5, 'Natasha')\n",
      "(6, 'Mahak')\n",
      "(7, 'Akash')\n",
      "(8, 'Krishna')\n",
      "\n",
      "0 Harsh\n",
      "1 Nishant\n",
      "2 Aman\n",
      "3 Kratagya\n",
      "4 Ayush\n",
      "5 Natasha\n",
      "6 Mahak\n",
      "7 Akash\n",
      "8 Krishna\n"
     ]
    }
   ],
   "source": [
    "name = ['Harsh', 'Nishant', 'Aman', 'Kratagya', 'Ayush', 'Natasha', 'Mahak', 'Akash', 'Krishna']\n",
    "for value in enumerate(name):\n",
    "    print(value)\n",
    "print()\n",
    "for idx, value in enumerate(name):\n",
    "    print(idx, value)"
   ]
  },
  {
   "cell_type": "code",
   "execution_count": 23,
   "metadata": {},
   "outputs": [
    {
     "name": "stdout",
     "output_type": "stream",
     "text": [
      "Harsh Srivastava\n",
      "Nishant Shukla\n",
      "Aman Raza\n",
      "Kratagya Jaiswal\n",
      "Ayush Singh\n",
      "Natasha Kanuajia\n",
      "Mahak Singhal\n",
      "Akash Gupta\n",
      "Krishna Agarwal\n"
     ]
    }
   ],
   "source": [
    "surname = ['Srivastava', 'Shukla', 'Raza', 'Jaiswal', 'Singh', 'Kanuajia', 'Singhal', 'Gupta', 'Agarwal']\n",
    "for fname, lname in zip(name, surname):\n",
    "    print(fname, lname)"
   ]
  },
  {
   "cell_type": "code",
   "execution_count": 25,
   "metadata": {},
   "outputs": [
    {
     "name": "stdout",
     "output_type": "stream",
     "text": [
      "1 2 3 4 5 6 7 8 9 "
     ]
    }
   ],
   "source": [
    "x = [1,2,3,0,4,5,0,0,6,7,8,9,0]\n",
    "for i in x:\n",
    "    if i==0:\n",
    "        continue\n",
    "    print(i, end = ' ')"
   ]
  },
  {
   "cell_type": "code",
   "execution_count": 26,
   "metadata": {},
   "outputs": [
    {
     "name": "stdout",
     "output_type": "stream",
     "text": [
      "1 2 3 "
     ]
    }
   ],
   "source": [
    "x = [1,2,3,0,4,5,0,0,6,7,8,9,0]\n",
    "for i in x:\n",
    "    if i==0:\n",
    "        break\n",
    "    print(i, end = ' ')"
   ]
  },
  {
   "cell_type": "code",
   "execution_count": 31,
   "metadata": {},
   "outputs": [
    {
     "name": "stdout",
     "output_type": "stream",
     "text": [
      "Hello wdwd\n",
      "Hello dad\n",
      "well done\n"
     ]
    }
   ],
   "source": [
    "# for - else\n",
    "for i in range(2):\n",
    "    name = input(\"Enter name\")\n",
    "    if name:\n",
    "        print(f'Hello {name}')\n",
    "    else:\n",
    "        break\n",
    "else:\n",
    "    print('well done')"
   ]
  },
  {
   "cell_type": "code",
   "execution_count": 33,
   "metadata": {},
   "outputs": [
    {
     "name": "stdout",
     "output_type": "stream",
     "text": [
      "0 10 20 30 40 50 60 70 80 90 100 "
     ]
    }
   ],
   "source": [
    "n = 0\n",
    "while n <= 100:\n",
    "    print(n, end = ' ')\n",
    "    n += 10"
   ]
  },
  {
   "cell_type": "code",
   "execution_count": 37,
   "metadata": {},
   "outputs": [
    {
     "name": "stdout",
     "output_type": "stream",
     "text": [
      "❌\n"
     ]
    }
   ],
   "source": [
    "# infinite loop controlled by user\n",
    "while True:\n",
    "    num = int(input('enter number greater than 100'))\n",
    "    if num > 100:\n",
    "        print(f'{num}')\n",
    "    else:\n",
    "        print(\"❌\")\n",
    "        break"
   ]
  }
 ],
 "metadata": {
  "kernelspec": {
   "display_name": "base",
   "language": "python",
   "name": "python3"
  },
  "language_info": {
   "codemirror_mode": {
    "name": "ipython",
    "version": 3
   },
   "file_extension": ".py",
   "mimetype": "text/x-python",
   "name": "python",
   "nbconvert_exporter": "python",
   "pygments_lexer": "ipython3",
   "version": "3.11.4"
  }
 },
 "nbformat": 4,
 "nbformat_minor": 2
}
