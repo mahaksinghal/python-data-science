{
 "cells": [
  {
   "cell_type": "markdown",
   "metadata": {},
   "source": [
    "### tuple\n",
    "python handles multiple values as tuples\n",
    "- create\n",
    "- tuple packing and unpacking"
   ]
  },
  {
   "cell_type": "code",
   "execution_count": 1,
   "metadata": {},
   "outputs": [
    {
     "name": "stdout",
     "output_type": "stream",
     "text": [
      "(1, 2, 3)\n",
      "(1, 5, 7)\n"
     ]
    }
   ],
   "source": [
    "x = (1, 2, 3)       # tuple\n",
    "y = 1, 5, 7         # tuple\n",
    "print(x)\n",
    "print(y)"
   ]
  },
  {
   "cell_type": "code",
   "execution_count": 2,
   "metadata": {},
   "outputs": [
    {
     "name": "stdout",
     "output_type": "stream",
     "text": [
      "(0, 't')\n",
      "(1, 'u')\n",
      "(2, 'p')\n",
      "(3, 'l')\n",
      "(4, 'e')\n"
     ]
    }
   ],
   "source": [
    "word = 'tuple'\n",
    "for i in enumerate(word):\n",
    "    print(i)"
   ]
  },
  {
   "cell_type": "code",
   "execution_count": 3,
   "metadata": {},
   "outputs": [
    {
     "name": "stdout",
     "output_type": "stream",
     "text": [
      "3\n",
      "1\n",
      "9\n"
     ]
    }
   ],
   "source": [
    "x = (1,2,5,1,6,1,74,8,4,2,7,3,0,2,2,3)\n",
    "print(x.count(1))\n",
    "print(x.index(2))\n",
    "print(x.index(2,2))     # search for 2, starting from 2"
   ]
  },
  {
   "cell_type": "code",
   "execution_count": 4,
   "metadata": {},
   "outputs": [
    {
     "name": "stdout",
     "output_type": "stream",
     "text": [
      "Alpha\n",
      "Beta\n",
      "Gamma\n"
     ]
    }
   ],
   "source": [
    "data = ('Alpha', 'Beta', 'Gamma')\n",
    "a, b, c = data      # unpacking\n",
    "print(a)\n",
    "print(b)\n",
    "print(c)"
   ]
  },
  {
   "cell_type": "code",
   "execution_count": 5,
   "metadata": {},
   "outputs": [],
   "source": [
    "data = ('Alpha', 'Beta', 'Gamma', 'Delta', 'Epsilon')"
   ]
  },
  {
   "cell_type": "code",
   "execution_count": 6,
   "metadata": {},
   "outputs": [
    {
     "name": "stdout",
     "output_type": "stream",
     "text": [
      "Alpha\n",
      "['Beta', 'Gamma', 'Delta', 'Epsilon']\n",
      "Alpha ['Beta', 'Gamma', 'Delta'] Epsilon\n"
     ]
    }
   ],
   "source": [
    "# take 1st value in a variable and put the rest in second variable\n",
    "i, *j = data\n",
    "print(i)\n",
    "print(j)\n",
    "a, *b, c = data\n",
    "print(a,b,c)"
   ]
  },
  {
   "cell_type": "code",
   "execution_count": 7,
   "metadata": {},
   "outputs": [
    {
     "name": "stdout",
     "output_type": "stream",
     "text": [
      "<class 'tuple'> ()\n",
      "<class 'int'> 1\n",
      "<class 'tuple'> (1,)\n",
      "<class 'tuple'> (1,)\n",
      "(1,) <class 'tuple'>\n"
     ]
    }
   ],
   "source": [
    "a = ()      # empty tuple\n",
    "print(type(a), a)\n",
    "a = (1)\n",
    "print(type(a), a)\n",
    "a = (1,)\n",
    "print(type(a), a)\n",
    "a = 1,\n",
    "print(type(a), a)\n",
    "x = tuple([1])\n",
    "print(x, type(x))"
   ]
  },
  {
   "cell_type": "markdown",
   "metadata": {},
   "source": [
    "### Set\n",
    "- create\n",
    "- methods\n",
    "- set operations"
   ]
  },
  {
   "cell_type": "code",
   "execution_count": 8,
   "metadata": {},
   "outputs": [
    {
     "name": "stdout",
     "output_type": "stream",
     "text": [
      "set()\n",
      "{1, 2, 3}\n",
      "{0, 1, 2, 3, 4, 5, 6, 7, 8, 9}\n"
     ]
    }
   ],
   "source": [
    "a = set()   # empty set\n",
    "b = {1, 2, 3}\n",
    "c = {6,3,9,3,2,6,4,0,3,1,5,3,7,3,2,8,6,2,3,5,6,8}\n",
    "print(a)\n",
    "print(b)\n",
    "print(c)"
   ]
  },
  {
   "cell_type": "code",
   "execution_count": 9,
   "metadata": {},
   "outputs": [
    {
     "name": "stdout",
     "output_type": "stream",
     "text": [
      "{'d', 'a', 'c'}\n"
     ]
    }
   ],
   "source": [
    "d = {'a', 'd', 'c'}\n",
    "print(d)"
   ]
  },
  {
   "cell_type": "code",
   "execution_count": 10,
   "metadata": {},
   "outputs": [
    {
     "name": "stdout",
     "output_type": "stream",
     "text": [
      "{0, 1, 2, 3, 4, 5, 6, 7, 8, 9}\n",
      "{0, 1, 2, 3, 4, 5, 6, 7, 8, 9, 100, 32, 71, 13, 54}\n"
     ]
    }
   ],
   "source": [
    "c.add(5)\n",
    "print(c)\n",
    "c.add(100)\n",
    "c.update([1,2,32,54,71,13])\n",
    "print(c)"
   ]
  },
  {
   "cell_type": "code",
   "execution_count": 11,
   "metadata": {},
   "outputs": [
    {
     "name": "stdout",
     "output_type": "stream",
     "text": [
      "{0, 1, 2, 3, 4, 5, 6, 7, 8, 9, 100, 32, 71, 54}\n",
      "{0, 1, 2, 4, 5, 6, 7, 8, 9, 100, 32, 71, 54}\n"
     ]
    }
   ],
   "source": [
    "c.remove(13)\n",
    "print(c)\n",
    "c.discard(3)        # better than remove\n",
    "print(c)"
   ]
  },
  {
   "cell_type": "code",
   "execution_count": 12,
   "metadata": {},
   "outputs": [
    {
     "name": "stdout",
     "output_type": "stream",
     "text": [
      "{1, 2, 4, 5, 6, 7, 8, 9, 100, 32, 71, 54}\n"
     ]
    }
   ],
   "source": [
    "c.pop()     # removes random element\n",
    "print(c)"
   ]
  },
  {
   "cell_type": "code",
   "execution_count": 6,
   "metadata": {},
   "outputs": [],
   "source": [
    "movies1 = {'aaa', 'bbb', 'ccc', 'ddd', 'eee'}\n",
    "movies2 = {'fff', 'ggg', 'hhh', 'iii', 'jjj'}\n",
    "movies3 = {'aaa', 'bbb', 'ccc', 'fff', 'ggg', 'hhh', 'kkk'}"
   ]
  },
  {
   "cell_type": "markdown",
   "metadata": {},
   "source": [
    "- union |\n",
    "- intersection  &\n",
    "- difference -\n",
    "- symmetric difference ^"
   ]
  },
  {
   "cell_type": "code",
   "execution_count": 7,
   "metadata": {},
   "outputs": [
    {
     "name": "stdout",
     "output_type": "stream",
     "text": [
      "{'ccc', 'eee', 'bbb', 'fff', 'ggg', 'kkk', 'aaa', 'ddd', 'hhh'}\n",
      "{'ccc', 'eee', 'bbb', 'fff', 'ggg', 'kkk', 'aaa', 'ddd', 'hhh'}\n"
     ]
    }
   ],
   "source": [
    "print(movies1.union(movies3))\n",
    "print(movies1 | movies3)"
   ]
  },
  {
   "cell_type": "code",
   "execution_count": 8,
   "metadata": {},
   "outputs": [
    {
     "name": "stdout",
     "output_type": "stream",
     "text": [
      "{'aaa', 'bbb', 'ccc'}\n",
      "{'aaa', 'bbb', 'ccc'}\n"
     ]
    }
   ],
   "source": [
    "print(movies1.intersection(movies3))\n",
    "print(movies1 & movies3)"
   ]
  },
  {
   "cell_type": "code",
   "execution_count": 10,
   "metadata": {},
   "outputs": [
    {
     "name": "stdout",
     "output_type": "stream",
     "text": [
      "{'eee', 'ddd'}\n",
      "{'eee', 'ddd'}\n",
      "{'hhh', 'kkk', 'ggg', 'fff'}\n"
     ]
    }
   ],
   "source": [
    "print(movies1.difference(movies3))\n",
    "print(movies1 - movies3)\n",
    "print(movies3 - movies1)"
   ]
  },
  {
   "cell_type": "code",
   "execution_count": 11,
   "metadata": {},
   "outputs": [
    {
     "name": "stdout",
     "output_type": "stream",
     "text": [
      "{'kkk', 'ddd', 'eee', 'fff', 'hhh', 'ggg'}\n",
      "{'kkk', 'ddd', 'eee', 'fff', 'hhh', 'ggg'}\n"
     ]
    }
   ],
   "source": [
    "print(movies1.symmetric_difference(movies3))\n",
    "print(movies1 ^ movies3)"
   ]
  },
  {
   "cell_type": "markdown",
   "metadata": {},
   "source": [
    "- relation\n",
    "    - isuperset\n",
    "    - issubset\n",
    "    - isdisjoint"
   ]
  },
  {
   "cell_type": "code",
   "execution_count": 12,
   "metadata": {},
   "outputs": [
    {
     "data": {
      "text/plain": [
       "False"
      ]
     },
     "execution_count": 12,
     "metadata": {},
     "output_type": "execute_result"
    }
   ],
   "source": [
    "movies3.issuperset(movies2)"
   ]
  },
  {
   "cell_type": "code",
   "execution_count": 13,
   "metadata": {},
   "outputs": [
    {
     "data": {
      "text/plain": [
       "False"
      ]
     },
     "execution_count": 13,
     "metadata": {},
     "output_type": "execute_result"
    }
   ],
   "source": [
    "movies3.isdisjoint(movies2)"
   ]
  },
  {
   "cell_type": "code",
   "execution_count": 14,
   "metadata": {},
   "outputs": [
    {
     "data": {
      "text/plain": [
       "True"
      ]
     },
     "execution_count": 14,
     "metadata": {},
     "output_type": "execute_result"
    }
   ],
   "source": [
    "movies2.isdisjoint(movies1)"
   ]
  },
  {
   "cell_type": "code",
   "execution_count": null,
   "metadata": {},
   "outputs": [],
   "source": []
  }
 ],
 "metadata": {
  "kernelspec": {
   "display_name": "base",
   "language": "python",
   "name": "python3"
  },
  "language_info": {
   "codemirror_mode": {
    "name": "ipython",
    "version": 3
   },
   "file_extension": ".py",
   "mimetype": "text/x-python",
   "name": "python",
   "nbconvert_exporter": "python",
   "pygments_lexer": "ipython3",
   "version": "3.11.4"
  }
 },
 "nbformat": 4,
 "nbformat_minor": 2
}
