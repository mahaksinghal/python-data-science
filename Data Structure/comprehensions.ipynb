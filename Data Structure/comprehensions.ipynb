{
 "cells": [
  {
   "cell_type": "markdown",
   "metadata": {},
   "source": [
    "## Comprehension in python\n",
    "**single line code for generation an iterable from an exiting iterable**\n",
    "- list\n",
    "- set\n",
    "- dictionary"
   ]
  },
  {
   "cell_type": "markdown",
   "metadata": {},
   "source": [
    "Syntax - 1:\n",
    "```\n",
    "new_iterable = [operation for item in exiting_iterable]\n",
    "```\n",
    "\n",
    "Syntax - 2:\n",
    "```\n",
    "new_iterable = [operation for item in exiting_iterable if condition]\n",
    "```"
   ]
  },
  {
   "cell_type": "code",
   "execution_count": 1,
   "metadata": {},
   "outputs": [
    {
     "name": "stdout",
     "output_type": "stream",
     "text": [
      "[1, 2, 3, 4]\n",
      "[1, 4, 9, 16]\n"
     ]
    }
   ],
   "source": [
    "a1 = [1, 2, 3, 4]\n",
    "a2 = []\n",
    "for i in a1:\n",
    "    s = i**2\n",
    "    a2.append(s)\n",
    "print(a1)\n",
    "print(a2)"
   ]
  },
  {
   "cell_type": "code",
   "execution_count": 4,
   "metadata": {},
   "outputs": [
    {
     "data": {
      "text/plain": [
       "[1, 4, 9, 16]"
      ]
     },
     "execution_count": 4,
     "metadata": {},
     "output_type": "execute_result"
    }
   ],
   "source": [
    "a2 = [i**2 for i in a1]\n",
    "a2"
   ]
  },
  {
   "cell_type": "code",
   "execution_count": 5,
   "metadata": {},
   "outputs": [
    {
     "name": "stdout",
     "output_type": "stream",
     "text": [
      "['alex', 'susan', 'tom', 'jerry']\n",
      "['al', 'su', 'to', 'je']\n"
     ]
    }
   ],
   "source": [
    "names = ['alex', 'susan', 'tom', 'jerry']\n",
    "shorts = []\n",
    "for name in names:\n",
    "    s = name[:2]\n",
    "    shorts.append(s)\n",
    "    # shorts.append(name[:2])\n",
    "print(names)\n",
    "print(shorts)"
   ]
  },
  {
   "cell_type": "code",
   "execution_count": 6,
   "metadata": {},
   "outputs": [
    {
     "name": "stdout",
     "output_type": "stream",
     "text": [
      "['al', 'su', 'to', 'je']\n"
     ]
    }
   ],
   "source": [
    "shorts = [name[:2] for name in names]\n",
    "print(shorts)"
   ]
  },
  {
   "cell_type": "code",
   "execution_count": 10,
   "metadata": {},
   "outputs": [
    {
     "name": "stdout",
     "output_type": "stream",
     "text": [
      "[2, -3, -7, -1, 24, 62, -6]\n",
      "[2, 24, 62, -6]\n"
     ]
    }
   ],
   "source": [
    "numbers = [12,7,3,9,34,72,4]\n",
    "sub = [i-10 for i in numbers]\n",
    "print(sub)\n",
    "even = [n-10 for n in numbers if n%2 == 0]\n",
    "print(even)"
   ]
  },
  {
   "cell_type": "code",
   "execution_count": 14,
   "metadata": {},
   "outputs": [
    {
     "name": "stdout",
     "output_type": "stream",
     "text": [
      "['sita', 'gita', 'hari']\n"
     ]
    }
   ],
   "source": [
    "guests = ['ram', 'sita', 'gita', 'hari', 'rahul', 'sohan']\n",
    "guest = [name for name in guests if 'i' in name.lower()]\n",
    "print(guest)"
   ]
  },
  {
   "cell_type": "code",
   "execution_count": 15,
   "metadata": {},
   "outputs": [
    {
     "data": {
      "text/plain": [
       "{1, 4, 9}"
      ]
     },
     "execution_count": 15,
     "metadata": {},
     "output_type": "execute_result"
    }
   ],
   "source": [
    "x = {1, 2, 3}\n",
    "x2 = {i**2 for i in x}\n",
    "x2"
   ]
  },
  {
   "cell_type": "code",
   "execution_count": 23,
   "metadata": {},
   "outputs": [
    {
     "name": "stdout",
     "output_type": "stream",
     "text": [
      "{'a': 'APPLE', 'b': 'BANANA', 'c': 'CHERRY'}\n",
      "{'A', 'C', 'B'}\n",
      "{'CHERRY', 'APPLE', 'BANANA'}\n"
     ]
    }
   ],
   "source": [
    "x = {'a': 'apple', 'b': 'banana', 'c': 'cherry'}\n",
    "x2 = {k:v.upper() for k,v in x.items()}\n",
    "x3 = {v.upper() for v in x.keys()}\n",
    "x4 = {v.upper() for v in x.values()}\n",
    "print(x2)\n",
    "print(x3)\n",
    "print(x4)"
   ]
  },
  {
   "cell_type": "code",
   "execution_count": 26,
   "metadata": {},
   "outputs": [
    {
     "name": "stdout",
     "output_type": "stream",
     "text": [
      "{0: 3, 1: 6, 2: 2, 3: 65, 4: 1, 5: 94}\n",
      "{'a': 3, 'b': 6, 'c': 2, 'd': 65, 'e': 1}\n"
     ]
    }
   ],
   "source": [
    "# list to dictionary\n",
    "x = [3,6,2,65,1,94]\n",
    "xd = {i:v for i,v in enumerate(x)}\n",
    "print(xd)\n",
    "\n",
    "y = ['a', 'b', 'c', 'd', 'e']\n",
    "x_d = {i2:i1 for i1,i2 in zip(x,y)}\n",
    "print(x_d)"
   ]
  },
  {
   "cell_type": "code",
   "execution_count": 31,
   "metadata": {},
   "outputs": [
    {
     "name": "stdout",
     "output_type": "stream",
     "text": [
      "<generator object <genexpr> at 0x000001B9C6BF4040>\n",
      "1\n",
      "4\n",
      "9\n"
     ]
    }
   ],
   "source": [
    "x = (1,2,3)\n",
    "m = (i**2 for i in x)\n",
    "print(m)\n",
    "for i in m: print(i)"
   ]
  }
 ],
 "metadata": {
  "kernelspec": {
   "display_name": "base",
   "language": "python",
   "name": "python3"
  },
  "language_info": {
   "codemirror_mode": {
    "name": "ipython",
    "version": 3
   },
   "file_extension": ".py",
   "mimetype": "text/x-python",
   "name": "python",
   "nbconvert_exporter": "python",
   "pygments_lexer": "ipython3",
   "version": "3.11.4"
  }
 },
 "nbformat": 4,
 "nbformat_minor": 2
}
