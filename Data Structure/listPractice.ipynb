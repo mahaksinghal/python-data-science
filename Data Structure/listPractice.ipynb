{
 "cells": [
  {
   "cell_type": "markdown",
   "metadata": {},
   "source": [
    "### Write a program that creates an empty list and then asks the user to input integers to add to the list. Print the final list."
   ]
  },
  {
   "cell_type": "code",
   "execution_count": 19,
   "metadata": {},
   "outputs": [
    {
     "name": "stdout",
     "output_type": "stream",
     "text": [
      "[54, 23, 7]\n"
     ]
    }
   ],
   "source": [
    "list1 = []\n",
    "n = int(input(\"Enter the total number of integers to enter:\"))\n",
    "for i in range(n):\n",
    "    element = int(input(\"Enter the element\"))\n",
    "    list1.append(element)\n",
    "print(list1)"
   ]
  },
  {
   "cell_type": "markdown",
   "metadata": {},
   "source": [
    "### Write a program that creates a list of integers and then asks the user to input an integer to check if it exits in the list. Print a message indicating whether the integer is in the list or not."
   ]
  },
  {
   "cell_type": "code",
   "execution_count": 20,
   "metadata": {},
   "outputs": [
    {
     "name": "stdout",
     "output_type": "stream",
     "text": [
      "found\n"
     ]
    }
   ],
   "source": [
    "list1 = [2,5,3,6,1,6,7,9,4,8]\n",
    "ele = int(input(\"Enter the element to find in the list\"))\n",
    "flag = False\n",
    "for i in list1:\n",
    "    if i == ele:\n",
    "        flag = True\n",
    "        break\n",
    "if flag:\n",
    "    print(\"found\")\n",
    "else:\n",
    "    print(\"not found\")"
   ]
  },
  {
   "cell_type": "markdown",
   "metadata": {},
   "source": [
    "### Write a program that creates a list of strings and then sorts the list alphabetically. Print the sorted list."
   ]
  },
  {
   "cell_type": "code",
   "execution_count": 21,
   "metadata": {},
   "outputs": [
    {
     "data": {
      "text/plain": [
       "['dabcd', 'hbds', 'if', 'kas', 'was']"
      ]
     },
     "execution_count": 21,
     "metadata": {},
     "output_type": "execute_result"
    }
   ],
   "source": [
    "list1 = ['dabcd', 'hbds', 'kas', 'if', 'was']\n",
    "list1.sort()\n",
    "list1"
   ]
  },
  {
   "cell_type": "markdown",
   "metadata": {},
   "source": [
    "### Write a program that creates a list of integers and then finds the maximum value in the list. Print the maximum value."
   ]
  },
  {
   "cell_type": "code",
   "execution_count": 22,
   "metadata": {},
   "outputs": [
    {
     "data": {
      "text/plain": [
       "9"
      ]
     },
     "execution_count": 22,
     "metadata": {},
     "output_type": "execute_result"
    }
   ],
   "source": [
    "list1 = [2,5,3,6,1,6,7,9,4,8]\n",
    "# method - 1\n",
    "# max(list1)\n",
    "\n",
    "# method - 2\n",
    "list1.sort()\n",
    "list1[-1]"
   ]
  },
  {
   "cell_type": "markdown",
   "metadata": {},
   "source": [
    "### Write a program that creates two list of integers and then finds common elements between those two lists. Print the common elements."
   ]
  },
  {
   "cell_type": "code",
   "execution_count": 23,
   "metadata": {},
   "outputs": [
    {
     "name": "stdout",
     "output_type": "stream",
     "text": [
      "2\n",
      "5\n",
      "9\n"
     ]
    }
   ],
   "source": [
    "list1 = [2,5,3,8,7,9]\n",
    "list2 = [6,2,9,1,0,5]\n",
    "for i in list1:\n",
    "    for j in list2:\n",
    "        if i == j:\n",
    "            print(i)"
   ]
  },
  {
   "cell_type": "markdown",
   "metadata": {},
   "source": [
    "### Write a program that creates a list of strings and then removes all elements that contain a specific substring. Print the final list."
   ]
  },
  {
   "cell_type": "code",
   "execution_count": 24,
   "metadata": {},
   "outputs": [],
   "source": [
    "string_list = [\"apple\", \"banana\", \"cherry\", \"date\", \"grape\", \"fig\", \"kiwi\"]\n",
    "substring_to_remove = \"ra\"\n"
   ]
  },
  {
   "cell_type": "markdown",
   "metadata": {},
   "source": [
    "### Write a program that creates a nested list and then accesses a specific element in the list. Print the accessed element."
   ]
  },
  {
   "cell_type": "code",
   "execution_count": 78,
   "metadata": {},
   "outputs": [
    {
     "name": "stdout",
     "output_type": "stream",
     "text": [
      "6\n"
     ]
    }
   ],
   "source": [
    "a = [[1,2],[3,4],[5,6]]\n",
    "print(a[2][1])"
   ]
  },
  {
   "cell_type": "markdown",
   "metadata": {},
   "source": [
    "### Write a program that creates a list of integers and then removes all duplicates from the list. Print the final list."
   ]
  },
  {
   "cell_type": "code",
   "execution_count": 25,
   "metadata": {},
   "outputs": [
    {
     "name": "stdout",
     "output_type": "stream",
     "text": [
      "[2, 5, 3, 6, 1, 7, 9, 4, 8, 0]\n"
     ]
    }
   ],
   "source": [
    "list1 = [2,5,3,6,1,6,7,9,4,8,1,7,3,8,3,2,6,3,9,1,0,7,5,3,2,3,9,8]\n",
    "\n",
    "# method - 1\n",
    "unique_list = []\n",
    "for i in list1:\n",
    "    if i not in unique_list:\n",
    "        unique_list.append(i)\n",
    "print(unique_list)\n",
    "\n",
    "# method - 2\n",
    "# unique_list = list(set(list1))\n",
    "# unique_list"
   ]
  },
  {
   "cell_type": "markdown",
   "metadata": {},
   "source": [
    "### Write a program that creates a lit of strings and then finds the longest string in the list. Print the longest string."
   ]
  },
  {
   "cell_type": "code",
   "execution_count": 26,
   "metadata": {},
   "outputs": [
    {
     "name": "stdout",
     "output_type": "stream",
     "text": [
      "banana\n"
     ]
    }
   ],
   "source": [
    "string_list = [\"apple\", \"banana\", \"cherry\", \"date\", \"grape\", \"fig\", \"kiwi\"]\n",
    "longest = max(string_list, key = len)\n",
    "print(longest)"
   ]
  },
  {
   "cell_type": "markdown",
   "metadata": {},
   "source": [
    "### Write a program that creates a list of integers and then finds the sum of all the even numbers in the list. Print the sum."
   ]
  },
  {
   "cell_type": "code",
   "execution_count": 27,
   "metadata": {},
   "outputs": [
    {
     "name": "stdout",
     "output_type": "stream",
     "text": [
      "26\n"
     ]
    }
   ],
   "source": [
    "list1 = [2,5,3,6,1,6,7,9,4,8]\n",
    "sum = 0\n",
    "for i in list1:\n",
    "    if i%2==0:\n",
    "        sum += i\n",
    "print(sum)"
   ]
  },
  {
   "cell_type": "markdown",
   "metadata": {},
   "source": [
    "### Write a program that creates a list of integers and then asks the user to input a position to remove an element from the list. Print the final list."
   ]
  },
  {
   "cell_type": "code",
   "execution_count": 28,
   "metadata": {},
   "outputs": [
    {
     "data": {
      "text/plain": [
       "[2, 5, 3, 6, 6, 7, 9, 4, 8]"
      ]
     },
     "execution_count": 28,
     "metadata": {},
     "output_type": "execute_result"
    }
   ],
   "source": [
    "list1 = [2,5,3,6,1,6,7,9,4,8]\n",
    "index = int(input(\"Enter the index to remove\"))\n",
    "list1.pop(index)\n",
    "list1"
   ]
  },
  {
   "cell_type": "markdown",
   "metadata": {},
   "source": [
    "### Write a program that creates a list of strings and then concatenates all the strings into a single string. Print the final string."
   ]
  },
  {
   "cell_type": "code",
   "execution_count": 83,
   "metadata": {},
   "outputs": [
    {
     "name": "stdout",
     "output_type": "stream",
     "text": [
      "['hello', ' ', 'world', '!']\n",
      "hello world!\n"
     ]
    }
   ],
   "source": [
    "a = ['hello', ' ', 'world', '!']\n",
    "final_list = ''.join(a)\n",
    "print(a)\n",
    "print(final_list)"
   ]
  },
  {
   "cell_type": "markdown",
   "metadata": {},
   "source": [
    "### Write a program that creates a list of integers and then finds the median value of the list. Print the median."
   ]
  },
  {
   "cell_type": "code",
   "execution_count": 91,
   "metadata": {},
   "outputs": [
    {
     "name": "stdout",
     "output_type": "stream",
     "text": [
      "median is 1\n"
     ]
    }
   ],
   "source": [
    "a = [1,24,6,4,9,1,4,6,9,5]\n",
    "n = len(a)\n",
    "if len(a) % 2 != 0:\n",
    "    median = (n)//2\n",
    "    print(\"median is\", a[median])\n",
    "else:\n",
    "    median1 = a[n//2]\n",
    "    median2 = a[n//2 - 1]\n",
    "    median = (median1+median2)//2\n",
    "    print(\"median is\", a[median])\n"
   ]
  },
  {
   "cell_type": "markdown",
   "metadata": {},
   "source": [
    "### Write a program that creates a list of strings and then reverses the order of the strings in the list. Print the reversed list."
   ]
  },
  {
   "cell_type": "code",
   "execution_count": 29,
   "metadata": {},
   "outputs": [
    {
     "name": "stdout",
     "output_type": "stream",
     "text": [
      "['kiwi', 'fig', 'grape', 'date', 'cherry', 'banana', 'apple']\n"
     ]
    }
   ],
   "source": [
    "string_list = [\"apple\", \"banana\", \"cherry\", \"date\", \"grape\", \"fig\", \"kiwi\"]\n",
    "string_list_reverse = string_list[::-1]\n",
    "print(string_list_reverse)"
   ]
  },
  {
   "cell_type": "markdown",
   "metadata": {},
   "source": [
    "### Write a program that creates a list of integers and then calculates the average of all the numbers in the list. Print the average."
   ]
  },
  {
   "cell_type": "code",
   "execution_count": 30,
   "metadata": {},
   "outputs": [
    {
     "name": "stdout",
     "output_type": "stream",
     "text": [
      "5.1\n"
     ]
    }
   ],
   "source": [
    "list1 = [2,5,3,6,1,6,7,9,4,8]\n",
    "len_list1 = len(list1)\n",
    "sum = 0\n",
    "for i in list1:\n",
    "    sum += i\n",
    "avg = sum/len_list1\n",
    "print(avg)"
   ]
  },
  {
   "cell_type": "markdown",
   "metadata": {},
   "source": [
    "### Write a program that creates a list of integers and then finds the index of a specific element in the list. Print the list."
   ]
  },
  {
   "cell_type": "code",
   "execution_count": 92,
   "metadata": {},
   "outputs": [
    {
     "name": "stdout",
     "output_type": "stream",
     "text": [
      "the index of the specific element is 4\n"
     ]
    }
   ],
   "source": [
    "a = [1,2,3,4,7,3,5,4]\n",
    "print(\"the index of the specific element is\", a.index(7))"
   ]
  },
  {
   "cell_type": "markdown",
   "metadata": {},
   "source": [
    "### Write a program that creates a list of strings and then removes all whitespace characters from each string in the list. Print the final list."
   ]
  },
  {
   "cell_type": "code",
   "execution_count": 93,
   "metadata": {},
   "outputs": [
    {
     "name": "stdout",
     "output_type": "stream",
     "text": [
      "['Hello World', 'Python Programming', '   Data Science   ']\n",
      "['HelloWorld', 'PythonProgramming', 'DataScience']\n"
     ]
    }
   ],
   "source": [
    "string_list = [\"Hello World\", \"Python Programming\", \"   Data Science   \"]\n",
    "cleaned_list = [string.replace(\" \", \"\") for string in string_list]\n",
    "print(string_list)\n",
    "print(cleaned_list)"
   ]
  },
  {
   "cell_type": "markdown",
   "metadata": {},
   "source": [
    "### Write a program that creates a list of integers and then sorts the list in descending orefer. Print the sorted list."
   ]
  },
  {
   "cell_type": "code",
   "execution_count": 31,
   "metadata": {},
   "outputs": [
    {
     "data": {
      "text/plain": [
       "[9, 8, 7, 6, 6, 5, 4, 3, 2, 1]"
      ]
     },
     "execution_count": 31,
     "metadata": {},
     "output_type": "execute_result"
    }
   ],
   "source": [
    "list1 = [2,5,3,6,1,6,7,9,4,8]\n",
    "list1.sort(reverse=True)\n",
    "list1"
   ]
  },
  {
   "cell_type": "markdown",
   "metadata": {},
   "source": [
    "### Write a program that creates a list of integers and then asks the user to input a value to add to the list. Add the value to the beginning of the list and print the final list."
   ]
  },
  {
   "cell_type": "code",
   "execution_count": 32,
   "metadata": {},
   "outputs": [
    {
     "name": "stdout",
     "output_type": "stream",
     "text": [
      "[45, 2, 5, 3, 6, 1, 6, 7, 9, 4, 8]\n"
     ]
    }
   ],
   "source": [
    "list1 = [2,5,3,6,1,6,7,9,4,8]\n",
    "ele = int(input(\"Enter the element to enter in the list\"))\n",
    "list1.insert(0,ele)\n",
    "print(list1)"
   ]
  },
  {
   "cell_type": "markdown",
   "metadata": {},
   "source": [
    "### Write a program that creates two list of integers and then concatenates those two lists into a single list. Print the final list."
   ]
  },
  {
   "cell_type": "code",
   "execution_count": 33,
   "metadata": {},
   "outputs": [
    {
     "name": "stdout",
     "output_type": "stream",
     "text": [
      "[2, 5, 3, 8, 7, 9, 6, 2, 9, 1, 0, 5]\n"
     ]
    }
   ],
   "source": [
    "list1 = [2,5,3,8,7,9]\n",
    "list2 = [6,2,9,1,0,5]\n",
    "list1.extend(list2)\n",
    "print(list1)"
   ]
  },
  {
   "cell_type": "markdown",
   "metadata": {},
   "source": [
    "### Write a program that uses the map function to create a new list that contains the squares of each element in a user inputted list of integers."
   ]
  },
  {
   "cell_type": "code",
   "execution_count": 5,
   "metadata": {},
   "outputs": [
    {
     "name": "stdout",
     "output_type": "stream",
     "text": [
      "[1, 2, 3, 4, 5]\n",
      "[1, 4, 9, 16, 25]\n"
     ]
    }
   ],
   "source": [
    "size = int(input(\"Enter the size of list\"))\n",
    "list1 = []\n",
    "for i in range(size):\n",
    "    num = int(input(\"Enter the number\"))\n",
    "    list1.append(num)\n",
    "\n",
    "print(list1)\n",
    "list_square = list(map(lambda x: x**2, list1))\n",
    "print(list_square)"
   ]
  },
  {
   "cell_type": "markdown",
   "metadata": {},
   "source": [
    "### Write a program that uses a lambda expression and the map function to convert a list of integers to a list of strings. Print the new list."
   ]
  },
  {
   "cell_type": "code",
   "execution_count": 7,
   "metadata": {},
   "outputs": [
    {
     "name": "stdout",
     "output_type": "stream",
     "text": [
      "['\\x01', '\\x02', '\\x03', '\\x04', '\\x05', 'ý', 'B']\n"
     ]
    }
   ],
   "source": [
    "\n",
    "integers = [1, 2, 3, 4, 5,253, 66]\n",
    "\n",
    "strings = list(map(lambda x: chr(x), integers))\n",
    "\n",
    "print(strings)\n"
   ]
  },
  {
   "cell_type": "markdown",
   "metadata": {},
   "source": [
    "### Write a program that uses a lambda expression and the map function to add 10 to each element in a list of integers. Print the new list."
   ]
  },
  {
   "cell_type": "code",
   "execution_count": 9,
   "metadata": {},
   "outputs": [
    {
     "name": "stdout",
     "output_type": "stream",
     "text": [
      "[1, 2, 3, 4, 5, 6, 7]\n",
      "[11, 12, 13, 14, 15, 16, 17]\n"
     ]
    }
   ],
   "source": [
    "a = [1,2,3,4,5,6,7]\n",
    "list_add = list(map(lambda i: i+10, a))\n",
    "print(a)\n",
    "print(list_add)"
   ]
  },
  {
   "cell_type": "markdown",
   "metadata": {},
   "source": [
    "### Write a program that uses the map function to create a new list that contains the first letter of each string in a user inputted list of strings.  "
   ]
  },
  {
   "cell_type": "code",
   "execution_count": 14,
   "metadata": {},
   "outputs": [
    {
     "name": "stdout",
     "output_type": "stream",
     "text": [
      "['hi', 'Mahak', 'What', 'are', 'You', 'doing']\n",
      "['h', 'm', 'w', 'a', 'y', 'd']\n"
     ]
    }
   ],
   "source": [
    "user_list = input(\"Enter the string seperated by a ','\")\n",
    "string_list = user_list.split(',')\n",
    "print(string_list)\n",
    "\n",
    "list_first_letter = list(map(lambda i: i[0].lower(), string_list))\n",
    "print(list_first_letter)"
   ]
  },
  {
   "cell_type": "markdown",
   "metadata": {},
   "source": [
    "### Write a program that uses a lambda expression and the map function to convert a list of Celsius temperatures to a list of Fahrenheit temperatures. Print the new list."
   ]
  },
  {
   "cell_type": "code",
   "execution_count": 15,
   "metadata": {},
   "outputs": [
    {
     "name": "stdout",
     "output_type": "stream",
     "text": [
      "[23, 76, 98, 34, 65, 87]\n",
      "[73.4, 168.8, 208.4, 93.2, 149.0, 188.6]\n"
     ]
    }
   ],
   "source": [
    "celcius = [23,76,98,34,65,87]\n",
    "fahrenheit = list(map(lambda i: ((9*i)/5)+32, celcius))\n",
    "print(celcius)\n",
    "print(fahrenheit)"
   ]
  },
  {
   "cell_type": "markdown",
   "metadata": {},
   "source": [
    "### Write a program that uses a lambda expression and the map function to convert a list of strings to a list of integers. Print the new list."
   ]
  },
  {
   "cell_type": "code",
   "execution_count": 22,
   "metadata": {},
   "outputs": [
    {
     "name": "stdout",
     "output_type": "stream",
     "text": [
      "['10', '23', '43']\n",
      "[10, 23, 43]\n"
     ]
    }
   ],
   "source": [
    "string_list = ['10', '23', '43']\n",
    "int_list = list(map(int, string_list))\n",
    "print(string_list)\n",
    "print(int_list)"
   ]
  },
  {
   "cell_type": "markdown",
   "metadata": {},
   "source": [
    "### Write a program that uses the map function to create a new list that contains the length of each string in a user inputted list of strings."
   ]
  },
  {
   "cell_type": "code",
   "execution_count": 24,
   "metadata": {},
   "outputs": [
    {
     "name": "stdout",
     "output_type": "stream",
     "text": [
      "['hi', 'how', 'are', 'you']\n",
      "[2, 3, 3, 3]\n"
     ]
    }
   ],
   "source": [
    "user_string_list = input(\"Enter the string seperated by a comma\")\n",
    "string_list = user_string_list.split(',')\n",
    "length_string = list(map(lambda i: len(i), string_list))\n",
    "print(string_list)\n",
    "print(length_string)"
   ]
  },
  {
   "cell_type": "markdown",
   "metadata": {},
   "source": [
    "### Write a program that uses a lambda expression and the map function to calculate the square root of each element in a list of integers. Print the new list."
   ]
  },
  {
   "cell_type": "code",
   "execution_count": 27,
   "metadata": {},
   "outputs": [
    {
     "name": "stdout",
     "output_type": "stream",
     "text": [
      "[25, 65, 77, 54]\n",
      "[5.0, 8.06225774829855, 8.774964387392123, 7.3484692283495345]\n"
     ]
    }
   ],
   "source": [
    "numbers = [25, 65, 77, 54]\n",
    "from math import sqrt\n",
    "square_root = list(map(lambda i: sqrt(i), numbers))\n",
    "print(numbers)\n",
    "print(square_root)"
   ]
  },
  {
   "cell_type": "markdown",
   "metadata": {},
   "source": [
    "### Write a program that uses a lambda expression and the map function to convert a list of integers to their absolute values. Print the new list."
   ]
  },
  {
   "cell_type": "code",
   "execution_count": 30,
   "metadata": {},
   "outputs": [
    {
     "name": "stdout",
     "output_type": "stream",
     "text": [
      "[-25, 65, -77, 54]\n",
      "[25, 65, 77, 54]\n"
     ]
    }
   ],
   "source": [
    "numbers = [-25, 65, -77, 54]\n",
    "absolute = list(map(lambda i: abs(i), numbers))\n",
    "print(numbers)\n",
    "print(absolute)"
   ]
  },
  {
   "cell_type": "markdown",
   "metadata": {},
   "source": [
    "### Write a program that uses the map function to create a new list that contains the uppercase version of each string in a user inputted list of strings."
   ]
  },
  {
   "cell_type": "code",
   "execution_count": 31,
   "metadata": {},
   "outputs": [
    {
     "name": "stdout",
     "output_type": "stream",
     "text": [
      "['hi', 'what', 'are', 'you', 'doing']\n",
      "['HI', 'WHAT', 'ARE', 'YOU', 'DOING']\n"
     ]
    }
   ],
   "source": [
    "user_string_list = input(\"Enter the string seperated by a comma\")\n",
    "string_list = user_string_list.split(',')\n",
    "upper_string = list(map(lambda i: i.upper(), string_list))\n",
    "print(string_list)\n",
    "print(upper_string)"
   ]
  },
  {
   "cell_type": "markdown",
   "metadata": {},
   "source": [
    "### Write a program that uses the filter function to create a new list that contains only the even numbers from a user inputted list of integers."
   ]
  },
  {
   "cell_type": "code",
   "execution_count": 34,
   "metadata": {},
   "outputs": [
    {
     "name": "stdout",
     "output_type": "stream",
     "text": [
      "[1, 2, 3, 4, 5, 6, 7, 8, 9]\n",
      "[2, 4, 6, 8]\n"
     ]
    }
   ],
   "source": [
    "user_string_list = input(\"Enter the string seperated by a comma\")\n",
    "string_list = user_string_list.split(',')\n",
    "int_list = list(map(int, string_list))\n",
    "even_num = list(filter(lambda i: i%2==0, int_list))\n",
    "print(int_list)\n",
    "print(even_num)"
   ]
  },
  {
   "cell_type": "markdown",
   "metadata": {},
   "source": [
    "### Write a program that uses a lambda expression and the filter function to create a new list that contains only the strings that start with a vowel from a user inputted list of strings."
   ]
  },
  {
   "cell_type": "code",
   "execution_count": 37,
   "metadata": {},
   "outputs": [
    {
     "name": "stdout",
     "output_type": "stream",
     "text": [
      "['apple', 'banana', 'ice', 'out', 'parrot', 'elephant', 'gun']\n",
      "['apple', 'ice', 'out', 'elephant']\n"
     ]
    }
   ],
   "source": [
    "user_string_list = input(\"Enter the string seperated by a comma\")\n",
    "string_list = user_string_list.lower().split(',')\n",
    "vowel_string = list(filter(lambda i: i[0] in 'aeiou', string_list))\n",
    "print(string_list)\n",
    "print(vowel_string)"
   ]
  },
  {
   "cell_type": "markdown",
   "metadata": {},
   "source": [
    "### Write a program that uses the filter function to create a new list that contains only the strings with a length greater than 5 from a user inputted list of strings."
   ]
  },
  {
   "cell_type": "code",
   "execution_count": 39,
   "metadata": {},
   "outputs": [
    {
     "name": "stdout",
     "output_type": "stream",
     "text": [
      "['apple', 'banana', ' ice', 'out', 'parrot', 'elephant', 'gun']\n",
      "['banana', 'parrot', 'elephant']\n"
     ]
    }
   ],
   "source": [
    "user_string_list = input(\"Enter the string seperated by a comma\")\n",
    "string_list = user_string_list.lower().split(',')\n",
    "len_string = list(filter(lambda i: len(i)>5, string_list))\n",
    "print(string_list)\n",
    "print(len_string)\n",
    "# apple,banana, ice,out,parrot,elephant,gun"
   ]
  },
  {
   "cell_type": "markdown",
   "metadata": {},
   "source": [
    "### Write a program that uses a lambda expression and the filter function to create a new list that contains only the positive numbers from a user inputted list of integers."
   ]
  },
  {
   "cell_type": "code",
   "execution_count": 40,
   "metadata": {},
   "outputs": [
    {
     "name": "stdout",
     "output_type": "stream",
     "text": [
      "[-3, 5, -3, -6, -7, 23, -54, 32]\n",
      "[5, 23, 32]\n"
     ]
    }
   ],
   "source": [
    "user_string_list = input(\"Enter the string seperated by a comma\")\n",
    "string_list = user_string_list.split(',')\n",
    "int_list = list(map(int, string_list))\n",
    "positive_num = list(filter(lambda i: i>=0, int_list))\n",
    "print(int_list)\n",
    "print(positive_num)"
   ]
  },
  {
   "cell_type": "markdown",
   "metadata": {},
   "source": [
    "### Write a program that uses the filter function to create a new list that contains only the strings that contain the letter `'e'` from a user inputted list of strings."
   ]
  },
  {
   "cell_type": "code",
   "execution_count": 42,
   "metadata": {},
   "outputs": [
    {
     "name": "stdout",
     "output_type": "stream",
     "text": [
      "['apple', 'banana', ' ice', 'out', 'parrot', 'elephant', 'gun']\n",
      "['apple', ' ice', 'elephant']\n"
     ]
    }
   ],
   "source": [
    "user_string_list = input(\"Enter the string seperated by a comma\")\n",
    "string_list = user_string_list.lower().split(',')\n",
    "letter_e_string = list(filter(lambda i: 'e' in i, string_list))\n",
    "print(string_list)\n",
    "print(letter_e_string)\n",
    "# apple,banana, ice,out,parrot,elephant,gun"
   ]
  },
  {
   "cell_type": "markdown",
   "metadata": {},
   "source": [
    "### Write a program that creates a nested list from two user inputted lists of integers. The resulting nested list should contain each element of the list paired with the corresponding element of the second list.\n",
    "- Example input: [1, 2, 3], [4, 5, 6]\n",
    "- Example output: [[1, 4], [2, 5], [3, 6]]"
   ]
  },
  {
   "cell_type": "code",
   "execution_count": 45,
   "metadata": {},
   "outputs": [
    {
     "name": "stdout",
     "output_type": "stream",
     "text": [
      "[1, 2, 3]\n",
      "[4, 5, 6]\n",
      "[[1, 4], [2, 5], [3, 6]]\n"
     ]
    }
   ],
   "source": [
    "user_string_list1 = input(\"Enter the string seperated by a comma\")\n",
    "string_list1 = user_string_list1.split(',')\n",
    "int_list1 = list(map(int, string_list1))\n",
    "\n",
    "user_string_list2 = input(\"Enter the string seperated by a comma\")\n",
    "string_list2 = user_string_list2.split(',')\n",
    "int_list2 = list(map(int, string_list2))\n",
    "\n",
    "paired_list = list(map(list, zip(int_list1, int_list2)))\n",
    "\n",
    "print(int_list1)\n",
    "print(int_list2)\n",
    "print(paired_list)"
   ]
  },
  {
   "cell_type": "markdown",
   "metadata": {},
   "source": [
    "### Write a program that creates a nested list of strings from a user inputs list of strings. The resulting nested list should contain each string split into its individual characters.\n",
    "- Example input: ['hello', 'world']\n",
    "- Example output: [['h', 'e', 'l', 'l', 'o'], ['w', 'o', 'r', 'l', 'd']]"
   ]
  },
  {
   "cell_type": "code",
   "execution_count": 53,
   "metadata": {},
   "outputs": [
    {
     "name": "stdout",
     "output_type": "stream",
     "text": [
      "['hello', 'world']\n",
      "[['h', 'e', 'l', 'l', 'o'], ['w', 'o', 'r', 'l', 'd']]\n"
     ]
    }
   ],
   "source": [
    "user_string_list = input(\"Enter the string seperated by comma\")\n",
    "string_list = user_string_list.split(',')\n",
    "\n",
    "nested_list = list(map(list, string_list))\n",
    "\n",
    "print(string_list)\n",
    "print(nested_list)"
   ]
  },
  {
   "cell_type": "markdown",
   "metadata": {},
   "source": [
    "### Write a program that creates a nested list of integers from a user inputted list of integers. The resulting nested list should contain each integer along with its square.\n",
    "- Example input: [1, 2, 3, 4, 5]\n",
    "- Example output: [[1, 1], [2, 4], [3, 9], [4, 16], [5, 25]]"
   ]
  },
  {
   "cell_type": "code",
   "execution_count": 54,
   "metadata": {},
   "outputs": [
    {
     "name": "stdout",
     "output_type": "stream",
     "text": [
      "[1, 2, 3, 4, 5]\n",
      "[[1, 1], [2, 4], [3, 9], [4, 16], [5, 25]]\n"
     ]
    }
   ],
   "source": [
    "a = [1,2,3,4,5]\n",
    "square = list(map(lambda i: i**2, a))\n",
    "nested_list = list(map(list, zip(a, square)))\n",
    "print(a)\n",
    "print(nested_list)"
   ]
  },
  {
   "cell_type": "markdown",
   "metadata": {},
   "source": [
    "### Write a program that creates a nested list from a user inputted list of strings. The resulting nesting list contain the unique characters from each string.\n",
    "- Example input: ['apple', 'banana', 'cherry']\n",
    "- Example output: [['a', 'p', 'l', 'e'], ['b', 'a', 'n'], ['c', 'h', 'e', 'r', 'y']]"
   ]
  },
  {
   "cell_type": "code",
   "execution_count": 60,
   "metadata": {},
   "outputs": [
    {
     "name": "stdout",
     "output_type": "stream",
     "text": [
      "['apple', 'banana', 'cherry']\n",
      "[['l', 'a', 'e', 'p'], ['n', 'a', 'b'], ['r', 'e', 'c', 'h', 'y']]\n"
     ]
    }
   ],
   "source": [
    "user_string_list = input(\"Enter the string seperated by comma\")\n",
    "string_list = user_string_list.split(',')\n",
    "set_string = list(map(lambda i: list(set(i)), string_list))\n",
    "print(string_list)\n",
    "print(set_string)\n",
    "# apple,banana,cherry\n"
   ]
  },
  {
   "cell_type": "markdown",
   "metadata": {},
   "source": [
    "### Write a program that creates a nested list of integers from a user inputted list of integers. The resulting nested list should contain each integer along with all of its divisors.\n",
    "- Example input: [2, 3, 4, 5]\n",
    "- Example output: [[2, [1, 2]], [3, [1, 3]], [4, [1, 2, 4]], [5, [1, 5]]]"
   ]
  },
  {
   "cell_type": "code",
   "execution_count": 71,
   "metadata": {},
   "outputs": [
    {
     "name": "stdout",
     "output_type": "stream",
     "text": [
      "[2, 3, 4]\n",
      "[[2, 1], [3, 2]]\n"
     ]
    }
   ],
   "source": [
    "# def divisors(value):\n",
    "#     divisor_list = []\n",
    "#     for i in range(1, value+1):\n",
    "#         if value % i == 0:\n",
    "#             divisor_list.append(i)\n",
    "#     return divisor_list\n",
    "\n",
    "# # num = 2\n",
    "# divisor = divisors(num)\n",
    "# user_string_list = input(\"Enter the string seperated by a comma\")\n",
    "# string_list = user_string_list.split(',')\n",
    "# int_list = list(map(int, string_list))\n",
    "\n",
    "# nested_list = list(map(list, zip(int_list, divisor)))\n",
    "# print(int_list)\n",
    "# print(nested_list)\n",
    "# # print(divisor, type(divisor))"
   ]
  },
  {
   "cell_type": "markdown",
   "metadata": {},
   "source": [
    "### You are given a list of integers, nums. Write a function, reverse_list(nums), that takes the list as input and returns a new list that is the reverse of the original list. Function signature\n",
    "- def reverse_list(nums: `List`[int]) -> `List`[int]\n",
    "\n",
    "- inputs:\n",
    "    - A list of integers, nums(1<=len(nums)<=100)\n",
    "- outputs:\n",
    "    - A new list that is the reverse of `nums`\n",
    "\n",
    "- Example:\n",
    "    - Input: nums = [1, 2, 3, 4, 5]\n",
    "    - Output: [5, 4, 3, 2, 1]\n",
    "\n",
    "    - Input: nums = [7, 6, 5, 4]\n",
    "    - Output: [4, 5, 6, 7]\n",
    "\n",
    "- Note: You are not allowed to use any built-in Python functions or methods that directly reverse a list. Your function must return a new list that is the reverse of the original list using only standard Python list manipulation techniques. Your function should have a time complexity of `O(n)` and a space complexity of `O(n)`."
   ]
  },
  {
   "cell_type": "code",
   "execution_count": null,
   "metadata": {},
   "outputs": [],
   "source": []
  }
 ],
 "metadata": {
  "kernelspec": {
   "display_name": "base",
   "language": "python",
   "name": "python3"
  },
  "language_info": {
   "codemirror_mode": {
    "name": "ipython",
    "version": 3
   },
   "file_extension": ".py",
   "mimetype": "text/x-python",
   "name": "python",
   "nbconvert_exporter": "python",
   "pygments_lexer": "ipython3",
   "version": "3.11.4"
  }
 },
 "nbformat": 4,
 "nbformat_minor": 2
}
