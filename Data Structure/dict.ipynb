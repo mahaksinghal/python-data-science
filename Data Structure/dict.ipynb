{
 "cells": [
  {
   "cell_type": "markdown",
   "metadata": {},
   "source": [
    "# dictionary\n",
    "- create\n",
    "- access\n",
    "- change\n",
    "- methods"
   ]
  },
  {
   "cell_type": "code",
   "execution_count": 1,
   "metadata": {},
   "outputs": [],
   "source": [
    "# data = [33, 100, 'sunny', 6, 'lucknow']\n",
    "data = { 'temp': 33, 'humidity': 100, 'weather': 'sunny', 'wind': 6, 'location': 'lucknow'}"
   ]
  },
  {
   "cell_type": "code",
   "execution_count": 4,
   "metadata": {},
   "outputs": [
    {
     "name": "stdout",
     "output_type": "stream",
     "text": [
      "{'names': ['mahak', 'natasha', 'aditya', 'yusuf'], 'academic_lvl': ['Btech', 'Bca', 'bba', 'Bcom']}\n"
     ]
    }
   ],
   "source": [
    "students = {\n",
    "    'names': ['mahak', 'natasha', 'aditya', 'yusuf'],\n",
    "    'academic_lvl': ['Btech', 'Bca', 'bba', 'Bcom']\n",
    "}\n",
    "print(students)"
   ]
  },
  {
   "cell_type": "code",
   "execution_count": 5,
   "metadata": {},
   "outputs": [
    {
     "name": "stdout",
     "output_type": "stream",
     "text": [
      "{'fruits': [{'name': 'apple', 'qty': 10}, {'name': 'banana', 'qty': 50}, {'name': 'cherry', 'qty': 25}], 'vegetables': [{'name': 'potato', 'qty': 100}, {'name': 'tomato', 'qty': 50}, {'name': 'onion', 'qty': 50}]}\n"
     ]
    }
   ],
   "source": [
    "# nested dictionary\n",
    "products = {\n",
    "    'fruits': [\n",
    "        {'name': 'apple', 'qty': 10},\n",
    "        {'name': 'banana', 'qty': 50},\n",
    "        {'name': 'cherry', 'qty': 25},\n",
    "    ],\n",
    "    'vegetables': [\n",
    "        {'name': 'potato', 'qty': 100},\n",
    "        {'name': 'tomato', 'qty': 50},\n",
    "        {'name': 'onion', 'qty': 50},\n",
    "    ],\n",
    "}\n",
    "print(products)"
   ]
  },
  {
   "cell_type": "code",
   "execution_count": 6,
   "metadata": {},
   "outputs": [
    {
     "data": {
      "text/plain": [
       "'sunny'"
      ]
     },
     "execution_count": 6,
     "metadata": {},
     "output_type": "execute_result"
    }
   ],
   "source": [
    "data['weather']"
   ]
  },
  {
   "cell_type": "code",
   "execution_count": 7,
   "metadata": {},
   "outputs": [
    {
     "data": {
      "text/plain": [
       "'lucknow'"
      ]
     },
     "execution_count": 7,
     "metadata": {},
     "output_type": "execute_result"
    }
   ],
   "source": [
    "data['location']"
   ]
  },
  {
   "cell_type": "code",
   "execution_count": 8,
   "metadata": {},
   "outputs": [
    {
     "data": {
      "text/plain": [
       "[{'name': 'potato', 'qty': 100},\n",
       " {'name': 'tomato', 'qty': 50},\n",
       " {'name': 'onion', 'qty': 50}]"
      ]
     },
     "execution_count": 8,
     "metadata": {},
     "output_type": "execute_result"
    }
   ],
   "source": [
    "products['vegetables']"
   ]
  },
  {
   "cell_type": "code",
   "execution_count": 9,
   "metadata": {},
   "outputs": [
    {
     "data": {
      "text/plain": [
       "['mahak', 'natasha', 'aditya', 'yusuf']"
      ]
     },
     "execution_count": 9,
     "metadata": {},
     "output_type": "execute_result"
    }
   ],
   "source": [
    "students['names']"
   ]
  },
  {
   "cell_type": "code",
   "execution_count": 10,
   "metadata": {},
   "outputs": [
    {
     "data": {
      "text/plain": [
       "'mahak'"
      ]
     },
     "execution_count": 10,
     "metadata": {},
     "output_type": "execute_result"
    }
   ],
   "source": [
    "students['names'][0]"
   ]
  },
  {
   "cell_type": "code",
   "execution_count": 12,
   "metadata": {},
   "outputs": [
    {
     "data": {
      "text/plain": [
       "'tomato'"
      ]
     },
     "execution_count": 12,
     "metadata": {},
     "output_type": "execute_result"
    }
   ],
   "source": [
    "products['vegetables'][1]['name']"
   ]
  },
  {
   "cell_type": "code",
   "execution_count": 17,
   "metadata": {},
   "outputs": [
    {
     "data": {
      "text/plain": [
       "{'temp': 20,\n",
       " 'humidity': 100,\n",
       " 'weather': 'Thunderstorm',\n",
       " 'wind': 6,\n",
       " 'location': 'lucknow'}"
      ]
     },
     "execution_count": 17,
     "metadata": {},
     "output_type": "execute_result"
    }
   ],
   "source": [
    "# change value of exiting key\n",
    "data['temp'] = 20\n",
    "data['weather'] = 'Thunderstorm'\n",
    "data"
   ]
  },
  {
   "cell_type": "code",
   "execution_count": 18,
   "metadata": {},
   "outputs": [
    {
     "data": {
      "text/plain": [
       "{'temp': 20,\n",
       " 'humidity': 100,\n",
       " 'weather': 'Thunderstorm',\n",
       " 'wind': 6,\n",
       " 'location': 'lucknow',\n",
       " 'website': 'accweather.com'}"
      ]
     },
     "execution_count": 18,
     "metadata": {},
     "output_type": "execute_result"
    }
   ],
   "source": [
    "# dict[new key] = new value(adds new key-value pair)\n",
    "data['website'] = 'accweather.com'\n",
    "data"
   ]
  },
  {
   "cell_type": "code",
   "execution_count": 19,
   "metadata": {},
   "outputs": [
    {
     "data": {
      "text/plain": [
       "{'names': ['mahak', 'natasha', 'aditya', 'yusuf', 'Rohan'],\n",
       " 'academic_lvl': ['Btech', 'Bca', 'bba', 'Bcom', '12th']}"
      ]
     },
     "execution_count": 19,
     "metadata": {},
     "output_type": "execute_result"
    }
   ],
   "source": [
    "students['names'].append('Rohan')\n",
    "students['academic_lvl'].append('12th')\n",
    "students"
   ]
  },
  {
   "cell_type": "code",
   "execution_count": 20,
   "metadata": {},
   "outputs": [
    {
     "data": {
      "text/plain": [
       "{'names': 'something', 'academic_lvl': ['Btech', 'Bca', 'bba', 'Bcom', '12th']}"
      ]
     },
     "execution_count": 20,
     "metadata": {},
     "output_type": "execute_result"
    }
   ],
   "source": [
    "students['names'] = 'something'\n",
    "students"
   ]
  },
  {
   "cell_type": "code",
   "execution_count": 21,
   "metadata": {},
   "outputs": [
    {
     "data": {
      "text/plain": [
       "{'fruits': [{'name': 'apple', 'qty': 10},\n",
       "  {'name': 'banana', 'qty': 50},\n",
       "  {'name': 'cherry', 'qty': 25},\n",
       "  {'name': 'orange', 'qty': 10}],\n",
       " 'vegetables': [{'name': 'potato', 'qty': 100},\n",
       "  {'name': 'tomato', 'qty': 50},\n",
       "  {'name': 'onion', 'qty': 50}]}"
      ]
     },
     "execution_count": 21,
     "metadata": {},
     "output_type": "execute_result"
    }
   ],
   "source": [
    "orange = {'name': 'orange', 'qty': 10}\n",
    "products['fruits'].append(orange)\n",
    "products"
   ]
  },
  {
   "cell_type": "code",
   "execution_count": 22,
   "metadata": {},
   "outputs": [
    {
     "data": {
      "text/plain": [
       "{'fruits': [{'name': 'apple', 'qty': 10},\n",
       "  {'name': 'banana', 'qty': 50},\n",
       "  {'name': 'cherry', 'qty': 25},\n",
       "  {'name': 'orange', 'qty': 10}],\n",
       " 'vegetables': [{'name': 'potato', 'qty': 100},\n",
       "  {'name': 'tomato', 'qty': 50},\n",
       "  {'name': 'onion', 'qty': 50}],\n",
       " 'cereals': 'no cereal availabe'}"
      ]
     },
     "execution_count": 22,
     "metadata": {},
     "output_type": "execute_result"
    }
   ],
   "source": [
    "products['cereals'] = 'no cereal availabe'\n",
    "products"
   ]
  },
  {
   "cell_type": "markdown",
   "metadata": {},
   "source": [
    "- methods\n",
    "    - keys()\n",
    "    - values()\n",
    "    - items()\n",
    "    - get()\n",
    "    - update()\n",
    "    - pop()"
   ]
  },
  {
   "cell_type": "code",
   "execution_count": 24,
   "metadata": {},
   "outputs": [
    {
     "data": {
      "text/plain": [
       "['temp', 'humidity', 'weather', 'wind', 'location', 'website']"
      ]
     },
     "execution_count": 24,
     "metadata": {},
     "output_type": "execute_result"
    }
   ],
   "source": [
    "list(data.keys())"
   ]
  },
  {
   "cell_type": "code",
   "execution_count": 25,
   "metadata": {},
   "outputs": [
    {
     "data": {
      "text/plain": [
       "[20, 100, 'Thunderstorm', 6, 'lucknow', 'accweather.com']"
      ]
     },
     "execution_count": 25,
     "metadata": {},
     "output_type": "execute_result"
    }
   ],
   "source": [
    "list(data.values())"
   ]
  },
  {
   "cell_type": "code",
   "execution_count": 27,
   "metadata": {},
   "outputs": [
    {
     "data": {
      "text/plain": [
       "[('temp', 20),\n",
       " ('humidity', 100),\n",
       " ('weather', 'Thunderstorm'),\n",
       " ('wind', 6),\n",
       " ('location', 'lucknow'),\n",
       " ('website', 'accweather.com')]"
      ]
     },
     "execution_count": 27,
     "metadata": {},
     "output_type": "execute_result"
    }
   ],
   "source": [
    "list(data.items())"
   ]
  },
  {
   "cell_type": "code",
   "execution_count": 30,
   "metadata": {},
   "outputs": [
    {
     "name": "stdout",
     "output_type": "stream",
     "text": [
      "temp\n",
      "humidity\n",
      "weather\n",
      "wind\n",
      "location\n",
      "website\n"
     ]
    }
   ],
   "source": [
    "# simple for loop in dict only gives only keys from a dictionay\n",
    "for i in data:\n",
    "    print(i)"
   ]
  },
  {
   "cell_type": "code",
   "execution_count": 31,
   "metadata": {},
   "outputs": [
    {
     "name": "stdout",
     "output_type": "stream",
     "text": [
      "('temp', 20)\n",
      "('humidity', 100)\n",
      "('weather', 'Thunderstorm')\n",
      "('wind', 6)\n",
      "('location', 'lucknow')\n",
      "('website', 'accweather.com')\n"
     ]
    }
   ],
   "source": [
    "for i in data.items():\n",
    "    print(i)"
   ]
  },
  {
   "cell_type": "code",
   "execution_count": 32,
   "metadata": {},
   "outputs": [
    {
     "name": "stdout",
     "output_type": "stream",
     "text": [
      "temp : 20\n",
      "humidity : 100\n",
      "weather : Thunderstorm\n",
      "wind : 6\n",
      "location : lucknow\n",
      "website : accweather.com\n"
     ]
    }
   ],
   "source": [
    "for k, v in data.items():\n",
    "    print(k, ':', v)"
   ]
  },
  {
   "cell_type": "code",
   "execution_count": 33,
   "metadata": {},
   "outputs": [
    {
     "name": "stdout",
     "output_type": "stream",
     "text": [
      "temp 20\n",
      "humidity 100\n",
      "weather Thunderstorm\n",
      "wind 6\n",
      "location lucknow\n",
      "website accweather.com\n"
     ]
    }
   ],
   "source": [
    "for key in data:\n",
    "    print(key, data[key])"
   ]
  },
  {
   "cell_type": "code",
   "execution_count": 34,
   "metadata": {},
   "outputs": [],
   "source": [
    "x = {\n",
    "    'apple': 'pie',\n",
    "    'orange': 'jam',\n",
    "    'pineapple': 'juice'\n",
    "}\n",
    "\n",
    "y = {\n",
    "    'potato': 'fries',\n",
    "    'tomato': 'ketchup'\n",
    "}"
   ]
  },
  {
   "cell_type": "code",
   "execution_count": 35,
   "metadata": {},
   "outputs": [
    {
     "name": "stdout",
     "output_type": "stream",
     "text": [
      "{'apple': 'pie', 'orange': 'jam', 'pineapple': 'juice', 'potato': 'fries', 'tomato': 'ketchup'}\n",
      "{'potato': 'fries', 'tomato': 'ketchup'}\n"
     ]
    }
   ],
   "source": [
    "x.update(y)\n",
    "print(x)\n",
    "print(y)"
   ]
  },
  {
   "cell_type": "code",
   "execution_count": 38,
   "metadata": {},
   "outputs": [
    {
     "name": "stdout",
     "output_type": "stream",
     "text": [
      "pie\n",
      "None\n",
      "Not found\n",
      "pie\n"
     ]
    }
   ],
   "source": [
    "print(x.get('apple'))\n",
    "print(x.get('apples'))\n",
    "print(x.get('apples', 'Not found'))\n",
    "print(x.get('apple', 'Not found'))"
   ]
  },
  {
   "cell_type": "code",
   "execution_count": 40,
   "metadata": {},
   "outputs": [
    {
     "name": "stdout",
     "output_type": "stream",
     "text": [
      "pie\n"
     ]
    }
   ],
   "source": [
    "inp = input(\"Enter item name:\")\n",
    "print(x.get(inp, 'Not Found'))"
   ]
  },
  {
   "cell_type": "code",
   "execution_count": null,
   "metadata": {},
   "outputs": [],
   "source": [
    "# list comprehension"
   ]
  }
 ],
 "metadata": {
  "kernelspec": {
   "display_name": "base",
   "language": "python",
   "name": "python3"
  },
  "language_info": {
   "codemirror_mode": {
    "name": "ipython",
    "version": 3
   },
   "file_extension": ".py",
   "mimetype": "text/x-python",
   "name": "python",
   "nbconvert_exporter": "python",
   "pygments_lexer": "ipython3",
   "version": "3.11.4"
  }
 },
 "nbformat": 4,
 "nbformat_minor": 2
}
