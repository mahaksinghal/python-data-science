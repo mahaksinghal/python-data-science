{
 "cells": [
  {
   "cell_type": "markdown",
   "metadata": {},
   "source": [
    "Python program to interchange first and last elements in a list."
   ]
  },
  {
   "cell_type": "code",
   "execution_count": 1,
   "metadata": {},
   "outputs": [
    {
     "name": "stdout",
     "output_type": "stream",
     "text": [
      "[9, 8, 3, 1, 0, 4, 2, 7, 2]\n"
     ]
    }
   ],
   "source": [
    "l1 = [2,8,3,1,0,4,2,7,9]\n",
    "l1[0], l1[-1] = l1[-1], l1[0]\n",
    "print(l1)"
   ]
  },
  {
   "cell_type": "markdown",
   "metadata": {},
   "source": [
    "Python program to swap two elements in a list."
   ]
  },
  {
   "cell_type": "code",
   "execution_count": 2,
   "metadata": {},
   "outputs": [
    {
     "name": "stdout",
     "output_type": "stream",
     "text": [
      "[2, 8, 2, 1, 0, 4, 3, 7, 9]\n"
     ]
    }
   ],
   "source": [
    "l1 = [2,8,3,1,0,4,2,7,9]\n",
    "pos1 = int(input(\"Enter the 1st position you want to exchange\"))\n",
    "pos2 = int(input(\"Enter the 2nd position you want to exchange\"))\n",
    "l1[pos1], l1[pos2] = l1[pos2], l1[pos1]\n",
    "print(l1)"
   ]
  },
  {
   "cell_type": "markdown",
   "metadata": {},
   "source": [
    "Python – Swap elements in String list"
   ]
  },
  {
   "cell_type": "code",
   "execution_count": 4,
   "metadata": {},
   "outputs": [
    {
     "name": "stdout",
     "output_type": "stream",
     "text": [
      "Original List is:  ['Swap', 'element', 'in', 'String', 'List']\n",
      "['Swep', 'alamant', 'in', 'String', 'List']\n"
     ]
    }
   ],
   "source": [
    "str_list = ['Swap', 'element', 'in', 'String', 'List']\n",
    "print(\"Original List is: \", str_list)\n",
    "str = \" \".join(str_list)\n",
    "replace_str = str.replace('a', '_').replace('e', 'a').replace('_', 'e')\n",
    "new_list = replace_str.split()\n",
    "print(new_list)"
   ]
  },
  {
   "cell_type": "code",
   "execution_count": null,
   "metadata": {},
   "outputs": [],
   "source": [
    "# clothes={\n",
    "# 'indian':[\n",
    "#     {'name':'kurta','price':500},\n",
    "#     {'name':'pajama','price':300},\n",
    "#     {'name':'banarasi saree','price':950},\n",
    "# ],\n",
    "# 'western':[\n",
    "#     {'name':'laggi','price':600},\n",
    "#     {'name':'gown','price':1800},\n",
    "#     {'name':'jeans','price':850},\n",
    "# ]}\n",
    "\n",
    "# style=input('enter the style')\n",
    "# item=input('enter the item')\n",
    "\n",
    "# # for st in clothes.items():\n",
    "# #     if st[style] == \n",
    "\n",
    "\n",
    "# for i in clothes[style]:\n",
    "#     if i['name'] == item:\n",
    "#         print('the price of',item,'is',i['price'])\n",
    "#         break\n",
    "# else:\n",
    "#     print('item not found')\n",
    "    "
   ]
  },
  {
   "cell_type": "code",
   "execution_count": null,
   "metadata": {},
   "outputs": [],
   "source": []
  }
 ],
 "metadata": {
  "kernelspec": {
   "display_name": "base",
   "language": "python",
   "name": "python3"
  },
  "language_info": {
   "codemirror_mode": {
    "name": "ipython",
    "version": 3
   },
   "file_extension": ".py",
   "mimetype": "text/x-python",
   "name": "python",
   "nbconvert_exporter": "python",
   "pygments_lexer": "ipython3",
   "version": "3.11.4"
  }
 },
 "nbformat": 4,
 "nbformat_minor": 2
}
