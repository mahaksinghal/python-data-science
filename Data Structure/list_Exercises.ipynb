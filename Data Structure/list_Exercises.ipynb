{
 "cells": [
  {
   "cell_type": "markdown",
   "metadata": {},
   "source": [
    "Python program to interchange first and last elements in a list."
   ]
  },
  {
   "cell_type": "code",
   "execution_count": 1,
   "metadata": {},
   "outputs": [
    {
     "name": "stdout",
     "output_type": "stream",
     "text": [
      "[9, 8, 3, 1, 0, 4, 2, 7, 2]\n"
     ]
    }
   ],
   "source": [
    "l1 = [2,8,3,1,0,4,2,7,9]\n",
    "l1[0], l1[-1] = l1[-1], l1[0]\n",
    "print(l1)"
   ]
  },
  {
   "cell_type": "markdown",
   "metadata": {},
   "source": [
    "Python program to swap two elements in a list."
   ]
  },
  {
   "cell_type": "code",
   "execution_count": 2,
   "metadata": {},
   "outputs": [
    {
     "name": "stdout",
     "output_type": "stream",
     "text": [
      "[2, 8, 2, 1, 0, 4, 3, 7, 9]\n"
     ]
    }
   ],
   "source": [
    "l1 = [2,8,3,1,0,4,2,7,9]\n",
    "pos1 = int(input(\"Enter the 1st position you want to exchange\"))\n",
    "pos2 = int(input(\"Enter the 2nd position you want to exchange\"))\n",
    "l1[pos1], l1[pos2] = l1[pos2], l1[pos1]\n",
    "print(l1)"
   ]
  },
  {
   "cell_type": "markdown",
   "metadata": {},
   "source": [
    "Python – Swap elements in String list"
   ]
  },
  {
   "cell_type": "code",
   "execution_count": 4,
   "metadata": {},
   "outputs": [
    {
     "name": "stdout",
     "output_type": "stream",
     "text": [
      "Original List is:  ['Swap', 'element', 'in', 'String', 'List']\n",
      "['Swep', 'alamant', 'in', 'String', 'List']\n"
     ]
    }
   ],
   "source": [
    "str_list = ['Swap', 'element', 'in', 'String', 'List']\n",
    "print(\"Original List is: \", str_list)\n",
    "str = \" \".join(str_list)\n",
    "replace_str = str.replace('a', '_').replace('e', 'a').replace('_', 'e')\n",
    "new_list = replace_str.split()\n",
    "print(new_list)"
   ]
  },
  {
   "cell_type": "code",
   "execution_count": 4,
   "metadata": {},
   "outputs": [
    {
     "ename": "KeyError",
     "evalue": "'indo'",
     "output_type": "error",
     "traceback": [
      "\u001b[1;31m---------------------------------------------------------------------------\u001b[0m",
      "\u001b[1;31mKeyError\u001b[0m                                  Traceback (most recent call last)",
      "\u001b[1;32md:\\python data science\\Data Structure\\list_Exercises.ipynb Cell 7\u001b[0m line \u001b[0;36m2\n\u001b[0;32m     <a href='vscode-notebook-cell:/d%3A/python%20data%20science/Data%20Structure/list_Exercises.ipynb#X10sZmlsZQ%3D%3D?line=13'>14</a>\u001b[0m item\u001b[39m=\u001b[39m\u001b[39minput\u001b[39m(\u001b[39m'\u001b[39m\u001b[39menter the item\u001b[39m\u001b[39m'\u001b[39m)\n\u001b[0;32m     <a href='vscode-notebook-cell:/d%3A/python%20data%20science/Data%20Structure/list_Exercises.ipynb#X10sZmlsZQ%3D%3D?line=15'>16</a>\u001b[0m \u001b[39m# for st in clothes.items():\u001b[39;00m\n\u001b[0;32m     <a href='vscode-notebook-cell:/d%3A/python%20data%20science/Data%20Structure/list_Exercises.ipynb#X10sZmlsZQ%3D%3D?line=16'>17</a>\u001b[0m \u001b[39m#     if st[style] == \u001b[39;00m\n\u001b[1;32m---> <a href='vscode-notebook-cell:/d%3A/python%20data%20science/Data%20Structure/list_Exercises.ipynb#X10sZmlsZQ%3D%3D?line=19'>20</a>\u001b[0m \u001b[39mfor\u001b[39;00m i \u001b[39min\u001b[39;00m clothes[style]:\n\u001b[0;32m     <a href='vscode-notebook-cell:/d%3A/python%20data%20science/Data%20Structure/list_Exercises.ipynb#X10sZmlsZQ%3D%3D?line=20'>21</a>\u001b[0m     \u001b[39mif\u001b[39;00m i[\u001b[39m'\u001b[39m\u001b[39mname\u001b[39m\u001b[39m'\u001b[39m] \u001b[39m==\u001b[39m item:\n\u001b[0;32m     <a href='vscode-notebook-cell:/d%3A/python%20data%20science/Data%20Structure/list_Exercises.ipynb#X10sZmlsZQ%3D%3D?line=21'>22</a>\u001b[0m         \u001b[39mprint\u001b[39m(\u001b[39m'\u001b[39m\u001b[39mthe price of\u001b[39m\u001b[39m'\u001b[39m,item,\u001b[39m'\u001b[39m\u001b[39mis\u001b[39m\u001b[39m'\u001b[39m,i[\u001b[39m'\u001b[39m\u001b[39mprice\u001b[39m\u001b[39m'\u001b[39m])\n",
      "\u001b[1;31mKeyError\u001b[0m: 'indo'"
     ]
    }
   ],
   "source": [
    "# clothes={\n",
    "# 'indian':[\n",
    "#     {'name':'kurta','price':500},\n",
    "#     {'name':'pajama','price':300},\n",
    "#     {'name':'banarasi saree','price':950},\n",
    "# ],\n",
    "# 'western':[\n",
    "#     {'name':'laggi','price':600},\n",
    "#     {'name':'gown','price':1800},\n",
    "#     {'name':'jeans','price':850},\n",
    "# ]}\n",
    "\n",
    "# style=input('enter the style')\n",
    "# item=input('enter the item')\n",
    "\n",
    "# # for st in clothes.items():\n",
    "# #     if st[style] == \n",
    "\n",
    "\n",
    "# for i in clothes[style]:\n",
    "#     if i['name'] == item:\n",
    "#         print('the price of',item,'is',i['price'])\n",
    "#         break\n",
    "# else:\n",
    "#     print('item not found')\n",
    "    "
   ]
  },
  {
   "cell_type": "code",
   "execution_count": null,
   "metadata": {},
   "outputs": [],
   "source": []
  }
 ],
 "metadata": {
  "kernelspec": {
   "display_name": "base",
   "language": "python",
   "name": "python3"
  },
  "language_info": {
   "codemirror_mode": {
    "name": "ipython",
    "version": 3
   },
   "file_extension": ".py",
   "mimetype": "text/x-python",
   "name": "python",
   "nbconvert_exporter": "python",
   "pygments_lexer": "ipython3",
   "version": "3.11.4"
  }
 },
 "nbformat": 4,
 "nbformat_minor": 2
}
