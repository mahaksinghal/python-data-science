{
 "cells": [
  {
   "cell_type": "markdown",
   "metadata": {},
   "source": [
    "Write a program to count the frequency of each character in a given string using a dictionary.\n",
    "\n",
    "Sample data: \"hello\""
   ]
  },
  {
   "cell_type": "code",
   "execution_count": 2,
   "metadata": {},
   "outputs": [
    {
     "name": "stdout",
     "output_type": "stream",
     "text": [
      "h: 1\n",
      "e: 1\n",
      "l: 2\n",
      "o: 1\n",
      "\n",
      "h: 1\n",
      "e: 1\n",
      "l: 2\n",
      "o: 1\n"
     ]
    }
   ],
   "source": [
    "data =  \"hello\"\n",
    "data_count = {}\n",
    "\n",
    "for i in data:\n",
    "    if i in data_count:\n",
    "        data_count[i] += 1\n",
    "    else:\n",
    "        data_count[i] = 1\n",
    "\n",
    "for keys, values in data_count.items():\n",
    "    print(f'{keys}: {values}')\n",
    "print()\n",
    "for i in data_count:\n",
    "    print(f'{i}: {data_count[i]}')"
   ]
  },
  {
   "cell_type": "markdown",
   "metadata": {},
   "source": [
    "Write a program to merge two dictionaries into a single dictionary.\n",
    "\n",
    "Sample data:\n",
    "- dict1 = {\"a\": 1, \"b\": 2}\n",
    "- dict2 = {\"c\": 3, \"d\": 4}"
   ]
  },
  {
   "cell_type": "code",
   "execution_count": 11,
   "metadata": {},
   "outputs": [
    {
     "name": "stdout",
     "output_type": "stream",
     "text": [
      "{'a': 1, 'b': 2, 'c': 3, 'd': 4}\n"
     ]
    }
   ],
   "source": [
    "dict1 = {\"a\": 1, \"b\": 2}\n",
    "dict2 = {\"c\": 3, \"d\": 4}\n",
    "dict1.update(dict2)\n",
    "print(dict1)"
   ]
  },
  {
   "cell_type": "markdown",
   "metadata": {},
   "source": [
    "Write a program to find the keys with the maximum value in a dictionary.\n",
    "\n",
    "Sample data: {\"a\": 10, \"b\": 5, \"c\": 10}"
   ]
  },
  {
   "cell_type": "code",
   "execution_count": 31,
   "metadata": {},
   "outputs": [
    {
     "name": "stdout",
     "output_type": "stream",
     "text": [
      "Keys with maximum value:\n",
      "a\n",
      "c\n"
     ]
    }
   ],
   "source": [
    "data =  {\"a\": 10, \"b\": 5, \"c\": 10}\n",
    "max_value = max(data.values())\n",
    "max_value_key = []\n",
    "for keys, values in data.items():\n",
    "        if values == max_value:\n",
    "                max_value_key.append(keys)\n",
    "\n",
    "print(\"Keys with maximum value:\")\n",
    "for i in max_value_key:\n",
    "        print(i)"
   ]
  },
  {
   "cell_type": "markdown",
   "metadata": {},
   "source": [
    "Write a program to check if a given key exists in a dictionary.\n",
    "\n",
    "Sample data: {\"a\": 1, \"b\": 2, \"c\": 3}\n"
   ]
  },
  {
   "cell_type": "code",
   "execution_count": 57,
   "metadata": {},
   "outputs": [
    {
     "name": "stdout",
     "output_type": "stream",
     "text": [
      "found\n"
     ]
    }
   ],
   "source": [
    "data = {\"a\": 1, \"b\": 2, \"c\": 3}\n",
    "check_key = 'c'\n",
    "if check_key in data:\n",
    "    print('found')\n",
    "else:\n",
    "    print('not found')"
   ]
  },
  {
   "cell_type": "markdown",
   "metadata": {},
   "source": [
    "Write a program to remove a specific key from a dictionary.\n",
    "\n",
    "Sample data: {\"a\": 1, \"b\": 2, \"c\": 3}"
   ]
  },
  {
   "cell_type": "code",
   "execution_count": 35,
   "metadata": {},
   "outputs": [
    {
     "name": "stdout",
     "output_type": "stream",
     "text": [
      "{'a': 1, 'c': 3}\n"
     ]
    }
   ],
   "source": [
    "data = {\"a\": 1, \"b\": 2, \"c\": 3}\n",
    "remove_key = 'b'\n",
    "data.pop(remove_key)\n",
    "print(data)"
   ]
  },
  {
   "cell_type": "markdown",
   "metadata": {},
   "source": [
    "Write a program to find the common keys in two dictionaries.\n",
    "\n",
    "Sample data:\n",
    "- dict1 = {\"a\": 1, \"b\": 2, \"c\": 3}\n",
    "- dict2 = {\"b\": 3, \"c\": 4, \"d\": 5}"
   ]
  },
  {
   "cell_type": "code",
   "execution_count": 37,
   "metadata": {},
   "outputs": [
    {
     "name": "stdout",
     "output_type": "stream",
     "text": [
      "Common keys both in dict1 and dict2 are\n",
      "['b', 'c']\n"
     ]
    }
   ],
   "source": [
    "dict1 = {\"a\": 1, \"b\": 2, \"c\": 3}\n",
    "dict2 = {\"b\": 3, \"c\": 4, \"d\": 5}\n",
    "common_keys = []\n",
    "for i in dict1:\n",
    "    for j in dict2:\n",
    "        if i == j:\n",
    "            common_keys.append(i)\n",
    "print(\"Common keys both in dict1 and dict2 are\")\n",
    "print(common_keys)"
   ]
  },
  {
   "cell_type": "markdown",
   "metadata": {},
   "source": [
    "Write a program to get the length of a dictionary.\n",
    "\n",
    "Sample data: {\"a\": 1, \"b\": 2, \"c\": 3}"
   ]
  },
  {
   "cell_type": "code",
   "execution_count": 38,
   "metadata": {},
   "outputs": [
    {
     "name": "stdout",
     "output_type": "stream",
     "text": [
      "3\n"
     ]
    }
   ],
   "source": [
    "data = {\"a\": 1, \"b\": 2, \"c\": 3}\n",
    "print(len(data))"
   ]
  },
  {
   "cell_type": "markdown",
   "metadata": {},
   "source": [
    "Write a program to sort a dictionary by its keys in ascending order.\n",
    "\n",
    "Sample data: {\"b\": 4, \"a\": 1, \"c\": 3}"
   ]
  },
  {
   "cell_type": "code",
   "execution_count": 45,
   "metadata": {},
   "outputs": [
    {
     "name": "stdout",
     "output_type": "stream",
     "text": [
      "a: 1\n",
      "b: 4\n",
      "c: 3\n"
     ]
    }
   ],
   "source": [
    "data = {\"b\": 4, \"a\": 1, \"c\": 3}\n",
    "\n",
    "# method - 1\n",
    "# tup = data.items()\n",
    "# sort_d = sorted(tup)\n",
    "# dict_sort_d = dict(sort_d)\n",
    "# print(dict_sort_d)\n",
    "\n",
    "# method - 2\n",
    "sort_data = dict(sorted(data.items()))\n",
    "for key in sort_data:\n",
    "    print(f'{key}: {sort_data[key]}')"
   ]
  },
  {
   "cell_type": "markdown",
   "metadata": {},
   "source": [
    "Write a program to find the key with the minimum value in a dictionary.\n",
    "\n",
    "Sample data: {\"a\": 10, \"b\": 5, \"c\": 15}"
   ]
  },
  {
   "cell_type": "code",
   "execution_count": 50,
   "metadata": {},
   "outputs": [
    {
     "name": "stdout",
     "output_type": "stream",
     "text": [
      "the key with minimum value is: \n",
      "['b']\n"
     ]
    }
   ],
   "source": [
    "data = {\"a\": 10, \"b\": 5, \"c\": 15}\n",
    "min_value = min(data.values())\n",
    "min_value_key = []\n",
    "\n",
    "for keys, values in data.items():\n",
    "    if min_value == values:\n",
    "        min_value_key.append(keys)\n",
    "\n",
    "print(\"the key with minimum value is: \")\n",
    "print(min_value_key)"
   ]
  },
  {
   "cell_type": "markdown",
   "metadata": {},
   "source": [
    "Write a program to get the values of a dictionary as a list.\n",
    "\n",
    "Sample data: {\"a\": 1, \"b\": 2, \"c\": 3}"
   ]
  },
  {
   "cell_type": "code",
   "execution_count": 53,
   "metadata": {},
   "outputs": [
    {
     "name": "stdout",
     "output_type": "stream",
     "text": [
      "[1, 2, 3]\n"
     ]
    }
   ],
   "source": [
    "data = {\"a\": 1, \"b\": 2, \"c\": 3}\n",
    "print(list(data.values()))"
   ]
  },
  {
   "cell_type": "markdown",
   "metadata": {},
   "source": [
    "Write a program to check if a given value exists in a dictionary.\n",
    "\n",
    "Sample data: {\"a\": 1, \"b\": 2, \"c\": 3}"
   ]
  },
  {
   "cell_type": "code",
   "execution_count": 58,
   "metadata": {},
   "outputs": [
    {
     "name": "stdout",
     "output_type": "stream",
     "text": [
      "not found\n"
     ]
    }
   ],
   "source": [
    "data = {\"a\": 1, \"b\": 2, \"c\": 3}\n",
    "check_value = '5'\n",
    "if check_value in data.values():\n",
    "    print(\"found\")\n",
    "else:\n",
    "    print(\"not found\")"
   ]
  },
  {
   "cell_type": "markdown",
   "metadata": {},
   "source": [
    "Write a program to create a dictionary with keys as numbers from 1 to 10 and their squares as values.\n",
    "\n",
    "Sample data: \n",
    "- keys: [1, 2, 3, ..., 10]\n",
    "- values: [1, 4, 9, ..., 100]"
   ]
  },
  {
   "cell_type": "code",
   "execution_count": 2,
   "metadata": {},
   "outputs": [
    {
     "name": "stdout",
     "output_type": "stream",
     "text": [
      "1: 1\n",
      "2: 4\n",
      "3: 9\n",
      "4: 16\n",
      "5: 25\n",
      "6: 36\n",
      "7: 49\n",
      "8: 64\n",
      "9: 81\n",
      "10: 100\n"
     ]
    }
   ],
   "source": [
    "sq_dic = {}\n",
    "for i in range(1,11):\n",
    "    sq_dic[i] = i ** 2\n",
    "\n",
    "for i in sq_dic:\n",
    "    print(f'{i}: {sq_dic[i]}')"
   ]
  },
  {
   "cell_type": "markdown",
   "metadata": {},
   "source": [
    "Write a program to find the difference between two dictionaries.\n",
    "\n",
    "Sample data:\n",
    "- dict1 = {\"a\": 1, \"b\": 2, \"c\": 3}\n",
    "- dict2 = {\"b\": 2, \"c\": 3, \"d\": 4}"
   ]
  },
  {
   "cell_type": "code",
   "execution_count": 91,
   "metadata": {},
   "outputs": [
    {
     "name": "stdout",
     "output_type": "stream",
     "text": [
      "Difference between both dict1 and dict2 is {'a': 1, 'd': 4}\n"
     ]
    }
   ],
   "source": [
    "dict1 = {\"a\": 1, \"b\": 2, \"c\": 3}\n",
    "dict2 = {\"b\": 2, \"c\": 3, \"d\": 4}\n",
    "unique_dict1 = {}\n",
    "unique_dict2 = {}\n",
    "\n",
    "for keys, values in dict1.items():\n",
    "    if keys not in dict2:\n",
    "        unique_dict1[keys] = values\n",
    "\n",
    "\n",
    "for keys, values in dict2.items():\n",
    "    if keys not in dict1:\n",
    "        unique_dict2[keys] = values\n",
    "\n",
    "unique_dict1.update(unique_dict2)\n",
    "print(\"Difference between both dict1 and dict2 is\",unique_dict1)"
   ]
  },
  {
   "cell_type": "markdown",
   "metadata": {},
   "source": [
    "Write a program to remove all the items from a dictionary.\n",
    "\n",
    "Sample data: {\"a\": 1, \"b\": 2, \"c\": 3}"
   ]
  },
  {
   "cell_type": "code",
   "execution_count": 59,
   "metadata": {},
   "outputs": [
    {
     "name": "stdout",
     "output_type": "stream",
     "text": [
      "{}\n"
     ]
    }
   ],
   "source": [
    "data = {\"a\": 1, \"b\": 2, \"c\": 3}\n",
    "data.clear()\n",
    "print(data)"
   ]
  },
  {
   "cell_type": "markdown",
   "metadata": {},
   "source": [
    "Write a program to convert a dictionary into a list of tuples.\n",
    "\n",
    "Sample data: {\"a\": 1, \"b\": 2, \"c\": 3}"
   ]
  },
  {
   "cell_type": "code",
   "execution_count": 64,
   "metadata": {},
   "outputs": [
    {
     "name": "stdout",
     "output_type": "stream",
     "text": [
      "[('a', 1), ('b', 2), ('c', 3)]\n"
     ]
    }
   ],
   "source": [
    "data = {\"a\": 1, \"b\": 2, \"c\": 3}\n",
    "tuple_data = data.items()\n",
    "list_tuple_data = list(tuple_data)\n",
    "print(list_tuple_data)"
   ]
  },
  {
   "cell_type": "markdown",
   "metadata": {},
   "source": [
    "Write a program to check if all the values in a dictionary are unique. \n",
    "\n",
    "Sample data: {\"a\": 1, \"b\": 2, \"c\": 3}"
   ]
  },
  {
   "cell_type": "code",
   "execution_count": 67,
   "metadata": {},
   "outputs": [
    {
     "name": "stdout",
     "output_type": "stream",
     "text": [
      "not All values are unique\n"
     ]
    }
   ],
   "source": [
    "data = {\"a\": 12, \"b\": 12, \"c\": 3}\n",
    "values = list(data.values())\n",
    "\n",
    "if len(values) == len(set(values)):\n",
    "    print(\"All values are unique\")\n",
    "else:\n",
    "    print(\"not All values are unique\")"
   ]
  },
  {
   "cell_type": "markdown",
   "metadata": {},
   "source": [
    "Write a program to extract all the values from nested dictionaries into a single list.\n",
    "\n",
    "Sample data: {\"a\": 1, \"b\": {\"c\": 2, \"d\": 3}, \"e\": 4}\n"
   ]
  },
  {
   "cell_type": "code",
   "execution_count": 1,
   "metadata": {},
   "outputs": [],
   "source": [
    "# data = {\"a\": 1, \"b\": {\"c\": 2, \"d\": 3}, \"e\": 4}\n",
    "\n",
    "# through recurssions\n",
    "\n",
    "\n",
    "\n",
    "\n",
    "\n",
    "\n"
   ]
  },
  {
   "cell_type": "markdown",
   "metadata": {},
   "source": [
    "Write a program to find the key-value pairs that have the highest values in a dictionary.\n",
    "\n",
    "Sample data: {\"a\": 10, \"b\": 5, \"c\": 10}"
   ]
  },
  {
   "cell_type": "code",
   "execution_count": 72,
   "metadata": {},
   "outputs": [
    {
     "name": "stdout",
     "output_type": "stream",
     "text": [
      "{'a': 10, 'c': 10}\n"
     ]
    }
   ],
   "source": [
    "data = {\"a\": 10, \"b\": 5, \"c\": 10}\n",
    "max_value = max(data.values())\n",
    "max_value_dict = {}\n",
    "\n",
    "for keys, values in data.items():\n",
    "    if max_value == values:\n",
    "        max_value_dict[keys] = values\n",
    "\n",
    "print(max_value_dict)"
   ]
  },
  {
   "cell_type": "markdown",
   "metadata": {},
   "source": [
    "Write a program to create a dictionary from two lists, one containing keys and the other containing values.\n",
    "\n",
    "Sample data:\n",
    "- keys = [\"a\", \"b\", \"c\"]\n",
    "- values = [1, 2, 3]"
   ]
  },
  {
   "cell_type": "code",
   "execution_count": 80,
   "metadata": {},
   "outputs": [
    {
     "name": "stdout",
     "output_type": "stream",
     "text": [
      "{'a': 1, 'b': 2, 'c': 3}\n"
     ]
    }
   ],
   "source": [
    "keys = [\"a\", \"b\", \"c\"]\n",
    "values = [1, 2, 3]\n",
    "new_dict = dict(zip(keys, values))\n",
    "print(new_dict)"
   ]
  },
  {
   "cell_type": "markdown",
   "metadata": {},
   "source": [
    "Write a program to iterate over a dictionary and print the keys and values.\n",
    "\n",
    "Sample data: {\"a\": 1, \"b\": 2, \"c\": 3}"
   ]
  },
  {
   "cell_type": "code",
   "execution_count": 82,
   "metadata": {},
   "outputs": [
    {
     "name": "stdout",
     "output_type": "stream",
     "text": [
      "a: 1\n",
      "b: 2\n",
      "c: 3\n"
     ]
    }
   ],
   "source": [
    "data = {\"a\": 1, \"b\": 2, \"c\": 3}\n",
    "for keys, values in data.items():\n",
    "    print(f'{keys}: {values}')"
   ]
  },
  {
   "cell_type": "markdown",
   "metadata": {},
   "source": [
    "Write a program to print the sum of all values present in a dictionary"
   ]
  },
  {
   "cell_type": "code",
   "execution_count": 7,
   "metadata": {},
   "outputs": [
    {
     "name": "stdout",
     "output_type": "stream",
     "text": [
      "6\n"
     ]
    }
   ],
   "source": [
    "data = {'a': 1, 'b': 2, 'c': 3}\n",
    "sum = 0\n",
    "for i in data.values():\n",
    "    sum += i\n",
    "\n",
    "print(sum)\n"
   ]
  },
  {
   "cell_type": "code",
   "execution_count": null,
   "metadata": {},
   "outputs": [],
   "source": []
  }
 ],
 "metadata": {
  "kernelspec": {
   "display_name": "base",
   "language": "python",
   "name": "python3"
  },
  "language_info": {
   "codemirror_mode": {
    "name": "ipython",
    "version": 3
   },
   "file_extension": ".py",
   "mimetype": "text/x-python",
   "name": "python",
   "nbconvert_exporter": "python",
   "pygments_lexer": "ipython3",
   "version": "3.11.4"
  }
 },
 "nbformat": 4,
 "nbformat_minor": 2
}
