{
 "cells": [
  {
   "cell_type": "code",
   "execution_count": 2,
   "metadata": {},
   "outputs": [],
   "source": [
    "import numpy as np"
   ]
  },
  {
   "cell_type": "markdown",
   "metadata": {},
   "source": [
    "Creating array with arange function of numpy"
   ]
  },
  {
   "cell_type": "code",
   "execution_count": 3,
   "metadata": {},
   "outputs": [
    {
     "name": "stdout",
     "output_type": "stream",
     "text": [
      "[ 0  1  2  3  4  5  6  7  8  9 10 11 12 13 14]\n",
      "[[ 0  1  2  3  4]\n",
      " [ 5  6  7  8  9]\n",
      " [10 11 12 13 14]]\n"
     ]
    }
   ],
   "source": [
    "a = np.arange(15)       # single diamension array\n",
    "print(a)\n",
    "a = np.arange(15).reshape(3, 5)     # multidiamensional array\n",
    "print(a)"
   ]
  },
  {
   "cell_type": "markdown",
   "metadata": {},
   "source": [
    "manually inserting elements in array"
   ]
  },
  {
   "cell_type": "code",
   "execution_count": 4,
   "metadata": {},
   "outputs": [
    {
     "name": "stdout",
     "output_type": "stream",
     "text": [
      "[1 2 3 4 5 6]\n",
      "[[1 2 3]\n",
      " [5 6 7]]\n"
     ]
    }
   ],
   "source": [
    "x = np.array([1,2,3,4,5,6])\n",
    "print(x)\n",
    "y = np.array([[1,2,3], [5,6,7]])\n",
    "print(y)"
   ]
  },
  {
   "cell_type": "code",
   "execution_count": 5,
   "metadata": {},
   "outputs": [
    {
     "name": "stdout",
     "output_type": "stream",
     "text": [
      "X\n",
      "shape: (6,)\n",
      "diamension: 1\n",
      "type of data: int32\n",
      "Y\n",
      "shape: (2, 3)\n",
      "diamension: 2\n",
      "type of data: int32\n"
     ]
    }
   ],
   "source": [
    "print(\"X\")\n",
    "print('shape:',x.shape)      # size of array\n",
    "print('diamension:',x.ndim)      # diamension of array\n",
    "print('type of data:',x.dtype)      # type of array\n",
    "print(\"Y\")\n",
    "print('shape:',y.shape)     \n",
    "print('diamension:',y.ndim)     \n",
    "print('type of data:',y.dtype)\n"
   ]
  },
  {
   "cell_type": "markdown",
   "metadata": {},
   "source": [
    "- arange\n",
    "- linspace\n",
    "- random.*\n",
    "- eye\n",
    "- ones\n",
    "- zeros"
   ]
  },
  {
   "cell_type": "code",
   "execution_count": 6,
   "metadata": {},
   "outputs": [],
   "source": [
    "np.set_printoptions(precision=2, suppress=True)"
   ]
  },
  {
   "cell_type": "code",
   "execution_count": 7,
   "metadata": {},
   "outputs": [
    {
     "name": "stdout",
     "output_type": "stream",
     "text": [
      "[-10.    -9.98  -9.96  -9.94  -9.92  -9.9   -9.88  -9.86  -9.84  -9.82\n",
      "  -9.8   -9.78  -9.76  -9.74  -9.72  -9.7   -9.68  -9.66  -9.64  -9.62\n",
      "  -9.6   -9.58  -9.56  -9.54  -9.52  -9.5   -9.48  -9.46  -9.44  -9.42\n",
      "  -9.4   -9.38  -9.36  -9.34  -9.32  -9.3   -9.28  -9.26  -9.24  -9.22\n",
      "  -9.2   -9.18  -9.16  -9.14  -9.12  -9.1   -9.08  -9.06  -9.04  -9.02\n",
      "  -9.    -8.98  -8.96  -8.94  -8.92  -8.9   -8.88  -8.86  -8.84  -8.82\n",
      "  -8.8   -8.78  -8.76  -8.74  -8.72  -8.7   -8.68  -8.66  -8.64  -8.62\n",
      "  -8.6   -8.58  -8.56  -8.54  -8.52  -8.5   -8.48  -8.46  -8.44  -8.42\n",
      "  -8.4   -8.38  -8.36  -8.34  -8.32  -8.3   -8.28  -8.26  -8.24  -8.22\n",
      "  -8.2   -8.18  -8.16  -8.14  -8.12  -8.1   -8.08  -8.06  -8.04  -8.02\n",
      "  -8.    -7.98  -7.96  -7.94  -7.92  -7.9   -7.88  -7.86  -7.84  -7.82\n",
      "  -7.8   -7.78  -7.76  -7.74  -7.72  -7.7   -7.68  -7.66  -7.64  -7.62\n",
      "  -7.6   -7.58  -7.56  -7.54  -7.52  -7.5   -7.48  -7.46  -7.44  -7.42\n",
      "  -7.4   -7.38  -7.36  -7.34  -7.32  -7.3   -7.28  -7.26  -7.24  -7.22\n",
      "  -7.2   -7.18  -7.16  -7.14  -7.12  -7.1   -7.08  -7.06  -7.04  -7.02\n",
      "  -7.    -6.98  -6.96  -6.94  -6.92  -6.9   -6.88  -6.86  -6.84  -6.82\n",
      "  -6.8   -6.78  -6.76  -6.74  -6.72  -6.7   -6.68  -6.66  -6.64  -6.62\n",
      "  -6.6   -6.58  -6.56  -6.54  -6.52  -6.5   -6.48  -6.46  -6.44  -6.42\n",
      "  -6.4   -6.38  -6.36  -6.34  -6.32  -6.3   -6.28  -6.26  -6.24  -6.22\n",
      "  -6.2   -6.18  -6.16  -6.14  -6.12  -6.1   -6.08  -6.06  -6.04  -6.02\n",
      "  -6.    -5.98  -5.96  -5.94  -5.92  -5.9   -5.88  -5.86  -5.84  -5.82\n",
      "  -5.8   -5.78  -5.76  -5.74  -5.72  -5.7   -5.68  -5.66  -5.64  -5.62\n",
      "  -5.6   -5.58  -5.56  -5.54  -5.52  -5.5   -5.48  -5.46  -5.44  -5.42\n",
      "  -5.4   -5.38  -5.36  -5.34  -5.32  -5.3   -5.28  -5.26  -5.24  -5.22\n",
      "  -5.2   -5.18  -5.16  -5.14  -5.12  -5.1   -5.08  -5.06  -5.04  -5.02\n",
      "  -5.    -4.98  -4.96  -4.94  -4.92  -4.9   -4.88  -4.86  -4.84  -4.82\n",
      "  -4.8   -4.78  -4.76  -4.74  -4.72  -4.7   -4.68  -4.66  -4.64  -4.62\n",
      "  -4.6   -4.58  -4.56  -4.54  -4.52  -4.5   -4.48  -4.46  -4.44  -4.42\n",
      "  -4.4   -4.38  -4.36  -4.34  -4.32  -4.3   -4.28  -4.26  -4.24  -4.22\n",
      "  -4.2   -4.18  -4.16  -4.14  -4.12  -4.1   -4.08  -4.06  -4.04  -4.02\n",
      "  -4.    -3.98  -3.96  -3.94  -3.92  -3.9   -3.88  -3.86  -3.84  -3.82\n",
      "  -3.8   -3.78  -3.76  -3.74  -3.72  -3.7   -3.68  -3.66  -3.64  -3.62\n",
      "  -3.6   -3.58  -3.56  -3.54  -3.52  -3.5   -3.48  -3.46  -3.44  -3.42\n",
      "  -3.4   -3.38  -3.36  -3.34  -3.32  -3.3   -3.28  -3.26  -3.24  -3.22\n",
      "  -3.2   -3.18  -3.16  -3.14  -3.12  -3.1   -3.08  -3.06  -3.04  -3.02\n",
      "  -3.    -2.98  -2.96  -2.94  -2.92  -2.9   -2.88  -2.86  -2.84  -2.82\n",
      "  -2.8   -2.78  -2.76  -2.74  -2.72  -2.7   -2.68  -2.66  -2.64  -2.62\n",
      "  -2.6   -2.58  -2.56  -2.54  -2.52  -2.5   -2.48  -2.46  -2.44  -2.42\n",
      "  -2.4   -2.38  -2.36  -2.34  -2.32  -2.3   -2.28  -2.26  -2.24  -2.22\n",
      "  -2.2   -2.18  -2.16  -2.14  -2.12  -2.1   -2.08  -2.06  -2.04  -2.02\n",
      "  -2.    -1.98  -1.96  -1.94  -1.92  -1.9   -1.88  -1.86  -1.84  -1.82\n",
      "  -1.8   -1.78  -1.76  -1.74  -1.72  -1.7   -1.68  -1.66  -1.64  -1.62\n",
      "  -1.6   -1.58  -1.56  -1.54  -1.52  -1.5   -1.48  -1.46  -1.44  -1.42\n",
      "  -1.4   -1.38  -1.36  -1.34  -1.32  -1.3   -1.28  -1.26  -1.24  -1.22\n",
      "  -1.2   -1.18  -1.16  -1.14  -1.12  -1.1   -1.08  -1.06  -1.04  -1.02\n",
      "  -1.    -0.98  -0.96  -0.94  -0.92  -0.9   -0.88  -0.86  -0.84  -0.82\n",
      "  -0.8   -0.78  -0.76  -0.74  -0.72  -0.7   -0.68  -0.66  -0.64  -0.62\n",
      "  -0.6   -0.58  -0.56  -0.54  -0.52  -0.5   -0.48  -0.46  -0.44  -0.42\n",
      "  -0.4   -0.38  -0.36  -0.34  -0.32  -0.3   -0.28  -0.26  -0.24  -0.22\n",
      "  -0.2   -0.18  -0.16  -0.14  -0.12  -0.1   -0.08  -0.06  -0.04  -0.02\n",
      "  -0.     0.02   0.04   0.06   0.08   0.1    0.12   0.14   0.16   0.18\n",
      "   0.2    0.22   0.24   0.26   0.28   0.3    0.32   0.34   0.36   0.38\n",
      "   0.4    0.42   0.44   0.46   0.48   0.5    0.52   0.54   0.56   0.58\n",
      "   0.6    0.62   0.64   0.66   0.68   0.7    0.72   0.74   0.76   0.78\n",
      "   0.8    0.82   0.84   0.86   0.88   0.9    0.92   0.94   0.96   0.98\n",
      "   1.     1.02   1.04   1.06   1.08   1.1    1.12   1.14   1.16   1.18\n",
      "   1.2    1.22   1.24   1.26   1.28   1.3    1.32   1.34   1.36   1.38\n",
      "   1.4    1.42   1.44   1.46   1.48   1.5    1.52   1.54   1.56   1.58\n",
      "   1.6    1.62   1.64   1.66   1.68   1.7    1.72   1.74   1.76   1.78\n",
      "   1.8    1.82   1.84   1.86   1.88   1.9    1.92   1.94   1.96   1.98\n",
      "   2.     2.02   2.04   2.06   2.08   2.1    2.12   2.14   2.16   2.18\n",
      "   2.2    2.22   2.24   2.26   2.28   2.3    2.32   2.34   2.36   2.38\n",
      "   2.4    2.42   2.44   2.46   2.48   2.5    2.52   2.54   2.56   2.58\n",
      "   2.6    2.62   2.64   2.66   2.68   2.7    2.72   2.74   2.76   2.78\n",
      "   2.8    2.82   2.84   2.86   2.88   2.9    2.92   2.94   2.96   2.98\n",
      "   3.     3.02   3.04   3.06   3.08   3.1    3.12   3.14   3.16   3.18\n",
      "   3.2    3.22   3.24   3.26   3.28   3.3    3.32   3.34   3.36   3.38\n",
      "   3.4    3.42   3.44   3.46   3.48   3.5    3.52   3.54   3.56   3.58\n",
      "   3.6    3.62   3.64   3.66   3.68   3.7    3.72   3.74   3.76   3.78\n",
      "   3.8    3.82   3.84   3.86   3.88   3.9    3.92   3.94   3.96   3.98\n",
      "   4.     4.02   4.04   4.06   4.08   4.1    4.12   4.14   4.16   4.18\n",
      "   4.2    4.22   4.24   4.26   4.28   4.3    4.32   4.34   4.36   4.38\n",
      "   4.4    4.42   4.44   4.46   4.48   4.5    4.52   4.54   4.56   4.58\n",
      "   4.6    4.62   4.64   4.66   4.68   4.7    4.72   4.74   4.76   4.78\n",
      "   4.8    4.82   4.84   4.86   4.88   4.9    4.92   4.94   4.96   4.98\n",
      "   5.     5.02   5.04   5.06   5.08   5.1    5.12   5.14   5.16   5.18\n",
      "   5.2    5.22   5.24   5.26   5.28   5.3    5.32   5.34   5.36   5.38\n",
      "   5.4    5.42   5.44   5.46   5.48   5.5    5.52   5.54   5.56   5.58\n",
      "   5.6    5.62   5.64   5.66   5.68   5.7    5.72   5.74   5.76   5.78\n",
      "   5.8    5.82   5.84   5.86   5.88   5.9    5.92   5.94   5.96   5.98\n",
      "   6.     6.02   6.04   6.06   6.08   6.1    6.12   6.14   6.16   6.18\n",
      "   6.2    6.22   6.24   6.26   6.28   6.3    6.32   6.34   6.36   6.38\n",
      "   6.4    6.42   6.44   6.46   6.48   6.5    6.52   6.54   6.56   6.58\n",
      "   6.6    6.62   6.64   6.66   6.68   6.7    6.72   6.74   6.76   6.78\n",
      "   6.8    6.82   6.84   6.86   6.88   6.9    6.92   6.94   6.96   6.98\n",
      "   7.     7.02   7.04   7.06   7.08   7.1    7.12   7.14   7.16   7.18\n",
      "   7.2    7.22   7.24   7.26   7.28   7.3    7.32   7.34   7.36   7.38\n",
      "   7.4    7.42   7.44   7.46   7.48   7.5    7.52   7.54   7.56   7.58\n",
      "   7.6    7.62   7.64   7.66   7.68   7.7    7.72   7.74   7.76   7.78\n",
      "   7.8    7.82   7.84   7.86   7.88   7.9    7.92   7.94   7.96   7.98\n",
      "   8.     8.02   8.04   8.06   8.08   8.1    8.12   8.14   8.16   8.18\n",
      "   8.2    8.22   8.24   8.26   8.28   8.3    8.32   8.34   8.36   8.38\n",
      "   8.4    8.42   8.44   8.46   8.48   8.5    8.52   8.54   8.56   8.58\n",
      "   8.6    8.62   8.64   8.66   8.68   8.7    8.72   8.74   8.76   8.78\n",
      "   8.8    8.82   8.84   8.86   8.88   8.9    8.92   8.94   8.96   8.98\n",
      "   9.     9.02   9.04   9.06   9.08   9.1    9.12   9.14   9.16   9.18\n",
      "   9.2    9.22   9.24   9.26   9.28   9.3    9.32   9.34   9.36   9.38\n",
      "   9.4    9.42   9.44   9.46   9.48   9.5    9.52   9.54   9.56   9.58\n",
      "   9.6    9.62   9.64   9.66   9.68   9.7    9.72   9.74   9.76   9.78\n",
      "   9.8    9.82   9.84   9.86   9.88   9.9    9.92   9.94   9.96   9.98]\n"
     ]
    }
   ],
   "source": [
    "a = np.arange(-10, 10, .02)\n",
    "print(a)"
   ]
  },
  {
   "cell_type": "code",
   "execution_count": 8,
   "metadata": {},
   "outputs": [
    {
     "name": "stdout",
     "output_type": "stream",
     "text": [
      "[0.   0.11 0.22 0.33 0.44 0.56 0.67 0.78 0.89 1.  ]\n"
     ]
    }
   ],
   "source": [
    "b = np.linspace(0, 1, 10)\n",
    "print(b)"
   ]
  },
  {
   "cell_type": "code",
   "execution_count": 9,
   "metadata": {},
   "outputs": [
    {
     "data": {
      "text/plain": [
       "0.08422459161040496"
      ]
     },
     "execution_count": 9,
     "metadata": {},
     "output_type": "execute_result"
    }
   ],
   "source": [
    "np.random.random()"
   ]
  },
  {
   "cell_type": "code",
   "execution_count": 10,
   "metadata": {},
   "outputs": [
    {
     "data": {
      "text/plain": [
       "array([[0.03, 0.76, 0.63],\n",
       "       [0.89, 0.97, 0.92],\n",
       "       [0.28, 0.16, 0.37]])"
      ]
     },
     "execution_count": 10,
     "metadata": {},
     "output_type": "execute_result"
    }
   ],
   "source": [
    "np.random.random((3,3))     # random values between zero to one"
   ]
  },
  {
   "cell_type": "code",
   "execution_count": 11,
   "metadata": {},
   "outputs": [
    {
     "data": {
      "text/plain": [
       "array([[748, 168, 867],\n",
       "       [466, 550, 608],\n",
       "       [ 91, 197, 543]])"
      ]
     },
     "execution_count": 11,
     "metadata": {},
     "output_type": "execute_result"
    }
   ],
   "source": [
    "np.random.randint(1, 1000, (3,3))       # random values between start and end"
   ]
  },
  {
   "cell_type": "code",
   "execution_count": 12,
   "metadata": {},
   "outputs": [
    {
     "data": {
      "text/plain": [
       "array([[1., 0., 0.],\n",
       "       [0., 1., 0.],\n",
       "       [0., 0., 1.]])"
      ]
     },
     "execution_count": 12,
     "metadata": {},
     "output_type": "execute_result"
    }
   ],
   "source": [
    "np.eye(3)       # identity matrix"
   ]
  },
  {
   "cell_type": "code",
   "execution_count": 13,
   "metadata": {},
   "outputs": [
    {
     "data": {
      "text/plain": [
       "array([[1, 0, 0, 0, 0],\n",
       "       [0, 1, 0, 0, 0],\n",
       "       [0, 0, 1, 0, 0],\n",
       "       [0, 0, 0, 1, 0],\n",
       "       [0, 0, 0, 0, 1]])"
      ]
     },
     "execution_count": 13,
     "metadata": {},
     "output_type": "execute_result"
    }
   ],
   "source": [
    "np.eye(5, dtype=int)"
   ]
  },
  {
   "cell_type": "code",
   "execution_count": 14,
   "metadata": {},
   "outputs": [
    {
     "data": {
      "text/plain": [
       "array([[0, 0, 0, 0, 1],\n",
       "       [0, 0, 0, 1, 0],\n",
       "       [0, 0, 1, 0, 0],\n",
       "       [0, 1, 0, 0, 0],\n",
       "       [1, 0, 0, 0, 0]])"
      ]
     },
     "execution_count": 14,
     "metadata": {},
     "output_type": "execute_result"
    }
   ],
   "source": [
    "np.rot90(np.eye(5, dtype=int))"
   ]
  },
  {
   "cell_type": "code",
   "execution_count": 15,
   "metadata": {},
   "outputs": [
    {
     "data": {
      "text/plain": [
       "array([[1, 1, 1, 1, 1],\n",
       "       [1, 1, 1, 1, 1],\n",
       "       [1, 1, 1, 1, 1],\n",
       "       [1, 1, 1, 1, 1],\n",
       "       [1, 1, 1, 1, 1]])"
      ]
     },
     "execution_count": 15,
     "metadata": {},
     "output_type": "execute_result"
    }
   ],
   "source": [
    "np.ones((5,5), dtype=int)"
   ]
  },
  {
   "cell_type": "code",
   "execution_count": 16,
   "metadata": {},
   "outputs": [
    {
     "data": {
      "text/plain": [
       "array([[0, 0, 0, 0, 0],\n",
       "       [0, 0, 0, 0, 0],\n",
       "       [0, 0, 0, 0, 0],\n",
       "       [0, 0, 0, 0, 0],\n",
       "       [0, 0, 0, 0, 0]])"
      ]
     },
     "execution_count": 16,
     "metadata": {},
     "output_type": "execute_result"
    }
   ],
   "source": [
    "np.zeros((5,5), dtype=int)"
   ]
  },
  {
   "cell_type": "markdown",
   "metadata": {},
   "source": [
    "Operations\n",
    "- arithmatic operations\n",
    "- statistical\n",
    "- trignometric\n",
    "- logical\n",
    "- slicing\n",
    "- filtering\n",
    "- sorting"
   ]
  },
  {
   "cell_type": "code",
   "execution_count": 17,
   "metadata": {},
   "outputs": [
    {
     "name": "stdout",
     "output_type": "stream",
     "text": [
      "----------X-------------\n",
      "[[21 23 19]\n",
      " [16  3  1]]\n",
      "----------Y-------------\n",
      "[[22 16]\n",
      " [22 19]\n",
      " [ 2  1]]\n"
     ]
    }
   ],
   "source": [
    "x = np.random.randint(1, 25, (2,3))\n",
    "y = np.random.randint(1, 25, (3,2))\n",
    "print(\"----------X-------------\")\n",
    "print(x)\n",
    "print(\"----------Y-------------\")\n",
    "print(y)"
   ]
  },
  {
   "cell_type": "code",
   "execution_count": 18,
   "metadata": {},
   "outputs": [
    {
     "data": {
      "text/plain": [
       "array([[22, 22,  2],\n",
       "       [16, 19,  1]])"
      ]
     },
     "execution_count": 18,
     "metadata": {},
     "output_type": "execute_result"
    }
   ],
   "source": [
    "y.T"
   ]
  },
  {
   "cell_type": "code",
   "execution_count": 19,
   "metadata": {},
   "outputs": [
    {
     "name": "stdout",
     "output_type": "stream",
     "text": [
      "X + Y transposed\n",
      "[[43 45 21]\n",
      " [32 22  2]]\n"
     ]
    }
   ],
   "source": [
    "print(\"X + Y transposed\")\n",
    "print(x + y.T)"
   ]
  },
  {
   "cell_type": "code",
   "execution_count": 20,
   "metadata": {},
   "outputs": [
    {
     "name": "stdout",
     "output_type": "stream",
     "text": [
      "X transposed + Y\n",
      "[[43 32]\n",
      " [45 22]\n",
      " [21  2]]\n"
     ]
    }
   ],
   "source": [
    "print(\"X transposed + Y\")\n",
    "print(x.T + y)"
   ]
  },
  {
   "cell_type": "code",
   "execution_count": 21,
   "metadata": {},
   "outputs": [
    {
     "name": "stdout",
     "output_type": "stream",
     "text": [
      "X - Y transposed\n",
      "[[ -1   1  17]\n",
      " [  0 -16   0]]\n"
     ]
    }
   ],
   "source": [
    "print(\"X - Y transposed\")\n",
    "print(x - y.T)"
   ]
  },
  {
   "cell_type": "code",
   "execution_count": 22,
   "metadata": {},
   "outputs": [
    {
     "name": "stdout",
     "output_type": "stream",
     "text": [
      "X transposed - Y\n",
      "[[ -1   0]\n",
      " [  1 -16]\n",
      " [ 17   0]]\n"
     ]
    }
   ],
   "source": [
    "print(\"X transposed - Y\")\n",
    "print(x.T - y)"
   ]
  },
  {
   "cell_type": "code",
   "execution_count": 23,
   "metadata": {},
   "outputs": [
    {
     "name": "stdout",
     "output_type": "stream",
     "text": [
      "Matrix Multiplication Elementwise\n",
      "[[462 506  38]\n",
      " [256  57   1]]\n",
      "Matrix Multiplication\n",
      "[[1006  792]\n",
      " [ 420  314]]\n"
     ]
    }
   ],
   "source": [
    "print(\"Matrix Multiplication Elementwise\")\n",
    "print(x * y.T)\n",
    "print(\"Matrix Multiplication\")\n",
    "print(x @ y)"
   ]
  },
  {
   "cell_type": "code",
   "execution_count": 24,
   "metadata": {},
   "outputs": [
    {
     "data": {
      "text/plain": [
       "array([[21, 23, 19, 21, 23, 19, 21, 23, 19, 21, 23, 19],\n",
       "       [16,  3,  1, 16,  3,  1, 16,  3,  1, 16,  3,  1]])"
      ]
     },
     "execution_count": 24,
     "metadata": {},
     "output_type": "execute_result"
    }
   ],
   "source": [
    "np.hstack((x,x,x,x))"
   ]
  },
  {
   "cell_type": "code",
   "execution_count": 25,
   "metadata": {},
   "outputs": [
    {
     "data": {
      "text/plain": [
       "array([[21, 23, 19],\n",
       "       [16,  3,  1],\n",
       "       [21, 23, 19],\n",
       "       [16,  3,  1],\n",
       "       [22, 22,  2],\n",
       "       [16, 19,  1]])"
      ]
     },
     "execution_count": 25,
     "metadata": {},
     "output_type": "execute_result"
    }
   ],
   "source": [
    "np.vstack((x,x,y.T))"
   ]
  },
  {
   "cell_type": "code",
   "execution_count": 26,
   "metadata": {},
   "outputs": [
    {
     "name": "stdout",
     "output_type": "stream",
     "text": [
      "[[21 23 19]\n",
      " [16  3  1]]\n",
      "Sum of all elements: 83\n",
      "Sum of all elements row wise: [63 20]\n",
      "Sum of all elements col wise: [37 26 20]\n",
      "Average of all elements: 13.833333333333334\n",
      "Median of all elements: 17.5\n",
      "Min of all elements: 1\n",
      "Max of all elements: 23\n",
      "Standard Deviation of all elements: 8.64902049688608\n",
      "Variance of all elements: 74.80555555555556\n",
      "any item is non-zero: True\n",
      "all item are non-zero: True\n"
     ]
    }
   ],
   "source": [
    "print(x)\n",
    "print(\"Sum of all elements:\", x.sum())\n",
    "print(\"Sum of all elements row wise:\", x.sum(axis=1))\n",
    "print(\"Sum of all elements col wise:\", x.sum(axis=0))\n",
    "print(\"Average of all elements:\", np.mean(x))\n",
    "print(\"Median of all elements:\", np.median(x))\n",
    "print(\"Min of all elements:\", x.min())\n",
    "print(\"Max of all elements:\", x.max())\n",
    "print(\"Standard Deviation of all elements:\", x.std())\n",
    "print(\"Variance of all elements:\", x.var())\n",
    "print('any item is non-zero:', x.any())\n",
    "print('all item are non-zero:', x.all())"
   ]
  },
  {
   "cell_type": "code",
   "execution_count": 27,
   "metadata": {},
   "outputs": [
    {
     "name": "stdout",
     "output_type": "stream",
     "text": [
      "3.141592653589793\n",
      "nan\n",
      "inf\n",
      "2.718281828459045\n"
     ]
    }
   ],
   "source": [
    "print(np.pi)\n",
    "print(np.nan)\n",
    "print(np.inf)\n",
    "print(np.e)"
   ]
  },
  {
   "cell_type": "code",
   "execution_count": 28,
   "metadata": {},
   "outputs": [
    {
     "name": "stdout",
     "output_type": "stream",
     "text": [
      "[[ 0.84 -0.85  0.15]\n",
      " [-0.29  0.14  0.84]]\n",
      "[[-0.55 -0.53  0.99]\n",
      " [-0.96 -0.99  0.54]]\n",
      "[[-1.53  1.59  0.15]\n",
      " [ 0.3  -0.14  1.56]]\n",
      "[[6.59e+08 4.87e+09 8.92e+07]\n",
      " [4.44e+06 1.01e+01 1.54e+00]]\n"
     ]
    }
   ],
   "source": [
    "print(np.sin(x))\n",
    "print(np.cos(x))\n",
    "print(np.tan(x))\n",
    "print(np.cosh(x))"
   ]
  },
  {
   "cell_type": "markdown",
   "metadata": {},
   "source": [
    "boolean filter"
   ]
  },
  {
   "cell_type": "code",
   "execution_count": 33,
   "metadata": {},
   "outputs": [
    {
     "data": {
      "text/plain": [
       "array([[ True,  True,  True],\n",
       "       [ True, False, False]])"
      ]
     },
     "execution_count": 33,
     "metadata": {},
     "output_type": "execute_result"
    }
   ],
   "source": [
    "x > 5"
   ]
  },
  {
   "cell_type": "code",
   "execution_count": 32,
   "metadata": {},
   "outputs": [
    {
     "data": {
      "text/plain": [
       "array([21, 23, 19, 16])"
      ]
     },
     "execution_count": 32,
     "metadata": {},
     "output_type": "execute_result"
    }
   ],
   "source": [
    "x[x > 5]"
   ]
  },
  {
   "cell_type": "code",
   "execution_count": 39,
   "metadata": {},
   "outputs": [
    {
     "name": "stdout",
     "output_type": "stream",
     "text": [
      "[[-3 -1  1  2  1]\n",
      " [-2  0  0 -1 -3]\n",
      " [-1  2 -1 -1 -2]\n",
      " [ 0 -1 -1  0 -3]\n",
      " [ 2 -1 -3 -1 -1]]\n"
     ]
    }
   ],
   "source": [
    "x = np.random.randint(-3, 3, (5,5))\n",
    "print(x)"
   ]
  },
  {
   "cell_type": "code",
   "execution_count": 40,
   "metadata": {},
   "outputs": [
    {
     "data": {
      "text/plain": [
       "array([-1,  1,  1,  0,  0, -1, -1, -1, -1,  0, -1, -1,  0, -1, -1, -1])"
      ]
     },
     "execution_count": 40,
     "metadata": {},
     "output_type": "execute_result"
    }
   ],
   "source": [
    "# x > -2\n",
    "# x <= 1\n",
    "x[(x > -2) & (x <=1)]\n",
    "# x[(x > -2) | (x <=1)]"
   ]
  },
  {
   "cell_type": "markdown",
   "metadata": {},
   "source": [
    "## indexing and slicing"
   ]
  },
  {
   "cell_type": "code",
   "execution_count": 43,
   "metadata": {},
   "outputs": [
    {
     "data": {
      "text/plain": [
       "-3"
      ]
     },
     "execution_count": 43,
     "metadata": {},
     "output_type": "execute_result"
    }
   ],
   "source": [
    "x[0][0]"
   ]
  },
  {
   "cell_type": "code",
   "execution_count": 44,
   "metadata": {},
   "outputs": [
    {
     "data": {
      "text/plain": [
       "-3"
      ]
     },
     "execution_count": 44,
     "metadata": {},
     "output_type": "execute_result"
    }
   ],
   "source": [
    "x[0, 0]"
   ]
  },
  {
   "cell_type": "code",
   "execution_count": 45,
   "metadata": {},
   "outputs": [
    {
     "data": {
      "text/plain": [
       "0"
      ]
     },
     "execution_count": 45,
     "metadata": {},
     "output_type": "execute_result"
    }
   ],
   "source": [
    "x[3,3]"
   ]
  },
  {
   "cell_type": "markdown",
   "metadata": {},
   "source": [
    "- syntax for slicing in 1d: `[start:stop:step]`\n",
    "- syntax for slicing in 2d: `[rstart:rstop:rstep, cstart:cstop:cstep]`      axes 1 = row, axes 2 = column\n"
   ]
  },
  {
   "cell_type": "code",
   "execution_count": 54,
   "metadata": {},
   "outputs": [
    {
     "name": "stdout",
     "output_type": "stream",
     "text": [
      "[-3 -1  1  2  1]\n",
      "[ 2 -1 -3 -1 -1]\n",
      "[-3 -1  1]\n",
      "[ 2 -1 -1 -2]\n",
      "[ 2 -1 -3 -1 -1]\n"
     ]
    }
   ],
   "source": [
    "print(x[0])             # 1st row\n",
    "print(x[-1])            # last row\n",
    "print(x[0, :3])         # 1st 3 elements\n",
    "print(x[2, -4:])        # 2 index row last 4 elements\n",
    "print(x[-1, 0:])        # last row all elements\n"
   ]
  },
  {
   "cell_type": "code",
   "execution_count": 62,
   "metadata": {},
   "outputs": [
    {
     "name": "stdout",
     "output_type": "stream",
     "text": [
      "[-3 -2 -1  0  2]\n",
      "[ 1 -3 -2 -3 -1]\n",
      "[[-3 -1  1]\n",
      " [-2  0  0]\n",
      " [-1  2 -1]\n",
      " [ 0 -1 -1]\n",
      " [ 2 -1 -3]]\n",
      "[[-1  2]\n",
      " [ 0 -1]\n",
      " [ 2 -1]\n",
      " [-1  0]\n",
      " [-1 -1]]\n",
      "[[-1  2]\n",
      " [ 0 -1]\n",
      " [ 2 -1]\n",
      " [-1  0]\n",
      " [-1 -1]]\n",
      "[[ 1  1 -1  2]\n",
      " [ 0 -3  0 -1]\n",
      " [-1 -2  2 -1]\n",
      " [-1 -3 -1  0]\n",
      " [-3 -1 -1 -1]]\n"
     ]
    }
   ],
   "source": [
    "print(x[:, 0])          # first column\n",
    "print(x[:, -1])         # last column\n",
    "print(x[:, :3])         # first three columns\n",
    "print(x[:, 1:4:2])      # first index and third index column\n",
    "print(x[:, [1, 3]])     # first index and third index column\n",
    "print(x[:, [2,4,1,3]])  # 2,4,1,3 index column"
   ]
  },
  {
   "cell_type": "markdown",
   "metadata": {},
   "source": [
    "## sorting"
   ]
  },
  {
   "cell_type": "code",
   "execution_count": 69,
   "metadata": {},
   "outputs": [
    {
     "name": "stdout",
     "output_type": "stream",
     "text": [
      "[[59 25 88]\n",
      " [56 71 15]\n",
      " [82 44 45]\n",
      " [65 36 58]\n",
      " [ 7 40 35]\n",
      " [30 73 79]]\n"
     ]
    }
   ],
   "source": [
    "x = np.random.randint(1,100, (6, 3))\n",
    "print(x)"
   ]
  },
  {
   "cell_type": "code",
   "execution_count": 71,
   "metadata": {},
   "outputs": [
    {
     "data": {
      "text/plain": [
       "array([[ 7, 25, 15],\n",
       "       [30, 36, 35],\n",
       "       [56, 40, 45],\n",
       "       [59, 44, 58],\n",
       "       [65, 71, 79],\n",
       "       [82, 73, 88]])"
      ]
     },
     "execution_count": 71,
     "metadata": {},
     "output_type": "execute_result"
    }
   ],
   "source": [
    "x.sort(axis=0)\n",
    "x"
   ]
  },
  {
   "cell_type": "code",
   "execution_count": 76,
   "metadata": {},
   "outputs": [],
   "source": [
    "x = x.flatten()\n",
    "x.sort()"
   ]
  },
  {
   "cell_type": "code",
   "execution_count": 77,
   "metadata": {},
   "outputs": [
    {
     "data": {
      "text/plain": [
       "array([ 7, 15, 25, 30, 35, 36, 40, 44, 45, 56, 58, 59, 65, 71, 73, 79, 82,\n",
       "       88])"
      ]
     },
     "execution_count": 77,
     "metadata": {},
     "output_type": "execute_result"
    }
   ],
   "source": [
    "x"
   ]
  },
  {
   "cell_type": "code",
   "execution_count": 79,
   "metadata": {},
   "outputs": [
    {
     "data": {
      "text/plain": [
       "array([[ 7, 15, 25],\n",
       "       [30, 35, 36],\n",
       "       [40, 44, 45],\n",
       "       [56, 58, 59],\n",
       "       [65, 71, 73],\n",
       "       [79, 82, 88]])"
      ]
     },
     "execution_count": 79,
     "metadata": {},
     "output_type": "execute_result"
    }
   ],
   "source": [
    "x.reshape(6,3)"
   ]
  },
  {
   "cell_type": "code",
   "execution_count": 83,
   "metadata": {},
   "outputs": [
    {
     "data": {
      "text/plain": [
       "array([[11, 60, 73],\n",
       "       [83, 20, 34],\n",
       "       [65,  5, 48],\n",
       "       [37, 27, 90],\n",
       "       [10, 67, 74],\n",
       "       [12, 71, 32]])"
      ]
     },
     "execution_count": 83,
     "metadata": {},
     "output_type": "execute_result"
    }
   ],
   "source": [
    "x = np.random.randint(1,100, (6, 3))\n",
    "x"
   ]
  },
  {
   "cell_type": "code",
   "execution_count": 84,
   "metadata": {},
   "outputs": [
    {
     "data": {
      "text/plain": [
       "90"
      ]
     },
     "execution_count": 84,
     "metadata": {},
     "output_type": "execute_result"
    }
   ],
   "source": [
    "x.max()"
   ]
  },
  {
   "cell_type": "code",
   "execution_count": 85,
   "metadata": {},
   "outputs": [
    {
     "data": {
      "text/plain": [
       "11"
      ]
     },
     "execution_count": 85,
     "metadata": {},
     "output_type": "execute_result"
    }
   ],
   "source": [
    "x.argmax() # returns index of max element"
   ]
  },
  {
   "cell_type": "code",
   "execution_count": 88,
   "metadata": {},
   "outputs": [
    {
     "data": {
      "text/plain": [
       "7"
      ]
     },
     "execution_count": 88,
     "metadata": {},
     "output_type": "execute_result"
    }
   ],
   "source": [
    "x.argmin() # returns index of min element"
   ]
  }
 ],
 "metadata": {
  "kernelspec": {
   "display_name": "base",
   "language": "python",
   "name": "python3"
  },
  "language_info": {
   "codemirror_mode": {
    "name": "ipython",
    "version": 3
   },
   "file_extension": ".py",
   "mimetype": "text/x-python",
   "name": "python",
   "nbconvert_exporter": "python",
   "pygments_lexer": "ipython3",
   "version": "3.11.4"
  }
 },
 "nbformat": 4,
 "nbformat_minor": 2
}
