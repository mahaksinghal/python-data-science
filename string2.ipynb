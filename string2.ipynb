{
 "cells": [
  {
   "cell_type": "markdown",
   "metadata": {},
   "source": [
    "### Utility Methods"
   ]
  },
  {
   "cell_type": "markdown",
   "metadata": {},
   "source": [
    "### String Operations\n",
    "- find\n",
    "- replace\n",
    "- split\n",
    "- join\n",
    "- strip\n",
    "- count\n",
    "- removeprefix\n",
    "- removesuffix"
   ]
  },
  {
   "cell_type": "code",
   "execution_count": 3,
   "metadata": {},
   "outputs": [],
   "source": [
    "mssg = \"a very normal message in a very normal world\""
   ]
  },
  {
   "cell_type": "code",
   "execution_count": null,
   "metadata": {},
   "outputs": [],
   "source": [
    "print(mssg.find(\"message\"))\n",
    "print(mssg.find(\"normal\"))\n",
    "print(mssg.rfind(\"normal\"))\n",
    "print(mssg.find(\"mor\"))     # -1 will be the output which means it is not present in the text\n",
    "print(mssg.find(\"normal\", 8))\n",
    "print(mssg.find(\"very\"))\n",
    "print(mssg.find(\"in\", 0, 15))       # searching will start and end from 0 to 14 "
   ]
  },
  {
   "cell_type": "code",
   "execution_count": 22,
   "metadata": {},
   "outputs": [
    {
     "name": "stdout",
     "output_type": "stream",
     "text": [
      "a very urgent message in a very urgent world\n",
      "a very urgent message in a very normal world\n",
      "a very normal message in a very urgent world\n",
      "A Very Urgent Message In A Very Urgent City\n"
     ]
    }
   ],
   "source": [
    "print(mssg.replace('normal', 'urgent'))\n",
    "print(mssg.replace('normal', 'urgent', 1))\n",
    "print(mssg[:15]+mssg[15:].replace('normal', 'urgent'))\n",
    "print(mssg.replace('normal', 'urgent').replace('world', 'city').replace('normal', 'urgent').title())\n"
   ]
  },
  {
   "cell_type": "code",
   "execution_count": 5,
   "metadata": {},
   "outputs": [
    {
     "name": "stdout",
     "output_type": "stream",
     "text": [
      "['a', 'very', 'normal', 'message', 'in', 'a', 'very', 'normal', 'world']\n",
      "['a very normal message ', ' a very normal world']\n"
     ]
    }
   ],
   "source": [
    "print(mssg.split())\n",
    "# list(mssg)\n",
    "print(mssg.split('in'))"
   ]
  },
  {
   "cell_type": "code",
   "execution_count": 31,
   "metadata": {},
   "outputs": [
    {
     "name": "stdout",
     "output_type": "stream",
     "text": [
      "<class 'list'>\n"
     ]
    },
    {
     "data": {
      "text/plain": [
       "['world', 'normal', 'very', 'a', 'in', 'message', 'normal', 'very', 'a']"
      ]
     },
     "execution_count": 31,
     "metadata": {},
     "output_type": "execute_result"
    }
   ],
   "source": [
    "m = mssg.split()\n",
    "print(type(m))\n",
    "m[::-1]"
   ]
  },
  {
   "cell_type": "code",
   "execution_count": 32,
   "metadata": {},
   "outputs": [],
   "source": [
    "bmsg = '''This is\n",
    "an example\n",
    "string with some,\n",
    "content in each\n",
    "line of the mssg\n",
    "'''"
   ]
  },
  {
   "cell_type": "code",
   "execution_count": 39,
   "metadata": {},
   "outputs": [
    {
     "name": "stdout",
     "output_type": "stream",
     "text": [
      "['This', 'is', 'an', 'example', 'string', 'with', 'some', 'content', 'in', 'each', 'line', 'of', 'the', 'mssg']\n",
      "['This is ', 'an example ', 'string with some', 'content in each', 'line of the mssg']\n",
      "['This is ', 'an example ', 'string with some', 'content in each', 'line of the mssg', '']\n",
      "['This is \\nan example \\nstring with some\\ncontent in each\\nline of the mssg\\n']\n",
      "['This', 'is', 'an', 'example \\nstring with some\\ncontent in each\\nline of the mssg\\n']\n"
     ]
    }
   ],
   "source": [
    "print(bmsg.split())\n",
    "print(bmsg.splitlines())        # more accurate than print(bmsg.split('\\n'))\n",
    "print(bmsg.split('\\n'))\n",
    "print(bmsg.split(','))\n",
    "print(bmsg.split(maxsplit=3))\n"
   ]
  },
  {
   "cell_type": "code",
   "execution_count": 41,
   "metadata": {},
   "outputs": [],
   "source": [
    "path = [\"C:\",'users','leveno','documents','secretfile.txt']"
   ]
  },
  {
   "cell_type": "code",
   "execution_count": 47,
   "metadata": {},
   "outputs": [
    {
     "name": "stdout",
     "output_type": "stream",
     "text": [
      "C:_users_leveno_documents_secretfile.txt\n",
      "C: users leveno documents secretfile.txt\n",
      "C:-users-leveno-documents-secretfile.txt\n",
      "C:/users/leveno/documents/secretfile.txt\n",
      "C:\\users\\leveno\\documents\\secretfile.txt\n",
      "C:-x-users-x-leveno-x-documents-x-secretfile.txt\n",
      "T h i s   i s   \n",
      " a n   e x a m p l e   \n",
      " s t r i n g   w i t h   s o m e \n",
      " c o n t e n t   i n   e a c h \n",
      " l i n e   o f   t h e   m s s g \n",
      "\n"
     ]
    }
   ],
   "source": [
    "print(\"_\".join(path))\n",
    "print(\" \".join(path))\n",
    "print(\"-\".join(path))\n",
    "print(\"/\".join(path))\n",
    "print(\"\\\\\".join(path))\n",
    "gs = '-x-'\n",
    "print(gs.join(path))\n",
    "print(' '.join(bmsg))\n"
   ]
  },
  {
   "cell_type": "code",
   "execution_count": 49,
   "metadata": {},
   "outputs": [
    {
     "name": "stdout",
     "output_type": "stream",
     "text": [
      "world normal very a in message normal very a\n"
     ]
    }
   ],
   "source": [
    "print(\" \".join(mssg.split()[::-1]))      # reverse the sequence words in a string"
   ]
  },
  {
   "cell_type": "code",
   "execution_count": 52,
   "metadata": {},
   "outputs": [
    {
     "name": "stdout",
     "output_type": "stream",
     "text": [
      "5\n",
      "2\n",
      "2\n"
     ]
    }
   ],
   "source": [
    "print(mssg.count('a'))\n",
    "print(mssg.count('very'))\n",
    "print(mssg.count('very normal'))"
   ]
  },
  {
   "cell_type": "code",
   "execution_count": 55,
   "metadata": {},
   "outputs": [
    {
     "name": "stdout",
     "output_type": "stream",
     "text": [
      "22\n",
      "11\n"
     ]
    }
   ],
   "source": [
    "kacra = \"      hello world     \"\n",
    "cleaned_s = kacra.strip()\n",
    "print(len(kacra))\n",
    "print(len(cleaned_s))"
   ]
  },
  {
   "cell_type": "code",
   "execution_count": 58,
   "metadata": {},
   "outputs": [
    {
     "name": "stdout",
     "output_type": "stream",
     "text": [
      "\n",
      "\n",
      "my content is here\n",
      "\n",
      "\n",
      "\n",
      "23\n",
      "my content is here\n",
      "18\n"
     ]
    }
   ],
   "source": [
    "a = '''\n",
    "\n",
    "my content is here\n",
    "\n",
    "\n",
    "'''\n",
    "print(a)\n",
    "print(len(a))\n",
    "print(a.strip())\n",
    "print(len(a.strip()))\n"
   ]
  },
  {
   "cell_type": "code",
   "execution_count": 61,
   "metadata": {},
   "outputs": [
    {
     "name": "stdout",
     "output_type": "stream",
     "text": [
      "content\n",
      "content!!!!!!!!!!!!\n",
      "!!!!!!!!!!!!!content\n"
     ]
    }
   ],
   "source": [
    "word = '!!!!!!!!!!!!!content!!!!!!!!!!!!'\n",
    "print(word.lstrip('!'))\n",
    "print(word.rstrip('!'))\n",
    "print(word.strip('!'))"
   ]
  },
  {
   "cell_type": "code",
   "execution_count": 64,
   "metadata": {},
   "outputs": [
    {
     "data": {
      "text/plain": [
       "' Suess'"
      ]
     },
     "execution_count": 64,
     "metadata": {},
     "output_type": "execute_result"
    }
   ],
   "source": [
    "name = \"Dr. Suess\"\n",
    "name.removeprefix('Dr. ')"
   ]
  }
 ],
 "metadata": {
  "kernelspec": {
   "display_name": "base",
   "language": "python",
   "name": "python3"
  },
  "language_info": {
   "codemirror_mode": {
    "name": "ipython",
    "version": 3
   },
   "file_extension": ".py",
   "mimetype": "text/x-python",
   "name": "python",
   "nbconvert_exporter": "python",
   "pygments_lexer": "ipython3",
   "version": "3.11.4"
  }
 },
 "nbformat": 4,
 "nbformat_minor": 2
}
