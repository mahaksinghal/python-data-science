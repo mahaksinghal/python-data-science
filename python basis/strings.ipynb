{
 "cells": [
  {
   "cell_type": "markdown",
   "metadata": {},
   "source": [
    "### Strings \n",
    "- indexing\n",
    "- slicing\n",
    "- methods\n",
    "- operations"
   ]
  },
  {
   "cell_type": "code",
   "execution_count": 1,
   "metadata": {},
   "outputs": [
    {
     "data": {
      "text/plain": [
       "11"
      ]
     },
     "execution_count": 1,
     "metadata": {},
     "output_type": "execute_result"
    }
   ],
   "source": [
    "name = \"Shakespeare\"\n",
    "len(name)"
   ]
  },
  {
   "cell_type": "code",
   "execution_count": 8,
   "metadata": {},
   "outputs": [
    {
     "name": "stdout",
     "output_type": "stream",
     "text": [
      "S\n",
      "e\n",
      "h h\n"
     ]
    }
   ],
   "source": [
    "print(name[0])\n",
    "print(name[10])\n",
    "print(name[-10], name[1])\n"
   ]
  },
  {
   "cell_type": "code",
   "execution_count": 29,
   "metadata": {},
   "outputs": [
    {
     "name": "stdout",
     "output_type": "stream",
     "text": [
      "Vijay\n",
      "Vijay\n",
      "Vijay\n",
      "Vijay Deenanath Chauhan\n",
      "Deenanath\n",
      "Deenanath Chauhan\n",
      "Chauhan\n",
      "han\n",
      "Deenanath\n",
      "Deenanath\n",
      "htananeeD\n",
      "nahuahC htananeeD yajiV\n",
      "ia ennt hua\n"
     ]
    }
   ],
   "source": [
    "name = \"Vijay Deenanath Chauhan\"\n",
    "print(name[0]+name[1]+name[2]+name[3]+name[4])\n",
    "print(name[0:5])\n",
    "print(name[:5])\n",
    "print(name[:])\n",
    "print(name[6:15])\n",
    "print(name[6:])\n",
    "print(name[-7:])\n",
    "print(name[-3:])\n",
    "print(name[6:-8])\n",
    "print(name[6: 6+9])\n",
    "print(name[-9:5:-1])\n",
    "print(name[::-1])\n",
    "print(name[1::2])"
   ]
  },
  {
   "cell_type": "code",
   "execution_count": 30,
   "metadata": {},
   "outputs": [],
   "source": [
    "name = \"William Shakespeare\""
   ]
  },
  {
   "cell_type": "code",
   "execution_count": 40,
   "metadata": {},
   "outputs": [
    {
     "name": "stdout",
     "output_type": "stream",
     "text": [
      "William\n",
      "Shake\n",
      "pear\n",
      "spear\n",
      "liam\n",
      "are\n"
     ]
    }
   ],
   "source": [
    "print(name[:7])\n",
    "print(name[8:13])\n",
    "print(name[14:18])\n",
    "print(name[13:18])\n",
    "print(name[3:7])\n",
    "print(name[-3:])"
   ]
  },
  {
   "cell_type": "markdown",
   "metadata": {},
   "source": [
    "#### Methods in String\n",
    "- formatting methods\n",
    "    - upper()\n",
    "    - lower()\n",
    "    - captialize()\n",
    "    ...\n",
    "- validation methods\n",
    "    - isupper()\n",
    "    - islower()\n",
    "    - endswith()\n",
    "    ...\n",
    "- utility methods\n",
    "    - replace()\n",
    "    - find()\n",
    "    - count()\n",
    "    ..."
   ]
  },
  {
   "cell_type": "code",
   "execution_count": 41,
   "metadata": {},
   "outputs": [],
   "source": [
    "name = \"Vijay Deenanath Chauhan\""
   ]
  },
  {
   "cell_type": "code",
   "execution_count": 45,
   "metadata": {},
   "outputs": [
    {
     "name": "stdout",
     "output_type": "stream",
     "text": [
      "Vijay Deenanath Chauhan\n",
      "VIJAY DEENANATH CHAUHAN\n"
     ]
    }
   ],
   "source": [
    "name.upper()\n",
    "nameU = name.upper()\n",
    "print(name)\n",
    "print(nameU)"
   ]
  },
  {
   "cell_type": "code",
   "execution_count": 49,
   "metadata": {},
   "outputs": [
    {
     "name": "stdout",
     "output_type": "stream",
     "text": [
      "VIJAY DEENANATH CHAUHAN\n",
      "vijay deenanath chauhan\n",
      "Vijay deenanath chauhan\n",
      "Vijay Deenanath Chauhan\n",
      "vIJAY dEENANATH cHAUHAN\n",
      "vijay deenanath chauhan\n"
     ]
    }
   ],
   "source": [
    "print(name.upper())\n",
    "print(name.lower())\n",
    "print(name.capitalize())\n",
    "print(name.title())\n",
    "print(name.swapcase())\n",
    "print(name.casefold())      # same as lower"
   ]
  },
  {
   "cell_type": "code",
   "execution_count": 57,
   "metadata": {},
   "outputs": [
    {
     "name": "stdout",
     "output_type": "stream",
     "text": [
      "10 * 15.15 = 151.5\n",
      "10 * 15.15 = 151.5\n"
     ]
    }
   ],
   "source": [
    "x = 10\n",
    "y = 15.15\n",
    "z = x * y\n",
    "print(\"{} * {} = {}\".format(x, y, z))\n",
    "print(f'{x} * {y} = {z}')"
   ]
  },
  {
   "cell_type": "markdown",
   "metadata": {},
   "source": [
    "### Validation Function"
   ]
  },
  {
   "cell_type": "code",
   "execution_count": 62,
   "metadata": {},
   "outputs": [
    {
     "name": "stdout",
     "output_type": "stream",
     "text": [
      "You entered: 24\n",
      "upper: False\n",
      "lower: False\n",
      "title: False\n",
      "alphabets: False\n",
      "alphabets+numbers: True\n",
      "numeric: True\n",
      "whitespaces: False\n",
      "ascii: True\n"
     ]
    }
   ],
   "source": [
    "a = input(\"Enter any value\")\n",
    "print(f'You entered: {a}')\n",
    "print(f'upper: {a.isupper()}')\n",
    "print(f'lower: {a.islower()}')\n",
    "print(f'title: {a.istitle()}')\n",
    "print(f'alphabets: {a.isalpha()}')\n",
    "print(f'alphabets+numbers: {a.isalnum()}')\n",
    "print(f'numeric: {a.isnumeric()}')\n",
    "print(f'whitespaces: {a.isspace()}')\n",
    "print(f'ascii: {a.isascii()}')"
   ]
  },
  {
   "cell_type": "code",
   "execution_count": 3,
   "metadata": {},
   "outputs": [
    {
     "name": "stdout",
     "output_type": "stream",
     "text": [
      "<class 'str'>\n",
      "Very good\n",
      "<class 'int'>\n"
     ]
    }
   ],
   "source": [
    "num = input(\"Enter a number:\")\n",
    "print(type(num))\n",
    "if num.isnumeric():\n",
    "    num = int(num)\n",
    "    print(\"Very good\")\n",
    "    print(type(num))\n",
    "else:\n",
    "    print(\"Enter number only\")"
   ]
  },
  {
   "cell_type": "code",
   "execution_count": 68,
   "metadata": {},
   "outputs": [
    {
     "name": "stdout",
     "output_type": "stream",
     "text": [
      "True\n",
      "False\n",
      "False\n",
      "False\n",
      "True\n",
      "True\n"
     ]
    }
   ],
   "source": [
    "x = \"hello world\"\n",
    "print(x.startswith('he'))\n",
    "print(x.startswith('HE'))\n",
    "print(x.startswith('the'))\n",
    "print(x.startswith('The'))\n",
    "print(x.endswith(\"d\"))\n",
    "print(x.endswith(\"rld\"))"
   ]
  },
  {
   "cell_type": "code",
   "execution_count": 69,
   "metadata": {},
   "outputs": [
    {
     "name": "stdout",
     "output_type": "stream",
     "text": [
      "song.mp3\n",
      "song.mp3\n",
      "song3.mp3\n"
     ]
    }
   ],
   "source": [
    "files = ['song.mp3', 'song.mp3', 'thumb.png', 'song3.mp3', 'song3.ini']\n",
    "for x in files:\n",
    "    if x.endswith('mp3'):\n",
    "        print(x)"
   ]
  }
 ],
 "metadata": {
  "kernelspec": {
   "display_name": "base",
   "language": "python",
   "name": "python3"
  },
  "language_info": {
   "codemirror_mode": {
    "name": "ipython",
    "version": 3
   },
   "file_extension": ".py",
   "mimetype": "text/x-python",
   "name": "python",
   "nbconvert_exporter": "python",
   "pygments_lexer": "ipython3",
   "version": "3.11.4"
  }
 },
 "nbformat": 4,
 "nbformat_minor": 2
}
